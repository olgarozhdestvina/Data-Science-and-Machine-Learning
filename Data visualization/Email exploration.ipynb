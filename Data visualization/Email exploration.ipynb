{
 "cells": [
  {
   "cell_type": "markdown",
   "id": "a520334e",
   "metadata": {},
   "source": [
    "### Email exploration. \n",
    "\n",
    "<br>\n",
    "\n",
    "#### General Setup.\n",
    "___"
   ]
  },
  {
   "cell_type": "code",
   "execution_count": 1,
   "id": "fe2ac993",
   "metadata": {},
   "outputs": [],
   "source": [
    "import numpy as np\n",
    "import pandas as pd\n",
    "import matplotlib.pyplot as plt\n",
    "import matplotlib.cm as cm\n",
    "\n",
    "from IPython import display\n",
    "from ipywidgets import interact, widgets\n",
    "\n",
    "import re\n",
    "import mailbox\n",
    "import csv\n",
    "\n",
    "%matplotlib inline"
   ]
  },
  {
   "cell_type": "code",
   "execution_count": 2,
   "id": "45c81222",
   "metadata": {},
   "outputs": [],
   "source": [
    "plt.rcParams['figure.figsize'] = (10, 6)"
   ]
  },
  {
   "cell_type": "markdown",
   "id": "28c343bb",
   "metadata": {},
   "source": [
    "<br>\n",
    "\n",
    "#### Loading the data.\n",
    "___"
   ]
  },
  {
   "cell_type": "code",
   "execution_count": 3,
   "id": "d9fbbcc8",
   "metadata": {},
   "outputs": [],
   "source": [
    "mbox = mailbox.mbox('../../Inbox.mbox')"
   ]
  },
  {
   "cell_type": "code",
   "execution_count": 4,
   "id": "f4074c46",
   "metadata": {},
   "outputs": [
    {
     "data": {
      "text/plain": [
       "['X-GM-THRID',\n",
       " 'X-Gmail-Labels',\n",
       " 'Delivered-To',\n",
       " 'Received',\n",
       " 'X-Received',\n",
       " 'ARC-Seal',\n",
       " 'ARC-Message-Signature',\n",
       " 'ARC-Authentication-Results',\n",
       " 'Return-Path',\n",
       " 'Received',\n",
       " 'Received-SPF',\n",
       " 'Authentication-Results',\n",
       " 'DKIM-Signature',\n",
       " 'X-Google-DKIM-Signature',\n",
       " 'X-Gm-Message-State',\n",
       " 'X-Google-Smtp-Source',\n",
       " 'MIME-Version',\n",
       " 'X-Received',\n",
       " 'Date',\n",
       " 'X-Account-Notification-Type',\n",
       " 'Feedback-ID',\n",
       " 'X-Notifications',\n",
       " 'Message-ID',\n",
       " 'Subject',\n",
       " 'From',\n",
       " 'To',\n",
       " 'Content-Type']"
      ]
     },
     "execution_count": 4,
     "metadata": {},
     "output_type": "execute_result"
    }
   ],
   "source": [
    "mbox[0].keys()"
   ]
  },
  {
   "cell_type": "code",
   "execution_count": 5,
   "id": "62fdd123",
   "metadata": {},
   "outputs": [],
   "source": [
    "with open('../../mbox.csv', 'w') as outfile:\n",
    "    writer = csv.writer(outfile)\n",
    "    writer.writerow(['subect', 'from', 'to', 'date'])\n",
    "    \n",
    "    for message in mbox:\n",
    "        writer.writerow([message['subject'], message['from'], message['to'], message['date']])"
   ]
  },
  {
   "cell_type": "code",
   "execution_count": 6,
   "id": "fc382ea5",
   "metadata": {},
   "outputs": [
    {
     "data": {
      "text/html": [
       "<div>\n",
       "<style scoped>\n",
       "    .dataframe tbody tr th:only-of-type {\n",
       "        vertical-align: middle;\n",
       "    }\n",
       "\n",
       "    .dataframe tbody tr th {\n",
       "        vertical-align: top;\n",
       "    }\n",
       "\n",
       "    .dataframe thead th {\n",
       "        text-align: right;\n",
       "    }\n",
       "</style>\n",
       "<table border=\"1\" class=\"dataframe\">\n",
       "  <thead>\n",
       "    <tr style=\"text-align: right;\">\n",
       "      <th></th>\n",
       "      <th>subject</th>\n",
       "      <th>from</th>\n",
       "      <th>to</th>\n",
       "      <th>date</th>\n",
       "    </tr>\n",
       "  </thead>\n",
       "  <tbody>\n",
       "    <tr>\n",
       "      <th>0</th>\n",
       "      <td>Why control quickly exactly capital.</td>\n",
       "      <td>\"Vallisneri, Michele (335S)\" &lt;Michele.Vallisne...</td>\n",
       "      <td>\"Trevor Charles\" &lt;zrodriguez@hotmail.com&gt;</td>\n",
       "      <td>Mon, 27 Nov 2017 14:18:46 -0800</td>\n",
       "    </tr>\n",
       "    <tr>\n",
       "      <th>1</th>\n",
       "      <td>Work evidence from really threat sign store see.</td>\n",
       "      <td>Michele Vallisneri &lt;Michele.Vallisneri@jpl.nas...</td>\n",
       "      <td>\"Heather Hernandez\" &lt;patriciagarcia@garcia-car...</td>\n",
       "      <td>Mon, 26 Mar 2018 18:38:16 -0700</td>\n",
       "    </tr>\n",
       "    <tr>\n",
       "      <th>2</th>\n",
       "      <td>Lot where answer the law person.</td>\n",
       "      <td>\"Vallisneri, Michele (335S)\" &lt;michele.vallisne...</td>\n",
       "      <td>Bryce Dudley &lt;hailey63@frazier.com&gt;</td>\n",
       "      <td>Tue, 13 Feb 2018 22:54:50 +0000</td>\n",
       "    </tr>\n",
       "    <tr>\n",
       "      <th>3</th>\n",
       "      <td>Difference hotel yard.</td>\n",
       "      <td>\"Vallisneri, Michele (335S)\" &lt;Michele.Vallisne...</td>\n",
       "      <td>Kathryn Mathis &lt;josephrebecca@grimes.com&gt;</td>\n",
       "      <td>Fri, 26 Jan 2018 11:40:04 -0800</td>\n",
       "    </tr>\n",
       "    <tr>\n",
       "      <th>4</th>\n",
       "      <td>Long level mission energy candidate.</td>\n",
       "      <td>\"Vallisneri, Michele (335S)\" &lt;michele.vallisne...</td>\n",
       "      <td>\"Angela Mendoza\" &lt;rkhan@yahoo.com&gt;</td>\n",
       "      <td>Tue, 31 Oct 2017 00:13:00 +0000</td>\n",
       "    </tr>\n",
       "  </tbody>\n",
       "</table>\n",
       "</div>"
      ],
      "text/plain": [
       "                                            subject  \\\n",
       "0              Why control quickly exactly capital.   \n",
       "1  Work evidence from really threat sign store see.   \n",
       "2                  Lot where answer the law person.   \n",
       "3                            Difference hotel yard.   \n",
       "4              Long level mission energy candidate.   \n",
       "\n",
       "                                                from  \\\n",
       "0  \"Vallisneri, Michele (335S)\" <Michele.Vallisne...   \n",
       "1  Michele Vallisneri <Michele.Vallisneri@jpl.nas...   \n",
       "2  \"Vallisneri, Michele (335S)\" <michele.vallisne...   \n",
       "3  \"Vallisneri, Michele (335S)\" <Michele.Vallisne...   \n",
       "4  \"Vallisneri, Michele (335S)\" <michele.vallisne...   \n",
       "\n",
       "                                                  to  \\\n",
       "0          \"Trevor Charles\" <zrodriguez@hotmail.com>   \n",
       "1  \"Heather Hernandez\" <patriciagarcia@garcia-car...   \n",
       "2                Bryce Dudley <hailey63@frazier.com>   \n",
       "3          Kathryn Mathis <josephrebecca@grimes.com>   \n",
       "4                 \"Angela Mendoza\" <rkhan@yahoo.com>   \n",
       "\n",
       "                              date  \n",
       "0  Mon, 27 Nov 2017 14:18:46 -0800  \n",
       "1  Mon, 26 Mar 2018 18:38:16 -0700  \n",
       "2  Tue, 13 Feb 2018 22:54:50 +0000  \n",
       "3  Fri, 26 Jan 2018 11:40:04 -0800  \n",
       "4  Tue, 31 Oct 2017 00:13:00 +0000  "
      ]
     },
     "execution_count": 6,
     "metadata": {},
     "output_type": "execute_result"
    }
   ],
   "source": [
    "emails = pd.read_csv('../Data/mbox.csv')\n",
    "emails.head()"
   ]
  },
  {
   "cell_type": "code",
   "execution_count": 7,
   "id": "da8e8695",
   "metadata": {},
   "outputs": [
    {
     "name": "stdout",
     "output_type": "stream",
     "text": [
      "<class 'pandas.core.frame.DataFrame'>\n",
      "RangeIndex: 1030 entries, 0 to 1029\n",
      "Data columns (total 4 columns):\n",
      " #   Column   Non-Null Count  Dtype \n",
      "---  ------   --------------  ----- \n",
      " 0   subject  1030 non-null   object\n",
      " 1   from     1029 non-null   object\n",
      " 2   to       1030 non-null   object\n",
      " 3   date     1030 non-null   object\n",
      "dtypes: object(4)\n",
      "memory usage: 32.3+ KB\n"
     ]
    }
   ],
   "source": [
    "emails.info()"
   ]
  },
  {
   "cell_type": "markdown",
   "id": "20815617",
   "metadata": {},
   "source": [
    "<br>\n",
    "\n",
    "#### Work on email addresses.\n",
    "___"
   ]
  },
  {
   "cell_type": "code",
   "execution_count": 8,
   "id": "44481145",
   "metadata": {},
   "outputs": [
    {
     "data": {
      "text/plain": [
       "'\"Vallisneri, Michele (335S)\" <Michele.Vallisneri@jpl.nasa.gov>'"
      ]
     },
     "execution_count": 8,
     "metadata": {},
     "output_type": "execute_result"
    }
   ],
   "source": [
    "emails['from'][0]"
   ]
  },
  {
   "cell_type": "code",
   "execution_count": 9,
   "id": "4a09d51d",
   "metadata": {},
   "outputs": [
    {
     "data": {
      "text/plain": [
       "<re.Match object; span=(29, 62), match='<Michele.Vallisneri@jpl.nasa.gov>'>"
      ]
     },
     "execution_count": 9,
     "metadata": {},
     "output_type": "execute_result"
    }
   ],
   "source": [
    "re.search('<(.+)>', emails['from'][0])"
   ]
  },
  {
   "cell_type": "code",
   "execution_count": 10,
   "id": "aebc70f4",
   "metadata": {},
   "outputs": [
    {
     "data": {
      "text/plain": [
       "'<Michele.Vallisneri@jpl.nasa.gov>'"
      ]
     },
     "execution_count": 10,
     "metadata": {},
     "output_type": "execute_result"
    }
   ],
   "source": [
    "re.search('<(.+)>', emails['from'][0]).group(0)"
   ]
  },
  {
   "cell_type": "code",
   "execution_count": 11,
   "id": "6fe15135",
   "metadata": {},
   "outputs": [
    {
     "data": {
      "text/plain": [
       "'Michele.Vallisneri@jpl.nasa.gov'"
      ]
     },
     "execution_count": 11,
     "metadata": {},
     "output_type": "execute_result"
    }
   ],
   "source": [
    "re.search('<(.+)>', emails['from'][0]).group(1)"
   ]
  },
  {
   "cell_type": "code",
   "execution_count": 12,
   "id": "684cccba",
   "metadata": {},
   "outputs": [],
   "source": [
    "def clean_address(raw):\n",
    "    match = re.search('<(.+)>', raw)\n",
    "    \n",
    "    if match is None:\n",
    "        return raw\n",
    "    return match.group(1)"
   ]
  },
  {
   "cell_type": "code",
   "execution_count": 13,
   "id": "691316bb",
   "metadata": {},
   "outputs": [
    {
     "data": {
      "text/plain": [
       "'Michele.Vallisneri@jpl.nasa.gov'"
      ]
     },
     "execution_count": 13,
     "metadata": {},
     "output_type": "execute_result"
    }
   ],
   "source": [
    "clean_address(emails['from'][0])"
   ]
  },
  {
   "cell_type": "code",
   "execution_count": 14,
   "id": "59229808",
   "metadata": {},
   "outputs": [],
   "source": [
    "emails['from'] = emails['from'].dropna().apply(clean_address)\n",
    "emails['to'] = emails['to'].dropna().apply(clean_address)"
   ]
  },
  {
   "cell_type": "code",
   "execution_count": 15,
   "id": "7c5ba9b5",
   "metadata": {},
   "outputs": [
    {
     "data": {
      "text/html": [
       "<div>\n",
       "<style scoped>\n",
       "    .dataframe tbody tr th:only-of-type {\n",
       "        vertical-align: middle;\n",
       "    }\n",
       "\n",
       "    .dataframe tbody tr th {\n",
       "        vertical-align: top;\n",
       "    }\n",
       "\n",
       "    .dataframe thead th {\n",
       "        text-align: right;\n",
       "    }\n",
       "</style>\n",
       "<table border=\"1\" class=\"dataframe\">\n",
       "  <thead>\n",
       "    <tr style=\"text-align: right;\">\n",
       "      <th></th>\n",
       "      <th>subject</th>\n",
       "      <th>from</th>\n",
       "      <th>to</th>\n",
       "      <th>date</th>\n",
       "    </tr>\n",
       "  </thead>\n",
       "  <tbody>\n",
       "    <tr>\n",
       "      <th>0</th>\n",
       "      <td>Why control quickly exactly capital.</td>\n",
       "      <td>Michele.Vallisneri@jpl.nasa.gov</td>\n",
       "      <td>zrodriguez@hotmail.com</td>\n",
       "      <td>Mon, 27 Nov 2017 14:18:46 -0800</td>\n",
       "    </tr>\n",
       "    <tr>\n",
       "      <th>1</th>\n",
       "      <td>Work evidence from really threat sign store see.</td>\n",
       "      <td>Michele.Vallisneri@jpl.nasa.gov</td>\n",
       "      <td>patriciagarcia@garcia-carney.com</td>\n",
       "      <td>Mon, 26 Mar 2018 18:38:16 -0700</td>\n",
       "    </tr>\n",
       "    <tr>\n",
       "      <th>2</th>\n",
       "      <td>Lot where answer the law person.</td>\n",
       "      <td>michele.vallisneri@jpl.nasa.gov</td>\n",
       "      <td>hailey63@frazier.com</td>\n",
       "      <td>Tue, 13 Feb 2018 22:54:50 +0000</td>\n",
       "    </tr>\n",
       "    <tr>\n",
       "      <th>3</th>\n",
       "      <td>Difference hotel yard.</td>\n",
       "      <td>Michele.Vallisneri@jpl.nasa.gov</td>\n",
       "      <td>josephrebecca@grimes.com</td>\n",
       "      <td>Fri, 26 Jan 2018 11:40:04 -0800</td>\n",
       "    </tr>\n",
       "    <tr>\n",
       "      <th>4</th>\n",
       "      <td>Long level mission energy candidate.</td>\n",
       "      <td>michele.vallisneri@jpl.nasa.gov</td>\n",
       "      <td>rkhan@yahoo.com</td>\n",
       "      <td>Tue, 31 Oct 2017 00:13:00 +0000</td>\n",
       "    </tr>\n",
       "  </tbody>\n",
       "</table>\n",
       "</div>"
      ],
      "text/plain": [
       "                                            subject  \\\n",
       "0              Why control quickly exactly capital.   \n",
       "1  Work evidence from really threat sign store see.   \n",
       "2                  Lot where answer the law person.   \n",
       "3                            Difference hotel yard.   \n",
       "4              Long level mission energy candidate.   \n",
       "\n",
       "                              from                                to  \\\n",
       "0  Michele.Vallisneri@jpl.nasa.gov            zrodriguez@hotmail.com   \n",
       "1  Michele.Vallisneri@jpl.nasa.gov  patriciagarcia@garcia-carney.com   \n",
       "2  michele.vallisneri@jpl.nasa.gov              hailey63@frazier.com   \n",
       "3  Michele.Vallisneri@jpl.nasa.gov          josephrebecca@grimes.com   \n",
       "4  michele.vallisneri@jpl.nasa.gov                   rkhan@yahoo.com   \n",
       "\n",
       "                              date  \n",
       "0  Mon, 27 Nov 2017 14:18:46 -0800  \n",
       "1  Mon, 26 Mar 2018 18:38:16 -0700  \n",
       "2  Tue, 13 Feb 2018 22:54:50 +0000  \n",
       "3  Fri, 26 Jan 2018 11:40:04 -0800  \n",
       "4  Tue, 31 Oct 2017 00:13:00 +0000  "
      ]
     },
     "execution_count": 15,
     "metadata": {},
     "output_type": "execute_result"
    }
   ],
   "source": [
    "emails.head()"
   ]
  },
  {
   "cell_type": "markdown",
   "id": "793066ed",
   "metadata": {},
   "source": [
    "<br>\n",
    "\n",
    "#### Work on dates.\n",
    "\n",
    "___"
   ]
  },
  {
   "cell_type": "code",
   "execution_count": 16,
   "id": "1a3e71f5",
   "metadata": {},
   "outputs": [
    {
     "data": {
      "text/plain": [
       "0       Mon, 27 Nov 2017 14:18:46 -0800\n",
       "1       Mon, 26 Mar 2018 18:38:16 -0700\n",
       "2       Tue, 13 Feb 2018 22:54:50 +0000\n",
       "3       Fri, 26 Jan 2018 11:40:04 -0800\n",
       "4       Tue, 31 Oct 2017 00:13:00 +0000\n",
       "                     ...               \n",
       "1024    Mon, 12 Feb 2018 16:27:24 -0800\n",
       "1025    Mon, 26 Mar 2018 10:40:36 -0700\n",
       "1026     Tue, 6 Mar 2018 21:44:22 -0800\n",
       "1027    Tue, 23 Jan 2018 14:34:19 -0800\n",
       "1028    Wed, 20 Dec 2017 08:28:47 -0800\n",
       "Name: date, Length: 1029, dtype: object"
      ]
     },
     "execution_count": 16,
     "metadata": {},
     "output_type": "execute_result"
    }
   ],
   "source": [
    "emails['date'][:-1]"
   ]
  },
  {
   "cell_type": "code",
   "execution_count": 17,
   "id": "e41aad05",
   "metadata": {},
   "outputs": [
    {
     "data": {
      "text/plain": [
       "'Mon, 27 Nov 2017 14:18:46 -0800'"
      ]
     },
     "execution_count": 17,
     "metadata": {},
     "output_type": "execute_result"
    }
   ],
   "source": [
    "emails['date'][0]"
   ]
  },
  {
   "cell_type": "code",
   "execution_count": 18,
   "id": "ab4b8ba5",
   "metadata": {},
   "outputs": [
    {
     "data": {
      "text/plain": [
       "Timestamp('2018-03-26 18:38:16-0700', tz='America/Los_Angeles')"
      ]
     },
     "execution_count": 18,
     "metadata": {},
     "output_type": "execute_result"
    }
   ],
   "source": [
    "pd.to_datetime(emails['date'][1]).tz_convert('America/Los_Angeles')"
   ]
  },
  {
   "cell_type": "code",
   "execution_count": 19,
   "id": "7f882cbb",
   "metadata": {},
   "outputs": [],
   "source": [
    "emails['date'] = emails['date'].apply(lambda x: pd.to_datetime(x).tz_convert('America/Los_Angeles'))"
   ]
  },
  {
   "cell_type": "code",
   "execution_count": 20,
   "id": "8a5bdb42",
   "metadata": {},
   "outputs": [
    {
     "data": {
      "text/plain": [
       "0   2017-11-27 14:18:46-08:00\n",
       "1   2018-03-26 18:38:16-07:00\n",
       "2   2018-02-13 14:54:50-08:00\n",
       "3   2018-01-26 11:40:04-08:00\n",
       "4   2017-10-30 17:13:00-07:00\n",
       "Name: date, dtype: datetime64[ns, America/Los_Angeles]"
      ]
     },
     "execution_count": 20,
     "metadata": {},
     "output_type": "execute_result"
    }
   ],
   "source": [
    "emails.date.head()"
   ]
  },
  {
   "cell_type": "code",
   "execution_count": 21,
   "id": "46259431",
   "metadata": {},
   "outputs": [
    {
     "data": {
      "text/plain": [
       "(Timestamp('2017-06-30 23:26:52-0700', tz='America/Los_Angeles'),\n",
       " Timestamp('2018-05-13 08:40:20-0700', tz='America/Los_Angeles'))"
      ]
     },
     "execution_count": 21,
     "metadata": {},
     "output_type": "execute_result"
    }
   ],
   "source": [
    "emails.date.min(), emails.date.max()"
   ]
  },
  {
   "cell_type": "code",
   "execution_count": 22,
   "id": "6154385f",
   "metadata": {},
   "outputs": [
    {
     "data": {
      "text/plain": [
       "0     Monday\n",
       "1     Monday\n",
       "2    Tuesday\n",
       "3     Friday\n",
       "4     Monday\n",
       "Name: date, dtype: object"
      ]
     },
     "execution_count": 22,
     "metadata": {},
     "output_type": "execute_result"
    }
   ],
   "source": [
    "emails.date.dt.day_name().head()"
   ]
  },
  {
   "cell_type": "code",
   "execution_count": 23,
   "id": "3b7470c7",
   "metadata": {},
   "outputs": [],
   "source": [
    "emails['dayofweek'] = pd.Categorical(emails['date'].dt.day_name(),\n",
    "                                   ordered=True,\n",
    "                                   categories=['Monday', 'Tuesday', 'Wednesday', 'Thursday', 'Friday', 'Saturday', 'Sunday'])"
   ]
  },
  {
   "cell_type": "code",
   "execution_count": 24,
   "id": "9e8ace6e",
   "metadata": {},
   "outputs": [],
   "source": [
    "emails['timeofday'] = emails['date'].dt.hour + emails['date'].dt.minute / 60"
   ]
  },
  {
   "cell_type": "code",
   "execution_count": 25,
   "id": "8cf28700",
   "metadata": {},
   "outputs": [],
   "source": [
    "emails['nyear'] = emails['date'].dt.year + emails['date'].dt.dayofyear / 365.25 + emails['timeofday']/24/365.25"
   ]
  },
  {
   "cell_type": "code",
   "execution_count": 26,
   "id": "c828de1c",
   "metadata": {},
   "outputs": [
    {
     "data": {
      "text/html": [
       "<div>\n",
       "<style scoped>\n",
       "    .dataframe tbody tr th:only-of-type {\n",
       "        vertical-align: middle;\n",
       "    }\n",
       "\n",
       "    .dataframe tbody tr th {\n",
       "        vertical-align: top;\n",
       "    }\n",
       "\n",
       "    .dataframe thead th {\n",
       "        text-align: right;\n",
       "    }\n",
       "</style>\n",
       "<table border=\"1\" class=\"dataframe\">\n",
       "  <thead>\n",
       "    <tr style=\"text-align: right;\">\n",
       "      <th></th>\n",
       "      <th>subject</th>\n",
       "      <th>from</th>\n",
       "      <th>to</th>\n",
       "      <th>date</th>\n",
       "      <th>dayofweek</th>\n",
       "      <th>timeofday</th>\n",
       "      <th>nyear</th>\n",
       "    </tr>\n",
       "  </thead>\n",
       "  <tbody>\n",
       "    <tr>\n",
       "      <th>0</th>\n",
       "      <td>Why control quickly exactly capital.</td>\n",
       "      <td>Michele.Vallisneri@jpl.nasa.gov</td>\n",
       "      <td>zrodriguez@hotmail.com</td>\n",
       "      <td>2017-11-27 14:18:46-08:00</td>\n",
       "      <td>Monday</td>\n",
       "      <td>14.300000</td>\n",
       "      <td>2017.907860</td>\n",
       "    </tr>\n",
       "    <tr>\n",
       "      <th>1</th>\n",
       "      <td>Work evidence from really threat sign store see.</td>\n",
       "      <td>Michele.Vallisneri@jpl.nasa.gov</td>\n",
       "      <td>patriciagarcia@garcia-carney.com</td>\n",
       "      <td>2018-03-26 18:38:16-07:00</td>\n",
       "      <td>Monday</td>\n",
       "      <td>18.633333</td>\n",
       "      <td>2018.234843</td>\n",
       "    </tr>\n",
       "    <tr>\n",
       "      <th>2</th>\n",
       "      <td>Lot where answer the law person.</td>\n",
       "      <td>michele.vallisneri@jpl.nasa.gov</td>\n",
       "      <td>hailey63@frazier.com</td>\n",
       "      <td>2018-02-13 14:54:50-08:00</td>\n",
       "      <td>Tuesday</td>\n",
       "      <td>14.900000</td>\n",
       "      <td>2018.122165</td>\n",
       "    </tr>\n",
       "    <tr>\n",
       "      <th>3</th>\n",
       "      <td>Difference hotel yard.</td>\n",
       "      <td>Michele.Vallisneri@jpl.nasa.gov</td>\n",
       "      <td>josephrebecca@grimes.com</td>\n",
       "      <td>2018-01-26 11:40:04-08:00</td>\n",
       "      <td>Friday</td>\n",
       "      <td>11.666667</td>\n",
       "      <td>2018.072515</td>\n",
       "    </tr>\n",
       "    <tr>\n",
       "      <th>4</th>\n",
       "      <td>Long level mission energy candidate.</td>\n",
       "      <td>michele.vallisneri@jpl.nasa.gov</td>\n",
       "      <td>rkhan@yahoo.com</td>\n",
       "      <td>2017-10-30 17:13:00-07:00</td>\n",
       "      <td>Monday</td>\n",
       "      <td>17.216667</td>\n",
       "      <td>2017.831533</td>\n",
       "    </tr>\n",
       "  </tbody>\n",
       "</table>\n",
       "</div>"
      ],
      "text/plain": [
       "                                            subject  \\\n",
       "0              Why control quickly exactly capital.   \n",
       "1  Work evidence from really threat sign store see.   \n",
       "2                  Lot where answer the law person.   \n",
       "3                            Difference hotel yard.   \n",
       "4              Long level mission energy candidate.   \n",
       "\n",
       "                              from                                to  \\\n",
       "0  Michele.Vallisneri@jpl.nasa.gov            zrodriguez@hotmail.com   \n",
       "1  Michele.Vallisneri@jpl.nasa.gov  patriciagarcia@garcia-carney.com   \n",
       "2  michele.vallisneri@jpl.nasa.gov              hailey63@frazier.com   \n",
       "3  Michele.Vallisneri@jpl.nasa.gov          josephrebecca@grimes.com   \n",
       "4  michele.vallisneri@jpl.nasa.gov                   rkhan@yahoo.com   \n",
       "\n",
       "                       date dayofweek  timeofday        nyear  \n",
       "0 2017-11-27 14:18:46-08:00    Monday  14.300000  2017.907860  \n",
       "1 2018-03-26 18:38:16-07:00    Monday  18.633333  2018.234843  \n",
       "2 2018-02-13 14:54:50-08:00   Tuesday  14.900000  2018.122165  \n",
       "3 2018-01-26 11:40:04-08:00    Friday  11.666667  2018.072515  \n",
       "4 2017-10-30 17:13:00-07:00    Monday  17.216667  2017.831533  "
      ]
     },
     "execution_count": 26,
     "metadata": {},
     "output_type": "execute_result"
    }
   ],
   "source": [
    "emails.head()"
   ]
  },
  {
   "cell_type": "markdown",
   "id": "6bcde013",
   "metadata": {},
   "source": [
    "<br>\n",
    "\n",
    "#### Plotting.\n",
    "___"
   ]
  },
  {
   "cell_type": "code",
   "execution_count": 27,
   "id": "724052f2",
   "metadata": {},
   "outputs": [
    {
     "data": {
      "image/png": "[encoded data removed]",
      "text/plain": [
       "<Figure size 720x432 with 1 Axes>"
      ]
     },
     "metadata": {
      "needs_background": "light"
     },
     "output_type": "display_data"
    }
   ],
   "source": [
    "emails.plot.scatter('nyear', 'timeofday');"
   ]
  },
  {
   "cell_type": "code",
   "execution_count": 28,
   "id": "9ddb6f61",
   "metadata": {},
   "outputs": [
    {
     "data": {
      "image/png": "[encoded data removed]",
      "text/plain": [
       "<Figure size 720x432 with 1 Axes>"
      ]
     },
     "metadata": {
      "needs_background": "light"
     },
     "output_type": "display_data"
    }
   ],
   "source": [
    "emails.nyear.hist();"
   ]
  },
  {
   "cell_type": "code",
   "execution_count": 29,
   "id": "1927f1d1",
   "metadata": {},
   "outputs": [
    {
     "data": {
      "image/png": "[encoded data removed]",
      "text/plain": [
       "<Figure size 720x432 with 1 Axes>"
      ]
     },
     "metadata": {
      "needs_background": "light"
     },
     "output_type": "display_data"
    }
   ],
   "source": [
    "emails.timeofday.hist();"
   ]
  },
  {
   "cell_type": "code",
   "execution_count": 30,
   "id": "75321cd9",
   "metadata": {},
   "outputs": [
    {
     "data": {
      "text/plain": [
       "Monday       222\n",
       "Tuesday      220\n",
       "Wednesday    211\n",
       "Thursday     172\n",
       "Friday       140\n",
       "Saturday      32\n",
       "Sunday        33\n",
       "Name: dayofweek, dtype: int64"
      ]
     },
     "execution_count": 30,
     "metadata": {},
     "output_type": "execute_result"
    }
   ],
   "source": [
    "counts = emails.dayofweek.value_counts(sort=False)\n",
    "counts"
   ]
  },
  {
   "cell_type": "code",
   "execution_count": 31,
   "id": "2b0a5972",
   "metadata": {},
   "outputs": [
    {
     "data": {
      "image/png": "[encoded data removed]",
      "text/plain": [
       "<Figure size 720x432 with 1 Axes>"
      ]
     },
     "metadata": {
      "needs_background": "light"
     },
     "output_type": "display_data"
    }
   ],
   "source": [
    "counts.plot.barh();"
   ]
  },
  {
   "cell_type": "markdown",
   "id": "9a329297",
   "metadata": {},
   "source": [
    "<br>\n",
    "\n",
    "___\n",
    "\n",
    "#### End."
   ]
  }
 ],
 "metadata": {
  "kernelspec": {
   "display_name": "Python 3",
   "language": "python",
   "name": "python3"
  },
  "language_info": {
   "codemirror_mode": {
    "name": "ipython",
    "version": 3
   },
   "file_extension": ".py",
   "mimetype": "text/x-python",
   "name": "python",
   "nbconvert_exporter": "python",
   "pygments_lexer": "ipython3",
   "version": "3.8.8"
  }
 },
 "nbformat": 4,
 "nbformat_minor": 5
}
