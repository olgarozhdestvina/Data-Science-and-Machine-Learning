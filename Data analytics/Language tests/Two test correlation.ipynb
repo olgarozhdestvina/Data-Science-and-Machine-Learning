{
 "cells": [
  {
   "cell_type": "markdown",
   "id": "1b6e635d",
   "metadata": {},
   "source": [
    "### Two test descriptive statistics and correlation\n",
    "___\n",
    "\n",
    "Using exercises spreadsheets from Designing and Analyzing Language Tests by Oxford.\n",
    "\n",
    "The purpose of this notebook is to calculate the various descriptive statistics, to compute the Peardon $r$ for two tests, and then to calculate the Spearman $p$ for the same pair of tests.\n",
    "\n",
    "*NOTE: both sets of test scores are continuous variables, interval-level data, and rather normally distributed, so it is appropriate to use $r$.*\n",
    "\n",
    "<br>\n",
    "\n",
    "#### General Setup\n",
    "___"
   ]
  },
  {
   "cell_type": "code",
   "execution_count": 1,
   "id": "81c15372",
   "metadata": {},
   "outputs": [],
   "source": [
    "# import libraries\n",
    "import numpy as np\n",
    "import pandas as pd\n",
    "import matplotlib.pyplot as plt\n",
    "from matplotlib_venn import venn2, venn2_circles, venn2_unweighted\n",
    "from matplotlib_venn import venn3, venn3_circles\n",
    "%matplotlib inline"
   ]
  },
  {
   "cell_type": "code",
   "execution_count": 2,
   "id": "2d2471e3",
   "metadata": {},
   "outputs": [],
   "source": [
    "# styling for plots\n",
    "plt.style.use('seaborn-whitegrid')\n",
    "plt.rcParams['figure.figsize'] = (5,4)"
   ]
  },
  {
   "cell_type": "markdown",
   "id": "7ac0fd41",
   "metadata": {},
   "source": [
    "<br>\n",
    "\n",
    "#### Load the data\n",
    "___"
   ]
  },
  {
   "cell_type": "code",
   "execution_count": 3,
   "id": "2794b0d8",
   "metadata": {},
   "outputs": [
    {
     "data": {
      "text/html": [
       "<div>\n",
       "<style scoped>\n",
       "    .dataframe tbody tr th:only-of-type {\n",
       "        vertical-align: middle;\n",
       "    }\n",
       "\n",
       "    .dataframe tbody tr th {\n",
       "        vertical-align: top;\n",
       "    }\n",
       "\n",
       "    .dataframe thead th {\n",
       "        text-align: right;\n",
       "    }\n",
       "</style>\n",
       "<table border=\"1\" class=\"dataframe\">\n",
       "  <thead>\n",
       "    <tr style=\"text-align: right;\">\n",
       "      <th></th>\n",
       "      <th>Student</th>\n",
       "      <th>Test X</th>\n",
       "      <th>Test Y</th>\n",
       "    </tr>\n",
       "  </thead>\n",
       "  <tbody>\n",
       "    <tr>\n",
       "      <th>0</th>\n",
       "      <td>Student01</td>\n",
       "      <td>9</td>\n",
       "      <td>12</td>\n",
       "    </tr>\n",
       "    <tr>\n",
       "      <th>1</th>\n",
       "      <td>Student02</td>\n",
       "      <td>12</td>\n",
       "      <td>12</td>\n",
       "    </tr>\n",
       "    <tr>\n",
       "      <th>2</th>\n",
       "      <td>Student03</td>\n",
       "      <td>5</td>\n",
       "      <td>7</td>\n",
       "    </tr>\n",
       "    <tr>\n",
       "      <th>3</th>\n",
       "      <td>Student04</td>\n",
       "      <td>6</td>\n",
       "      <td>6</td>\n",
       "    </tr>\n",
       "    <tr>\n",
       "      <th>4</th>\n",
       "      <td>Student05</td>\n",
       "      <td>12</td>\n",
       "      <td>14</td>\n",
       "    </tr>\n",
       "  </tbody>\n",
       "</table>\n",
       "</div>"
      ],
      "text/plain": [
       "     Student  Test X  Test Y\n",
       "0  Student01       9      12\n",
       "1  Student02      12      12\n",
       "2  Student03       5       7\n",
       "3  Student04       6       6\n",
       "4  Student05      12      14"
      ]
     },
     "execution_count": 3,
     "metadata": {},
     "output_type": "execute_result"
    }
   ],
   "source": [
    "# loading the data\n",
    "two_tests = pd.read_excel('Data/two_test_descr_stats_and_corr.xlsx')\n",
    "two_tests.head()"
   ]
  },
  {
   "cell_type": "code",
   "execution_count": 4,
   "id": "28a4efb2",
   "metadata": {},
   "outputs": [
    {
     "name": "stdout",
     "output_type": "stream",
     "text": [
      "<class 'pandas.core.frame.DataFrame'>\n",
      "RangeIndex: 30 entries, 0 to 29\n",
      "Data columns (total 3 columns):\n",
      " #   Column   Non-Null Count  Dtype \n",
      "---  ------   --------------  ----- \n",
      " 0   Student  30 non-null     object\n",
      " 1   Test X   30 non-null     int64 \n",
      " 2   Test Y   30 non-null     int64 \n",
      "dtypes: int64(2), object(1)\n",
      "memory usage: 848.0+ bytes\n"
     ]
    }
   ],
   "source": [
    "two_tests.info()"
   ]
  },
  {
   "cell_type": "markdown",
   "id": "7434ad96",
   "metadata": {},
   "source": [
    "<br>\n",
    "\n",
    "#### Descriptive stats\n",
    "___"
   ]
  },
  {
   "cell_type": "code",
   "execution_count": 5,
   "id": "3b250057",
   "metadata": {},
   "outputs": [
    {
     "data": {
      "text/html": [
       "<div>\n",
       "<style scoped>\n",
       "    .dataframe tbody tr th:only-of-type {\n",
       "        vertical-align: middle;\n",
       "    }\n",
       "\n",
       "    .dataframe tbody tr th {\n",
       "        vertical-align: top;\n",
       "    }\n",
       "\n",
       "    .dataframe thead th {\n",
       "        text-align: right;\n",
       "    }\n",
       "</style>\n",
       "<table border=\"1\" class=\"dataframe\">\n",
       "  <thead>\n",
       "    <tr style=\"text-align: right;\">\n",
       "      <th></th>\n",
       "      <th>Test X</th>\n",
       "      <th>Test Y</th>\n",
       "    </tr>\n",
       "  </thead>\n",
       "  <tbody>\n",
       "    <tr>\n",
       "      <th>count</th>\n",
       "      <td>30.000000</td>\n",
       "      <td>30.000000</td>\n",
       "    </tr>\n",
       "    <tr>\n",
       "      <th>mean</th>\n",
       "      <td>10.566667</td>\n",
       "      <td>10.500000</td>\n",
       "    </tr>\n",
       "    <tr>\n",
       "      <th>std</th>\n",
       "      <td>3.793673</td>\n",
       "      <td>3.471559</td>\n",
       "    </tr>\n",
       "    <tr>\n",
       "      <th>min</th>\n",
       "      <td>5.000000</td>\n",
       "      <td>3.000000</td>\n",
       "    </tr>\n",
       "    <tr>\n",
       "      <th>25%</th>\n",
       "      <td>7.250000</td>\n",
       "      <td>8.000000</td>\n",
       "    </tr>\n",
       "    <tr>\n",
       "      <th>50%</th>\n",
       "      <td>10.500000</td>\n",
       "      <td>11.000000</td>\n",
       "    </tr>\n",
       "    <tr>\n",
       "      <th>75%</th>\n",
       "      <td>13.000000</td>\n",
       "      <td>13.750000</td>\n",
       "    </tr>\n",
       "    <tr>\n",
       "      <th>max</th>\n",
       "      <td>17.000000</td>\n",
       "      <td>16.000000</td>\n",
       "    </tr>\n",
       "  </tbody>\n",
       "</table>\n",
       "</div>"
      ],
      "text/plain": [
       "          Test X     Test Y\n",
       "count  30.000000  30.000000\n",
       "mean   10.566667  10.500000\n",
       "std     3.793673   3.471559\n",
       "min     5.000000   3.000000\n",
       "25%     7.250000   8.000000\n",
       "50%    10.500000  11.000000\n",
       "75%    13.000000  13.750000\n",
       "max    17.000000  16.000000"
      ]
     },
     "execution_count": 5,
     "metadata": {},
     "output_type": "execute_result"
    }
   ],
   "source": [
    "# calculate pandas stats and converting it to a dataframe\n",
    "stats = pd.DataFrame([two_tests['Test X'].describe(), two_tests['Test Y'].describe()]).T\n",
    "stats"
   ]
  },
  {
   "cell_type": "code",
   "execution_count": 6,
   "id": "7b08746f",
   "metadata": {},
   "outputs": [
    {
     "name": "stderr",
     "output_type": "stream",
     "text": [
      "C:\\Users\\olga\\anaconda3\\lib\\site-packages\\numpy\\core\\_asarray.py:83: VisibleDeprecationWarning: Creating an ndarray from ragged nested sequences (which is a list-or-tuple of lists-or-tuples-or ndarrays with different lengths or shapes) is deprecated. If you meant to do this, you must specify 'dtype=object' when creating the ndarray\n",
      "  return array(a, dtype, copy=False, order=order)\n"
     ]
    }
   ],
   "source": [
    "# renaming the std to std(sample) and add std for population\n",
    "stats.loc['std(sample)'] = stats.loc['std']\n",
    "stats.loc['std(pop)'] = [two_tests['Test X'].std(ddof=0), two_tests['Test Y'].std(ddof=0)]\n",
    "\n",
    "# renaming the min and max \n",
    "stats.loc['high score'] = stats.loc['max']\n",
    "stats.loc['low score'] = stats.loc['min']\n",
    "stats.loc['n'] = stats.loc['count']\n",
    "\n",
    "# adding other stats\n",
    "stats.loc['mode'] = [two_tests['Test X'].mode().tolist(), two_tests['Test Y'].mode().tolist()]\n",
    "stats.loc['var(sample)'] = [two_tests['Test X'].var(), two_tests['Test Y'].var()/100]\n",
    "stats.loc['var(pop)'] = [two_tests['Test X'].var(ddof=0), two_tests['Test Y'].var(ddof=0)/100]\n",
    "stats.loc['range'] = stats.loc['high score'] - stats.loc['low score'] + 1\n",
    "stats.loc['Q'] = (stats.loc['75%'] - stats.loc['25%']) / 2\n",
    "\n",
    "stats.loc['skewness'] =  [two_tests['Test X'].skew(), two_tests['Test Y'].skew()]\n",
    "n = stats.loc['n'][0]\n",
    "stats.loc['SES'] = np.sqrt((6*n * (n-1)) / ((n-2) * (n+1) * (n+3)))\n",
    "stats.loc['skew/SES'] = stats.loc['skewness'] / stats.loc['SES']\n",
    "stats.loc['kurtosis'] = [two_tests['Test X'].kurt(), two_tests['Test Y'].kurt()]\n",
    "stats.loc['SEK'] = np.sqrt((4*(n**2-1)*stats.loc['SES'][0]**2) / ((n-3)*(n+5)))\n",
    "stats.loc['kurt/SEK'] = stats.loc['kurtosis'] / stats.loc['SEK']\n",
    "\n",
    "# removing not needed lines\n",
    "stats.drop(['std', 'min', 'max', 'count'], axis=0, inplace=True)"
   ]
  },
  {
   "cell_type": "code",
   "execution_count": 7,
   "id": "b77864ad",
   "metadata": {},
   "outputs": [
    {
     "data": {
      "text/html": [
       "<div>\n",
       "<style scoped>\n",
       "    .dataframe tbody tr th:only-of-type {\n",
       "        vertical-align: middle;\n",
       "    }\n",
       "\n",
       "    .dataframe tbody tr th {\n",
       "        vertical-align: top;\n",
       "    }\n",
       "\n",
       "    .dataframe thead th {\n",
       "        text-align: right;\n",
       "    }\n",
       "</style>\n",
       "<table border=\"1\" class=\"dataframe\">\n",
       "  <thead>\n",
       "    <tr style=\"text-align: right;\">\n",
       "      <th></th>\n",
       "      <th>Test X</th>\n",
       "      <th>Test Y</th>\n",
       "    </tr>\n",
       "    <tr>\n",
       "      <th>Statistics</th>\n",
       "      <th></th>\n",
       "      <th></th>\n",
       "    </tr>\n",
       "  </thead>\n",
       "  <tbody>\n",
       "    <tr>\n",
       "      <th>mean</th>\n",
       "      <td>10.566667</td>\n",
       "      <td>10.5</td>\n",
       "    </tr>\n",
       "    <tr>\n",
       "      <th>mode</th>\n",
       "      <td>[9, 13]</td>\n",
       "      <td>[14]</td>\n",
       "    </tr>\n",
       "    <tr>\n",
       "      <th>25%</th>\n",
       "      <td>7.25</td>\n",
       "      <td>8.0</td>\n",
       "    </tr>\n",
       "    <tr>\n",
       "      <th>50%</th>\n",
       "      <td>10.5</td>\n",
       "      <td>11.0</td>\n",
       "    </tr>\n",
       "    <tr>\n",
       "      <th>75%</th>\n",
       "      <td>13.0</td>\n",
       "      <td>13.75</td>\n",
       "    </tr>\n",
       "    <tr>\n",
       "      <th>high score</th>\n",
       "      <td>17.0</td>\n",
       "      <td>16.0</td>\n",
       "    </tr>\n",
       "    <tr>\n",
       "      <th>low score</th>\n",
       "      <td>5.0</td>\n",
       "      <td>3.0</td>\n",
       "    </tr>\n",
       "    <tr>\n",
       "      <th>range</th>\n",
       "      <td>13.0</td>\n",
       "      <td>14.0</td>\n",
       "    </tr>\n",
       "    <tr>\n",
       "      <th>std(pop)</th>\n",
       "      <td>3.729909</td>\n",
       "      <td>3.41321</td>\n",
       "    </tr>\n",
       "    <tr>\n",
       "      <th>std(sample)</th>\n",
       "      <td>3.793673</td>\n",
       "      <td>3.471559</td>\n",
       "    </tr>\n",
       "    <tr>\n",
       "      <th>var(pop)</th>\n",
       "      <td>13.912222</td>\n",
       "      <td>0.1165</td>\n",
       "    </tr>\n",
       "    <tr>\n",
       "      <th>var(sample)</th>\n",
       "      <td>14.391954</td>\n",
       "      <td>0.120517</td>\n",
       "    </tr>\n",
       "    <tr>\n",
       "      <th>Q</th>\n",
       "      <td>2.875</td>\n",
       "      <td>2.875</td>\n",
       "    </tr>\n",
       "    <tr>\n",
       "      <th>n</th>\n",
       "      <td>30.0</td>\n",
       "      <td>30.0</td>\n",
       "    </tr>\n",
       "    <tr>\n",
       "      <th>skewness</th>\n",
       "      <td>0.079861</td>\n",
       "      <td>-0.543083</td>\n",
       "    </tr>\n",
       "    <tr>\n",
       "      <th>SES</th>\n",
       "      <td>0.426892</td>\n",
       "      <td>0.426892</td>\n",
       "    </tr>\n",
       "    <tr>\n",
       "      <th>skew/SES</th>\n",
       "      <td>0.187075</td>\n",
       "      <td>-1.272179</td>\n",
       "    </tr>\n",
       "    <tr>\n",
       "      <th>kurtosis</th>\n",
       "      <td>-1.21391</td>\n",
       "      <td>-0.605747</td>\n",
       "    </tr>\n",
       "    <tr>\n",
       "      <th>SEK</th>\n",
       "      <td>0.832746</td>\n",
       "      <td>0.832746</td>\n",
       "    </tr>\n",
       "    <tr>\n",
       "      <th>kurt/SEK</th>\n",
       "      <td>-1.45772</td>\n",
       "      <td>-0.727409</td>\n",
       "    </tr>\n",
       "  </tbody>\n",
       "</table>\n",
       "</div>"
      ],
      "text/plain": [
       "                Test X    Test Y\n",
       "Statistics                      \n",
       "mean         10.566667      10.5\n",
       "mode           [9, 13]      [14]\n",
       "25%               7.25       8.0\n",
       "50%               10.5      11.0\n",
       "75%               13.0     13.75\n",
       "high score        17.0      16.0\n",
       "low score          5.0       3.0\n",
       "range             13.0      14.0\n",
       "std(pop)      3.729909   3.41321\n",
       "std(sample)   3.793673  3.471559\n",
       "var(pop)     13.912222    0.1165\n",
       "var(sample)  14.391954  0.120517\n",
       "Q                2.875     2.875\n",
       "n                 30.0      30.0\n",
       "skewness      0.079861 -0.543083\n",
       "SES           0.426892  0.426892\n",
       "skew/SES      0.187075 -1.272179\n",
       "kurtosis      -1.21391 -0.605747\n",
       "SEK           0.832746  0.832746\n",
       "kurt/SEK      -1.45772 -0.727409"
      ]
     },
     "execution_count": 7,
     "metadata": {},
     "output_type": "execute_result"
    }
   ],
   "source": [
    "# round all stats to two decimal points and changing the order\n",
    "stats = np.round(stats, 3)\n",
    "stats = stats.reindex(index = ['mean','mode','25%', '50%', '75%', 'high score', 'low score', \n",
    "                       'range', 'std(pop)', 'std(sample)', 'var(pop)', 'var(sample)', 'Q', 'n',\n",
    "                      'skewness', 'SES', 'skew/SES','kurtosis', 'SEK', 'kurt/SEK'])\n",
    "stats.index.name = 'Statistics'\n",
    "stats"
   ]
  },
  {
   "cell_type": "markdown",
   "id": "4a89ee84",
   "metadata": {},
   "source": [
    "<br>\n",
    "\n",
    "#### Correlation\n",
    "___"
   ]
  },
  {
   "cell_type": "code",
   "execution_count": 8,
   "id": "284fe65c",
   "metadata": {},
   "outputs": [
    {
     "data": {
      "text/html": [
       "<div>\n",
       "<style scoped>\n",
       "    .dataframe tbody tr th:only-of-type {\n",
       "        vertical-align: middle;\n",
       "    }\n",
       "\n",
       "    .dataframe tbody tr th {\n",
       "        vertical-align: top;\n",
       "    }\n",
       "\n",
       "    .dataframe thead th {\n",
       "        text-align: right;\n",
       "    }\n",
       "</style>\n",
       "<table border=\"1\" class=\"dataframe\">\n",
       "  <thead>\n",
       "    <tr style=\"text-align: right;\">\n",
       "      <th></th>\n",
       "      <th>Test X</th>\n",
       "      <th>Test Y</th>\n",
       "    </tr>\n",
       "    <tr>\n",
       "      <th>Pearson</th>\n",
       "      <th></th>\n",
       "      <th></th>\n",
       "    </tr>\n",
       "  </thead>\n",
       "  <tbody>\n",
       "    <tr>\n",
       "      <th>Test X</th>\n",
       "      <td>1.000000</td>\n",
       "      <td>0.757995</td>\n",
       "    </tr>\n",
       "    <tr>\n",
       "      <th>Test Y</th>\n",
       "      <td>0.757995</td>\n",
       "      <td>1.000000</td>\n",
       "    </tr>\n",
       "  </tbody>\n",
       "</table>\n",
       "</div>"
      ],
      "text/plain": [
       "           Test X    Test Y\n",
       "Pearson                    \n",
       "Test X   1.000000  0.757995\n",
       "Test Y   0.757995  1.000000"
      ]
     },
     "execution_count": 8,
     "metadata": {},
     "output_type": "execute_result"
    }
   ],
   "source": [
    "# Pearson correlation\n",
    "pearson = two_tests.corr(method='pearson')\n",
    "pearson.index.name = 'Pearson'\n",
    "pearson"
   ]
  },
  {
   "cell_type": "code",
   "execution_count": 9,
   "id": "503dd34a",
   "metadata": {},
   "outputs": [
    {
     "data": {
      "text/html": [
       "<div>\n",
       "<style scoped>\n",
       "    .dataframe tbody tr th:only-of-type {\n",
       "        vertical-align: middle;\n",
       "    }\n",
       "\n",
       "    .dataframe tbody tr th {\n",
       "        vertical-align: top;\n",
       "    }\n",
       "\n",
       "    .dataframe thead th {\n",
       "        text-align: right;\n",
       "    }\n",
       "</style>\n",
       "<table border=\"1\" class=\"dataframe\">\n",
       "  <thead>\n",
       "    <tr style=\"text-align: right;\">\n",
       "      <th></th>\n",
       "      <th>Test X</th>\n",
       "      <th>Test Y</th>\n",
       "    </tr>\n",
       "    <tr>\n",
       "      <th>Spearman</th>\n",
       "      <th></th>\n",
       "      <th></th>\n",
       "    </tr>\n",
       "  </thead>\n",
       "  <tbody>\n",
       "    <tr>\n",
       "      <th>Test X</th>\n",
       "      <td>1.000000</td>\n",
       "      <td>0.775093</td>\n",
       "    </tr>\n",
       "    <tr>\n",
       "      <th>Test Y</th>\n",
       "      <td>0.775093</td>\n",
       "      <td>1.000000</td>\n",
       "    </tr>\n",
       "  </tbody>\n",
       "</table>\n",
       "</div>"
      ],
      "text/plain": [
       "            Test X    Test Y\n",
       "Spearman                    \n",
       "Test X    1.000000  0.775093\n",
       "Test Y    0.775093  1.000000"
      ]
     },
     "execution_count": 9,
     "metadata": {},
     "output_type": "execute_result"
    }
   ],
   "source": [
    "# Spearman correlation\n",
    "spearman = two_tests.corr(method='spearman')\n",
    "spearman.index.name = 'Spearman'\n",
    "spearman"
   ]
  },
  {
   "cell_type": "code",
   "execution_count": 10,
   "id": "4183f1b0",
   "metadata": {},
   "outputs": [
    {
     "data": {
      "text/html": [
       "<div>\n",
       "<style scoped>\n",
       "    .dataframe tbody tr th:only-of-type {\n",
       "        vertical-align: middle;\n",
       "    }\n",
       "\n",
       "    .dataframe tbody tr th {\n",
       "        vertical-align: top;\n",
       "    }\n",
       "\n",
       "    .dataframe thead th {\n",
       "        text-align: right;\n",
       "    }\n",
       "</style>\n",
       "<table border=\"1\" class=\"dataframe\">\n",
       "  <thead>\n",
       "    <tr style=\"text-align: right;\">\n",
       "      <th></th>\n",
       "      <th>r^2</th>\n",
       "    </tr>\n",
       "  </thead>\n",
       "  <tbody>\n",
       "    <tr>\n",
       "      <th>0</th>\n",
       "      <td>0.574556</td>\n",
       "    </tr>\n",
       "  </tbody>\n",
       "</table>\n",
       "</div>"
      ],
      "text/plain": [
       "        r^2\n",
       "0  0.574556"
      ]
     },
     "execution_count": 10,
     "metadata": {},
     "output_type": "execute_result"
    }
   ],
   "source": [
    "# calculate r squared\n",
    "r2 = pd.DataFrame({'r^2': [pearson.values[0][1] ** 2]})\n",
    "r2"
   ]
  },
  {
   "cell_type": "markdown",
   "id": "d4de1b5c",
   "metadata": {},
   "source": [
    "<br>\n",
    "\n",
    "#### Plotting\n",
    "___"
   ]
  },
  {
   "cell_type": "code",
   "execution_count": 11,
   "id": "a1d681b9",
   "metadata": {},
   "outputs": [
    {
     "data": {
      "image/png": "[encoded data removed]",
      "text/plain": [
       "<Figure size 360x288 with 1 Axes>"
      ]
     },
     "metadata": {},
     "output_type": "display_data"
    }
   ],
   "source": [
    "# calculate the trendline\n",
    "z = np.polyfit(two_tests['Test X'], two_tests['Test Y'], 1)\n",
    "p = np.poly1d(z)\n",
    "\n",
    "# plot the correlation between two sets of scores\n",
    "fig, ax = plt.subplots()\n",
    "fig.suptitle(\"Correlation Between Two Sets Of Test Scores\", fontweight='bold', fontsize=13,y=1.01)\n",
    "ax.scatter(x=two_tests['Test X'], y=two_tests['Test Y'], c='lightblue', s=100, marker='d', edgecolor='k')\n",
    "ax.plot(two_tests['Test X'], p(two_tests['Test X']), c='r')\n",
    "\n",
    "# styling of plot\n",
    "ax.set(title=f'(y = {z[0]:.6f}x + {z[1]:.6f})',\n",
    "      xlabel='Text X',\n",
    "      ylabel='Test Y')\n",
    "\n",
    "plt.savefig('Data/Correlation Between Two Sets Of Test Scores.png', bbox_inches='tight');"
   ]
  },
  {
   "cell_type": "code",
   "execution_count": 12,
   "id": "a13808d0",
   "metadata": {},
   "outputs": [
    {
     "data": {
      "image/png": "[encoded data removed]",
      "text/plain": [
       "<Figure size 360x288 with 1 Axes>"
      ]
     },
     "metadata": {},
     "output_type": "display_data"
    }
   ],
   "source": [
    "# define overlap and uniqueness\n",
    "overlap = np.around(r2.values[0][0]*100, 1)\n",
    "unique = np.around(100 - overlap, 1)\n",
    "\n",
    "# plot venn diagram\n",
    "venn2(subsets = (unique, unique, overlap), set_labels = ('Test X', 'Test Y'), set_colors=('orange', 'skyblue'), alpha = 0.7)\n",
    "plt.title('Venn Diagran For Two Tests', fontweight='bold', fontsize=13)\n",
    "plt.savefig('Data/Venn Diagran For Two Tests.png', bbox_inches='tight');"
   ]
  },
  {
   "cell_type": "markdown",
   "id": "29ccad2a",
   "metadata": {},
   "source": [
    "<br>\n",
    "\n",
    "#### Saving the results\n",
    "___"
   ]
  },
  {
   "cell_type": "code",
   "execution_count": 13,
   "id": "afa8cd7e",
   "metadata": {},
   "outputs": [],
   "source": [
    "# write and save 5 dataframes to the excel file \n",
    "writer = pd.ExcelWriter('Data/two_test_correlation_analysis.xlsx', engine='xlsxwriter')\n",
    "two_tests.to_excel(writer, index = False)\n",
    "stats.to_excel(writer, startcol=len(two_tests.columns)+2, index=True)\n",
    "pearson.to_excel(writer, startcol=len(two_tests.columns)+2, startrow=len(stats)+3, index=True)\n",
    "spearman.to_excel(writer, startrow=len(pearson)+len(stats)+5, startcol=len(two_tests.columns)+2, index=True)\n",
    "r2.to_excel(writer, startrow=len(pearson)+len(stats)+9, startcol=len(two_tests.columns)+2, index=False)\n",
    "\n",
    "# insert the image into the worksheet\n",
    "workbook = writer.book\n",
    "worksheet = writer.sheets['Sheet1']\n",
    "worksheet.insert_image('J1', 'Data/Correlation Between Two Sets Of Test Scores.png')\n",
    "worksheet.insert_image('J22', 'Data/Venn Diagran For Two Tests.png')\n",
    "\n",
    "# styling\n",
    "column_settings = [{'header': column} for column in two_tests.columns]\n",
    "(max_row, max_col) = two_tests.shape\n",
    "worksheet.add_table(0, 0, max_row, max_col - 1, {'columns': column_settings})\n",
    "\n",
    "writer.save()"
   ]
  },
  {
   "cell_type": "markdown",
   "id": "6eb44f09",
   "metadata": {},
   "source": [
    "<br>\n",
    "\n",
    "___\n",
    "#### End."
   ]
  }
 ],
 "metadata": {
  "kernelspec": {
   "display_name": "Python 3",
   "language": "python",
   "name": "python3"
  },
  "language_info": {
   "codemirror_mode": {
    "name": "ipython",
    "version": 3
   },
   "file_extension": ".py",
   "mimetype": "text/x-python",
   "name": "python",
   "nbconvert_exporter": "python",
   "pygments_lexer": "ipython3",
   "version": "3.8.11"
  }
 },
 "nbformat": 4,
 "nbformat_minor": 5
}
