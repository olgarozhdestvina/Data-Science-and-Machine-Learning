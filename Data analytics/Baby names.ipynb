{
 "cells": [
  {
   "cell_type": "markdown",
   "id": "642a5662",
   "metadata": {},
   "source": [
    "#### General setup.\n",
    "___"
   ]
  },
  {
   "cell_type": "code",
   "execution_count": 1,
   "id": "b201d6f2",
   "metadata": {},
   "outputs": [],
   "source": [
    "import pandas as pd\n",
    "import numpy as np\n",
    "import matplotlib.pyplot as plt\n",
    "import seaborn as sns\n",
    "import zipfile\n",
    "import os\n",
    "\n",
    "%matplotlib inline"
   ]
  },
  {
   "cell_type": "code",
   "execution_count": 2,
   "id": "400cb11f",
   "metadata": {},
   "outputs": [],
   "source": [
    "plt.style.use('seaborn')\n",
    "plt.rcParams['figure.figsize'] = (12, 4)"
   ]
  },
  {
   "cell_type": "markdown",
   "id": "1d9c60e0",
   "metadata": {},
   "source": [
    "<br>\n",
    "\n",
    "#### Loading the data.\n",
    "___"
   ]
  },
  {
   "cell_type": "code",
   "execution_count": 3,
   "id": "2f0cef95",
   "metadata": {},
   "outputs": [],
   "source": [
    "# unzip the file containing data\n",
    "zipfile.ZipFile('../Data/names.zip').extractall('.')"
   ]
  },
  {
   "cell_type": "code",
   "execution_count": 4,
   "id": "3d1545c9",
   "metadata": {},
   "outputs": [
    {
     "data": {
      "text/plain": [
       "['NationalReadMe.pdf',\n",
       " 'yob1880.txt',\n",
       " 'yob1881.txt',\n",
       " 'yob1882.txt',\n",
       " 'yob1883.txt',\n",
       " 'yob1884.txt',\n",
       " 'yob1885.txt',\n",
       " 'yob1886.txt',\n",
       " 'yob1887.txt',\n",
       " 'yob1888.txt',\n",
       " 'yob1889.txt',\n",
       " 'yob1890.txt',\n",
       " 'yob1891.txt',\n",
       " 'yob1892.txt',\n",
       " 'yob1893.txt',\n",
       " 'yob1894.txt',\n",
       " 'yob1895.txt',\n",
       " 'yob1896.txt',\n",
       " 'yob1897.txt',\n",
       " 'yob1898.txt',\n",
       " 'yob1899.txt',\n",
       " 'yob1900.txt',\n",
       " 'yob1901.txt',\n",
       " 'yob1902.txt',\n",
       " 'yob1903.txt',\n",
       " 'yob1904.txt',\n",
       " 'yob1905.txt',\n",
       " 'yob1906.txt',\n",
       " 'yob1907.txt',\n",
       " 'yob1908.txt',\n",
       " 'yob1909.txt',\n",
       " 'yob1910.txt',\n",
       " 'yob1911.txt',\n",
       " 'yob1912.txt',\n",
       " 'yob1913.txt',\n",
       " 'yob1914.txt',\n",
       " 'yob1915.txt',\n",
       " 'yob1916.txt',\n",
       " 'yob1917.txt',\n",
       " 'yob1918.txt',\n",
       " 'yob1919.txt',\n",
       " 'yob1920.txt',\n",
       " 'yob1921.txt',\n",
       " 'yob1922.txt',\n",
       " 'yob1923.txt',\n",
       " 'yob1924.txt',\n",
       " 'yob1925.txt',\n",
       " 'yob1926.txt',\n",
       " 'yob1927.txt',\n",
       " 'yob1928.txt',\n",
       " 'yob1929.txt',\n",
       " 'yob1930.txt',\n",
       " 'yob1931.txt',\n",
       " 'yob1932.txt',\n",
       " 'yob1933.txt',\n",
       " 'yob1934.txt',\n",
       " 'yob1935.txt',\n",
       " 'yob1936.txt',\n",
       " 'yob1937.txt',\n",
       " 'yob1938.txt',\n",
       " 'yob1939.txt',\n",
       " 'yob1940.txt',\n",
       " 'yob1941.txt',\n",
       " 'yob1942.txt',\n",
       " 'yob1943.txt',\n",
       " 'yob1944.txt',\n",
       " 'yob1945.txt',\n",
       " 'yob1946.txt',\n",
       " 'yob1947.txt',\n",
       " 'yob1948.txt',\n",
       " 'yob1949.txt',\n",
       " 'yob1950.txt',\n",
       " 'yob1951.txt',\n",
       " 'yob1952.txt',\n",
       " 'yob1953.txt',\n",
       " 'yob1954.txt',\n",
       " 'yob1955.txt',\n",
       " 'yob1956.txt',\n",
       " 'yob1957.txt',\n",
       " 'yob1958.txt',\n",
       " 'yob1959.txt',\n",
       " 'yob1960.txt',\n",
       " 'yob1961.txt',\n",
       " 'yob1962.txt',\n",
       " 'yob1963.txt',\n",
       " 'yob1964.txt',\n",
       " 'yob1965.txt',\n",
       " 'yob1966.txt',\n",
       " 'yob1967.txt',\n",
       " 'yob1968.txt',\n",
       " 'yob1969.txt',\n",
       " 'yob1970.txt',\n",
       " 'yob1971.txt',\n",
       " 'yob1972.txt',\n",
       " 'yob1973.txt',\n",
       " 'yob1974.txt',\n",
       " 'yob1975.txt',\n",
       " 'yob1976.txt',\n",
       " 'yob1977.txt',\n",
       " 'yob1978.txt',\n",
       " 'yob1979.txt',\n",
       " 'yob1980.txt',\n",
       " 'yob1981.txt',\n",
       " 'yob1982.txt',\n",
       " 'yob1983.txt',\n",
       " 'yob1984.txt',\n",
       " 'yob1985.txt',\n",
       " 'yob1986.txt',\n",
       " 'yob1987.txt',\n",
       " 'yob1988.txt',\n",
       " 'yob1989.txt',\n",
       " 'yob1990.txt',\n",
       " 'yob1991.txt',\n",
       " 'yob1992.txt',\n",
       " 'yob1993.txt',\n",
       " 'yob1994.txt',\n",
       " 'yob1995.txt',\n",
       " 'yob1996.txt',\n",
       " 'yob1997.txt',\n",
       " 'yob1998.txt',\n",
       " 'yob1999.txt',\n",
       " 'yob2000.txt',\n",
       " 'yob2001.txt',\n",
       " 'yob2002.txt',\n",
       " 'yob2003.txt',\n",
       " 'yob2004.txt',\n",
       " 'yob2005.txt',\n",
       " 'yob2006.txt',\n",
       " 'yob2007.txt',\n",
       " 'yob2008.txt',\n",
       " 'yob2009.txt',\n",
       " 'yob2010.txt',\n",
       " 'yob2011.txt',\n",
       " 'yob2012.txt',\n",
       " 'yob2013.txt',\n",
       " 'yob2014.txt']"
      ]
     },
     "execution_count": 4,
     "metadata": {},
     "output_type": "execute_result"
    }
   ],
   "source": [
    "# list all files\n",
    "os.listdir('names')"
   ]
  },
  {
   "cell_type": "code",
   "execution_count": 5,
   "id": "3531f832",
   "metadata": {},
   "outputs": [
    {
     "data": {
      "text/plain": [
       "['Sophia,F,21816\\n',\n",
       " 'Isabella,F,19870\\n',\n",
       " 'Emma,F,18777\\n',\n",
       " 'Olivia,F,17294\\n',\n",
       " 'Ava,F,15480\\n',\n",
       " 'Emily,F,14236\\n',\n",
       " 'Abigail,F,13229\\n',\n",
       " 'Madison,F,12360\\n',\n",
       " 'Mia,F,11512\\n',\n",
       " 'Chloe,F,10970\\n']"
      ]
     },
     "execution_count": 5,
     "metadata": {},
     "output_type": "execute_result"
    }
   ],
   "source": [
    "# checking oone of the files\n",
    "open('names/yob2011.txt', 'r').readlines()[:10]"
   ]
  },
  {
   "cell_type": "code",
   "execution_count": 6,
   "id": "fbd6a3e3",
   "metadata": {},
   "outputs": [
    {
     "data": {
      "text/html": [
       "<div>\n",
       "<style scoped>\n",
       "    .dataframe tbody tr th:only-of-type {\n",
       "        vertical-align: middle;\n",
       "    }\n",
       "\n",
       "    .dataframe tbody tr th {\n",
       "        vertical-align: top;\n",
       "    }\n",
       "\n",
       "    .dataframe thead th {\n",
       "        text-align: right;\n",
       "    }\n",
       "</style>\n",
       "<table border=\"1\" class=\"dataframe\">\n",
       "  <thead>\n",
       "    <tr style=\"text-align: right;\">\n",
       "      <th></th>\n",
       "      <th>name</th>\n",
       "      <th>sex</th>\n",
       "      <th>number</th>\n",
       "    </tr>\n",
       "  </thead>\n",
       "  <tbody>\n",
       "    <tr>\n",
       "      <th>0</th>\n",
       "      <td>Sophia</td>\n",
       "      <td>F</td>\n",
       "      <td>21816</td>\n",
       "    </tr>\n",
       "    <tr>\n",
       "      <th>1</th>\n",
       "      <td>Isabella</td>\n",
       "      <td>F</td>\n",
       "      <td>19870</td>\n",
       "    </tr>\n",
       "    <tr>\n",
       "      <th>2</th>\n",
       "      <td>Emma</td>\n",
       "      <td>F</td>\n",
       "      <td>18777</td>\n",
       "    </tr>\n",
       "    <tr>\n",
       "      <th>3</th>\n",
       "      <td>Olivia</td>\n",
       "      <td>F</td>\n",
       "      <td>17294</td>\n",
       "    </tr>\n",
       "    <tr>\n",
       "      <th>4</th>\n",
       "      <td>Ava</td>\n",
       "      <td>F</td>\n",
       "      <td>15480</td>\n",
       "    </tr>\n",
       "  </tbody>\n",
       "</table>\n",
       "</div>"
      ],
      "text/plain": [
       "       name sex  number\n",
       "0    Sophia   F   21816\n",
       "1  Isabella   F   19870\n",
       "2      Emma   F   18777\n",
       "3    Olivia   F   17294\n",
       "4       Ava   F   15480"
      ]
     },
     "execution_count": 6,
     "metadata": {},
     "output_type": "execute_result"
    }
   ],
   "source": [
    "# loading the same file with pandas\n",
    "names2011 = pd.read_csv('names/yob2011.txt', names=['name', 'sex', 'number'])\n",
    "names2011.head()"
   ]
  },
  {
   "cell_type": "code",
   "execution_count": 7,
   "id": "9435a98b",
   "metadata": {},
   "outputs": [],
   "source": [
    "# creating a list of data from all files by year\n",
    "names_all = []\n",
    "\n",
    "for year in range(1880, 2015):\n",
    "    names_all.append(pd.read_csv(f'names/yob{year}.txt', names=['name', 'sex', 'number']))\n",
    "    names_all[-1]['year'] = year\n",
    "    \n",
    "# feeding the list to pandas     \n",
    "all_years = pd.concat(names_all)"
   ]
  },
  {
   "cell_type": "code",
   "execution_count": 8,
   "id": "488dca8e",
   "metadata": {},
   "outputs": [
    {
     "data": {
      "text/html": [
       "<div>\n",
       "<style scoped>\n",
       "    .dataframe tbody tr th:only-of-type {\n",
       "        vertical-align: middle;\n",
       "    }\n",
       "\n",
       "    .dataframe tbody tr th {\n",
       "        vertical-align: top;\n",
       "    }\n",
       "\n",
       "    .dataframe thead th {\n",
       "        text-align: right;\n",
       "    }\n",
       "</style>\n",
       "<table border=\"1\" class=\"dataframe\">\n",
       "  <thead>\n",
       "    <tr style=\"text-align: right;\">\n",
       "      <th></th>\n",
       "      <th>name</th>\n",
       "      <th>sex</th>\n",
       "      <th>number</th>\n",
       "      <th>year</th>\n",
       "    </tr>\n",
       "  </thead>\n",
       "  <tbody>\n",
       "    <tr>\n",
       "      <th>0</th>\n",
       "      <td>Mary</td>\n",
       "      <td>F</td>\n",
       "      <td>7065</td>\n",
       "      <td>1880</td>\n",
       "    </tr>\n",
       "    <tr>\n",
       "      <th>1</th>\n",
       "      <td>Anna</td>\n",
       "      <td>F</td>\n",
       "      <td>2604</td>\n",
       "      <td>1880</td>\n",
       "    </tr>\n",
       "    <tr>\n",
       "      <th>2</th>\n",
       "      <td>Emma</td>\n",
       "      <td>F</td>\n",
       "      <td>2003</td>\n",
       "      <td>1880</td>\n",
       "    </tr>\n",
       "    <tr>\n",
       "      <th>3</th>\n",
       "      <td>Elizabeth</td>\n",
       "      <td>F</td>\n",
       "      <td>1939</td>\n",
       "      <td>1880</td>\n",
       "    </tr>\n",
       "    <tr>\n",
       "      <th>4</th>\n",
       "      <td>Minnie</td>\n",
       "      <td>F</td>\n",
       "      <td>1746</td>\n",
       "      <td>1880</td>\n",
       "    </tr>\n",
       "  </tbody>\n",
       "</table>\n",
       "</div>"
      ],
      "text/plain": [
       "        name sex  number  year\n",
       "0       Mary   F    7065  1880\n",
       "1       Anna   F    2604  1880\n",
       "2       Emma   F    2003  1880\n",
       "3  Elizabeth   F    1939  1880\n",
       "4     Minnie   F    1746  1880"
      ]
     },
     "execution_count": 8,
     "metadata": {},
     "output_type": "execute_result"
    }
   ],
   "source": [
    "all_years.head()"
   ]
  },
  {
   "cell_type": "code",
   "execution_count": 9,
   "id": "6554be5d",
   "metadata": {},
   "outputs": [
    {
     "data": {
      "text/html": [
       "<div>\n",
       "<style scoped>\n",
       "    .dataframe tbody tr th:only-of-type {\n",
       "        vertical-align: middle;\n",
       "    }\n",
       "\n",
       "    .dataframe tbody tr th {\n",
       "        vertical-align: top;\n",
       "    }\n",
       "\n",
       "    .dataframe thead th {\n",
       "        text-align: right;\n",
       "    }\n",
       "</style>\n",
       "<table border=\"1\" class=\"dataframe\">\n",
       "  <thead>\n",
       "    <tr style=\"text-align: right;\">\n",
       "      <th></th>\n",
       "      <th>name</th>\n",
       "      <th>sex</th>\n",
       "      <th>number</th>\n",
       "      <th>year</th>\n",
       "    </tr>\n",
       "  </thead>\n",
       "  <tbody>\n",
       "    <tr>\n",
       "      <th>33039</th>\n",
       "      <td>Zykeem</td>\n",
       "      <td>M</td>\n",
       "      <td>5</td>\n",
       "      <td>2014</td>\n",
       "    </tr>\n",
       "    <tr>\n",
       "      <th>33040</th>\n",
       "      <td>Zymeer</td>\n",
       "      <td>M</td>\n",
       "      <td>5</td>\n",
       "      <td>2014</td>\n",
       "    </tr>\n",
       "    <tr>\n",
       "      <th>33041</th>\n",
       "      <td>Zymiere</td>\n",
       "      <td>M</td>\n",
       "      <td>5</td>\n",
       "      <td>2014</td>\n",
       "    </tr>\n",
       "    <tr>\n",
       "      <th>33042</th>\n",
       "      <td>Zyran</td>\n",
       "      <td>M</td>\n",
       "      <td>5</td>\n",
       "      <td>2014</td>\n",
       "    </tr>\n",
       "    <tr>\n",
       "      <th>33043</th>\n",
       "      <td>Zyrin</td>\n",
       "      <td>M</td>\n",
       "      <td>5</td>\n",
       "      <td>2014</td>\n",
       "    </tr>\n",
       "  </tbody>\n",
       "</table>\n",
       "</div>"
      ],
      "text/plain": [
       "          name sex  number  year\n",
       "33039   Zykeem   M       5  2014\n",
       "33040   Zymeer   M       5  2014\n",
       "33041  Zymiere   M       5  2014\n",
       "33042    Zyran   M       5  2014\n",
       "33043    Zyrin   M       5  2014"
      ]
     },
     "execution_count": 9,
     "metadata": {},
     "output_type": "execute_result"
    }
   ],
   "source": [
    "all_years.tail()"
   ]
  },
  {
   "cell_type": "markdown",
   "id": "14a99c44",
   "metadata": {},
   "source": [
    "<br>\n",
    "\n",
    "#### Popularity.\n",
    "___"
   ]
  },
  {
   "cell_type": "code",
   "execution_count": 10,
   "id": "275c52ab",
   "metadata": {},
   "outputs": [
    {
     "data": {
      "text/html": [
       "<div>\n",
       "<style scoped>\n",
       "    .dataframe tbody tr th:only-of-type {\n",
       "        vertical-align: middle;\n",
       "    }\n",
       "\n",
       "    .dataframe tbody tr th {\n",
       "        vertical-align: top;\n",
       "    }\n",
       "\n",
       "    .dataframe thead th {\n",
       "        text-align: right;\n",
       "    }\n",
       "</style>\n",
       "<table border=\"1\" class=\"dataframe\">\n",
       "  <thead>\n",
       "    <tr style=\"text-align: right;\">\n",
       "      <th></th>\n",
       "      <th></th>\n",
       "      <th></th>\n",
       "      <th>number</th>\n",
       "    </tr>\n",
       "    <tr>\n",
       "      <th>sex</th>\n",
       "      <th>name</th>\n",
       "      <th>year</th>\n",
       "      <th></th>\n",
       "    </tr>\n",
       "  </thead>\n",
       "  <tbody>\n",
       "    <tr>\n",
       "      <th rowspan=\"5\" valign=\"top\">F</th>\n",
       "      <th rowspan=\"3\" valign=\"top\">Aabha</th>\n",
       "      <th>2011</th>\n",
       "      <td>7</td>\n",
       "    </tr>\n",
       "    <tr>\n",
       "      <th>2012</th>\n",
       "      <td>5</td>\n",
       "    </tr>\n",
       "    <tr>\n",
       "      <th>2014</th>\n",
       "      <td>9</td>\n",
       "    </tr>\n",
       "    <tr>\n",
       "      <th rowspan=\"2\" valign=\"top\">Aabriella</th>\n",
       "      <th>2008</th>\n",
       "      <td>5</td>\n",
       "    </tr>\n",
       "    <tr>\n",
       "      <th>2014</th>\n",
       "      <td>5</td>\n",
       "    </tr>\n",
       "    <tr>\n",
       "      <th>...</th>\n",
       "      <th>...</th>\n",
       "      <th>...</th>\n",
       "      <td>...</td>\n",
       "    </tr>\n",
       "    <tr>\n",
       "      <th rowspan=\"5\" valign=\"top\">M</th>\n",
       "      <th rowspan=\"2\" valign=\"top\">Zytavious</th>\n",
       "      <th>2009</th>\n",
       "      <td>7</td>\n",
       "    </tr>\n",
       "    <tr>\n",
       "      <th>2010</th>\n",
       "      <td>6</td>\n",
       "    </tr>\n",
       "    <tr>\n",
       "      <th>Zyvion</th>\n",
       "      <th>2009</th>\n",
       "      <td>5</td>\n",
       "    </tr>\n",
       "    <tr>\n",
       "      <th>Zyyon</th>\n",
       "      <th>2014</th>\n",
       "      <td>6</td>\n",
       "    </tr>\n",
       "    <tr>\n",
       "      <th>Zzyzx</th>\n",
       "      <th>2010</th>\n",
       "      <td>5</td>\n",
       "    </tr>\n",
       "  </tbody>\n",
       "</table>\n",
       "<p>1825433 rows × 1 columns</p>\n",
       "</div>"
      ],
      "text/plain": [
       "                    number\n",
       "sex name      year        \n",
       "F   Aabha     2011       7\n",
       "              2012       5\n",
       "              2014       9\n",
       "    Aabriella 2008       5\n",
       "              2014       5\n",
       "...                    ...\n",
       "M   Zytavious 2009       7\n",
       "              2010       6\n",
       "    Zyvion    2009       5\n",
       "    Zyyon     2014       6\n",
       "    Zzyzx     2010       5\n",
       "\n",
       "[1825433 rows x 1 columns]"
      ]
     },
     "execution_count": 10,
     "metadata": {},
     "output_type": "execute_result"
    }
   ],
   "source": [
    "# add a multiindex to the data set\n",
    "all_years_indexed = all_years.set_index(['sex', 'name', 'year']).sort_index()\n",
    "all_years_indexed"
   ]
  },
  {
   "cell_type": "code",
   "execution_count": 11,
   "id": "90611ccf",
   "metadata": {},
   "outputs": [
    {
     "data": {
      "text/html": [
       "<div>\n",
       "<style scoped>\n",
       "    .dataframe tbody tr th:only-of-type {\n",
       "        vertical-align: middle;\n",
       "    }\n",
       "\n",
       "    .dataframe tbody tr th {\n",
       "        vertical-align: top;\n",
       "    }\n",
       "\n",
       "    .dataframe thead th {\n",
       "        text-align: right;\n",
       "    }\n",
       "</style>\n",
       "<table border=\"1\" class=\"dataframe\">\n",
       "  <thead>\n",
       "    <tr style=\"text-align: right;\">\n",
       "      <th></th>\n",
       "      <th>number</th>\n",
       "    </tr>\n",
       "    <tr>\n",
       "      <th>year</th>\n",
       "      <th></th>\n",
       "    </tr>\n",
       "  </thead>\n",
       "  <tbody>\n",
       "    <tr>\n",
       "      <th>1880</th>\n",
       "      <td>7065</td>\n",
       "    </tr>\n",
       "    <tr>\n",
       "      <th>1881</th>\n",
       "      <td>6919</td>\n",
       "    </tr>\n",
       "    <tr>\n",
       "      <th>1882</th>\n",
       "      <td>8148</td>\n",
       "    </tr>\n",
       "    <tr>\n",
       "      <th>1883</th>\n",
       "      <td>8012</td>\n",
       "    </tr>\n",
       "    <tr>\n",
       "      <th>1884</th>\n",
       "      <td>9217</td>\n",
       "    </tr>\n",
       "    <tr>\n",
       "      <th>...</th>\n",
       "      <td>...</td>\n",
       "    </tr>\n",
       "    <tr>\n",
       "      <th>2010</th>\n",
       "      <td>2862</td>\n",
       "    </tr>\n",
       "    <tr>\n",
       "      <th>2011</th>\n",
       "      <td>2701</td>\n",
       "    </tr>\n",
       "    <tr>\n",
       "      <th>2012</th>\n",
       "      <td>2565</td>\n",
       "    </tr>\n",
       "    <tr>\n",
       "      <th>2013</th>\n",
       "      <td>2632</td>\n",
       "    </tr>\n",
       "    <tr>\n",
       "      <th>2014</th>\n",
       "      <td>2611</td>\n",
       "    </tr>\n",
       "  </tbody>\n",
       "</table>\n",
       "<p>135 rows × 1 columns</p>\n",
       "</div>"
      ],
      "text/plain": [
       "      number\n",
       "year        \n",
       "1880    7065\n",
       "1881    6919\n",
       "1882    8148\n",
       "1883    8012\n",
       "1884    9217\n",
       "...      ...\n",
       "2010    2862\n",
       "2011    2701\n",
       "2012    2565\n",
       "2013    2632\n",
       "2014    2611\n",
       "\n",
       "[135 rows x 1 columns]"
      ]
     },
     "execution_count": 11,
     "metadata": {},
     "output_type": "execute_result"
    }
   ],
   "source": [
    "# select all data for Mary\n",
    "all_years_indexed.loc['F', 'Mary']"
   ]
  },
  {
   "cell_type": "code",
   "execution_count": 12,
   "id": "2804a503",
   "metadata": {},
   "outputs": [],
   "source": [
    "def plot_name(sex, name):\n",
    "    \"\"\" Function to plot a name by index \"\"\"\n",
    "    data = all_years_indexed.loc[sex,name]\n",
    "    \n",
    "    plt.plot(data.index, data.values)\n",
    "    plt.title(name)"
   ]
  },
  {
   "cell_type": "code",
   "execution_count": 13,
   "id": "9805dffd",
   "metadata": {},
   "outputs": [
    {
     "data": {
      "image/png": "[encoded data removed]",
      "text/plain": [
       "<Figure size 864x288 with 1 Axes>"
      ]
     },
     "metadata": {},
     "output_type": "display_data"
    }
   ],
   "source": [
    "plot_name('F', 'Mary')"
   ]
  },
  {
   "cell_type": "code",
   "execution_count": 14,
   "id": "ff5bd234",
   "metadata": {},
   "outputs": [
    {
     "data": {
      "image/png": "[encoded data removed]",
      "text/plain": [
       "<Figure size 864x288 with 1 Axes>"
      ]
     },
     "metadata": {},
     "output_type": "display_data"
    }
   ],
   "source": [
    "# plot for name popularity for each male name below.\n",
    "names = ['Michael', 'John', 'David', 'Martin']\n",
    "\n",
    "for name in names:\n",
    "    plot_name('M', name)\n",
    "\n",
    "plt.legend(names);"
   ]
  },
  {
   "cell_type": "code",
   "execution_count": 15,
   "id": "ed4da76d",
   "metadata": {},
   "outputs": [
    {
     "data": {
      "image/png": "[encoded data removed]",
      "text/plain": [
       "<Figure size 864x288 with 1 Axes>"
      ]
     },
     "metadata": {},
     "output_type": "display_data"
    }
   ],
   "source": [
    "# same for females\n",
    "names = ['Emma', 'Anna', 'Claire', 'Elizabeth']\n",
    "\n",
    "for name in names:\n",
    "    plot_name('F', name)\n",
    "    \n",
    "plt.legend(names);"
   ]
  },
  {
   "cell_type": "code",
   "execution_count": 16,
   "id": "90fad2ea",
   "metadata": {},
   "outputs": [
    {
     "data": {
      "image/png": "[encoded data removed]",
      "text/plain": [
       "<Figure size 864x288 with 1 Axes>"
      ]
     },
     "metadata": {},
     "output_type": "display_data"
    }
   ],
   "source": [
    "# the same for variants for name 'Claire'\n",
    "names = ['Ciara', 'Chiara', 'Clare', 'Claire', 'Clara']\n",
    "\n",
    "for name in names:\n",
    "    plot_name('F', name)\n",
    "    \n",
    "plt.legend(names);"
   ]
  },
  {
   "cell_type": "code",
   "execution_count": 17,
   "id": "2a54dfc0",
   "metadata": {
    "scrolled": true
   },
   "outputs": [
    {
     "data": {
      "text/html": [
       "<div>\n",
       "<style scoped>\n",
       "    .dataframe tbody tr th:only-of-type {\n",
       "        vertical-align: middle;\n",
       "    }\n",
       "\n",
       "    .dataframe tbody tr th {\n",
       "        vertical-align: top;\n",
       "    }\n",
       "\n",
       "    .dataframe thead th {\n",
       "        text-align: right;\n",
       "    }\n",
       "</style>\n",
       "<table border=\"1\" class=\"dataframe\">\n",
       "  <thead>\n",
       "    <tr style=\"text-align: right;\">\n",
       "      <th></th>\n",
       "      <th></th>\n",
       "      <th>number</th>\n",
       "    </tr>\n",
       "    <tr>\n",
       "      <th>name</th>\n",
       "      <th>year</th>\n",
       "      <th></th>\n",
       "    </tr>\n",
       "  </thead>\n",
       "  <tbody>\n",
       "    <tr>\n",
       "      <th rowspan=\"5\" valign=\"top\">Ciara</th>\n",
       "      <th>1972</th>\n",
       "      <td>5</td>\n",
       "    </tr>\n",
       "    <tr>\n",
       "      <th>1974</th>\n",
       "      <td>16</td>\n",
       "    </tr>\n",
       "    <tr>\n",
       "      <th>1975</th>\n",
       "      <td>26</td>\n",
       "    </tr>\n",
       "    <tr>\n",
       "      <th>1976</th>\n",
       "      <td>26</td>\n",
       "    </tr>\n",
       "    <tr>\n",
       "      <th>1977</th>\n",
       "      <td>36</td>\n",
       "    </tr>\n",
       "  </tbody>\n",
       "</table>\n",
       "</div>"
      ],
      "text/plain": [
       "            number\n",
       "name  year        \n",
       "Ciara 1972       5\n",
       "      1974      16\n",
       "      1975      26\n",
       "      1976      26\n",
       "      1977      36"
      ]
     },
     "execution_count": 17,
     "metadata": {},
     "output_type": "execute_result"
    }
   ],
   "source": [
    "# check the data set for the variants\n",
    "all_years_indexed.loc['F'].loc[names].head()"
   ]
  },
  {
   "cell_type": "code",
   "execution_count": 18,
   "id": "1e9ddca0",
   "metadata": {},
   "outputs": [
    {
     "data": {
      "text/html": [
       "<div>\n",
       "<style scoped>\n",
       "    .dataframe tbody tr th:only-of-type {\n",
       "        vertical-align: middle;\n",
       "    }\n",
       "\n",
       "    .dataframe tbody tr th {\n",
       "        vertical-align: top;\n",
       "    }\n",
       "\n",
       "    .dataframe thead tr th {\n",
       "        text-align: left;\n",
       "    }\n",
       "\n",
       "    .dataframe thead tr:last-of-type th {\n",
       "        text-align: right;\n",
       "    }\n",
       "</style>\n",
       "<table border=\"1\" class=\"dataframe\">\n",
       "  <thead>\n",
       "    <tr>\n",
       "      <th></th>\n",
       "      <th colspan=\"5\" halign=\"left\">number</th>\n",
       "    </tr>\n",
       "    <tr>\n",
       "      <th>name</th>\n",
       "      <th>Ciara</th>\n",
       "      <th>Chiara</th>\n",
       "      <th>Clare</th>\n",
       "      <th>Claire</th>\n",
       "      <th>Clara</th>\n",
       "    </tr>\n",
       "    <tr>\n",
       "      <th>year</th>\n",
       "      <th></th>\n",
       "      <th></th>\n",
       "      <th></th>\n",
       "      <th></th>\n",
       "      <th></th>\n",
       "    </tr>\n",
       "  </thead>\n",
       "  <tbody>\n",
       "    <tr>\n",
       "      <th>1880</th>\n",
       "      <td>NaN</td>\n",
       "      <td>NaN</td>\n",
       "      <td>15.0</td>\n",
       "      <td>21.0</td>\n",
       "      <td>1226.0</td>\n",
       "    </tr>\n",
       "    <tr>\n",
       "      <th>1881</th>\n",
       "      <td>NaN</td>\n",
       "      <td>NaN</td>\n",
       "      <td>20.0</td>\n",
       "      <td>23.0</td>\n",
       "      <td>1242.0</td>\n",
       "    </tr>\n",
       "    <tr>\n",
       "      <th>1882</th>\n",
       "      <td>NaN</td>\n",
       "      <td>NaN</td>\n",
       "      <td>21.0</td>\n",
       "      <td>30.0</td>\n",
       "      <td>1490.0</td>\n",
       "    </tr>\n",
       "    <tr>\n",
       "      <th>1883</th>\n",
       "      <td>NaN</td>\n",
       "      <td>NaN</td>\n",
       "      <td>22.0</td>\n",
       "      <td>38.0</td>\n",
       "      <td>1548.0</td>\n",
       "    </tr>\n",
       "    <tr>\n",
       "      <th>1884</th>\n",
       "      <td>NaN</td>\n",
       "      <td>NaN</td>\n",
       "      <td>38.0</td>\n",
       "      <td>33.0</td>\n",
       "      <td>1852.0</td>\n",
       "    </tr>\n",
       "  </tbody>\n",
       "</table>\n",
       "</div>"
      ],
      "text/plain": [
       "     number                            \n",
       "name  Ciara Chiara Clare Claire   Clara\n",
       "year                                   \n",
       "1880    NaN    NaN  15.0   21.0  1226.0\n",
       "1881    NaN    NaN  20.0   23.0  1242.0\n",
       "1882    NaN    NaN  21.0   30.0  1490.0\n",
       "1883    NaN    NaN  22.0   38.0  1548.0\n",
       "1884    NaN    NaN  38.0   33.0  1852.0"
      ]
     },
     "execution_count": 18,
     "metadata": {},
     "output_type": "execute_result"
    }
   ],
   "source": [
    "# unstack it \n",
    "all_years_indexed.loc['F'].loc[names].unstack(level=0).head()"
   ]
  },
  {
   "cell_type": "code",
   "execution_count": 19,
   "id": "6fedaa77",
   "metadata": {},
   "outputs": [
    {
     "data": {
      "text/html": [
       "<div>\n",
       "<style scoped>\n",
       "    .dataframe tbody tr th:only-of-type {\n",
       "        vertical-align: middle;\n",
       "    }\n",
       "\n",
       "    .dataframe tbody tr th {\n",
       "        vertical-align: top;\n",
       "    }\n",
       "\n",
       "    .dataframe thead tr th {\n",
       "        text-align: left;\n",
       "    }\n",
       "\n",
       "    .dataframe thead tr:last-of-type th {\n",
       "        text-align: right;\n",
       "    }\n",
       "</style>\n",
       "<table border=\"1\" class=\"dataframe\">\n",
       "  <thead>\n",
       "    <tr>\n",
       "      <th></th>\n",
       "      <th colspan=\"5\" halign=\"left\">number</th>\n",
       "    </tr>\n",
       "    <tr>\n",
       "      <th>name</th>\n",
       "      <th>Ciara</th>\n",
       "      <th>Chiara</th>\n",
       "      <th>Clare</th>\n",
       "      <th>Claire</th>\n",
       "      <th>Clara</th>\n",
       "    </tr>\n",
       "    <tr>\n",
       "      <th>year</th>\n",
       "      <th></th>\n",
       "      <th></th>\n",
       "      <th></th>\n",
       "      <th></th>\n",
       "      <th></th>\n",
       "    </tr>\n",
       "  </thead>\n",
       "  <tbody>\n",
       "    <tr>\n",
       "      <th>1880</th>\n",
       "      <td>0.0</td>\n",
       "      <td>0.0</td>\n",
       "      <td>15.0</td>\n",
       "      <td>21.0</td>\n",
       "      <td>1226.0</td>\n",
       "    </tr>\n",
       "    <tr>\n",
       "      <th>1881</th>\n",
       "      <td>0.0</td>\n",
       "      <td>0.0</td>\n",
       "      <td>20.0</td>\n",
       "      <td>23.0</td>\n",
       "      <td>1242.0</td>\n",
       "    </tr>\n",
       "    <tr>\n",
       "      <th>1882</th>\n",
       "      <td>0.0</td>\n",
       "      <td>0.0</td>\n",
       "      <td>21.0</td>\n",
       "      <td>30.0</td>\n",
       "      <td>1490.0</td>\n",
       "    </tr>\n",
       "    <tr>\n",
       "      <th>1883</th>\n",
       "      <td>0.0</td>\n",
       "      <td>0.0</td>\n",
       "      <td>22.0</td>\n",
       "      <td>38.0</td>\n",
       "      <td>1548.0</td>\n",
       "    </tr>\n",
       "    <tr>\n",
       "      <th>1884</th>\n",
       "      <td>0.0</td>\n",
       "      <td>0.0</td>\n",
       "      <td>38.0</td>\n",
       "      <td>33.0</td>\n",
       "      <td>1852.0</td>\n",
       "    </tr>\n",
       "  </tbody>\n",
       "</table>\n",
       "</div>"
      ],
      "text/plain": [
       "     number                            \n",
       "name  Ciara Chiara Clare Claire   Clara\n",
       "year                                   \n",
       "1880    0.0    0.0  15.0   21.0  1226.0\n",
       "1881    0.0    0.0  20.0   23.0  1242.0\n",
       "1882    0.0    0.0  21.0   30.0  1490.0\n",
       "1883    0.0    0.0  22.0   38.0  1548.0\n",
       "1884    0.0    0.0  38.0   33.0  1852.0"
      ]
     },
     "execution_count": 19,
     "metadata": {},
     "output_type": "execute_result"
    }
   ],
   "source": [
    "# and fill NaN values with zeros\n",
    "variants = all_years_indexed.loc['F'].loc[names].unstack(level=0).fillna(0)\n",
    "variants.head()"
   ]
  },
  {
   "cell_type": "code",
   "execution_count": 20,
   "id": "c628e9e9",
   "metadata": {},
   "outputs": [
    {
     "data": {
      "image/png": "[encoded data removed]",
      "text/plain": [
       "<Figure size 864x288 with 1 Axes>"
      ]
     },
     "metadata": {},
     "output_type": "display_data"
    }
   ],
   "source": [
    "# plot the data with stackplot\n",
    "plt.stackplot(variants.index, variants.values.T)\n",
    "plt.legend(names, loc=2)\n",
    "plt.xlim(1880, 2014);"
   ]
  },
  {
   "cell_type": "markdown",
   "id": "4f0037e8",
   "metadata": {},
   "source": [
    "<br>\n",
    "\n",
    "#### A yearly top ten.\n",
    "___"
   ]
  },
  {
   "cell_type": "code",
   "execution_count": 21,
   "id": "f632aabd",
   "metadata": {},
   "outputs": [
    {
     "data": {
      "text/html": [
       "<div>\n",
       "<style scoped>\n",
       "    .dataframe tbody tr th:only-of-type {\n",
       "        vertical-align: middle;\n",
       "    }\n",
       "\n",
       "    .dataframe tbody tr th {\n",
       "        vertical-align: top;\n",
       "    }\n",
       "\n",
       "    .dataframe thead th {\n",
       "        text-align: right;\n",
       "    }\n",
       "</style>\n",
       "<table border=\"1\" class=\"dataframe\">\n",
       "  <thead>\n",
       "    <tr style=\"text-align: right;\">\n",
       "      <th></th>\n",
       "      <th></th>\n",
       "      <th></th>\n",
       "      <th>number</th>\n",
       "    </tr>\n",
       "    <tr>\n",
       "      <th>sex</th>\n",
       "      <th>name</th>\n",
       "      <th>year</th>\n",
       "      <th></th>\n",
       "    </tr>\n",
       "  </thead>\n",
       "  <tbody>\n",
       "    <tr>\n",
       "      <th rowspan=\"10\" valign=\"top\">M</th>\n",
       "      <th>Jacob</th>\n",
       "      <th>2008</th>\n",
       "      <td>22568</td>\n",
       "    </tr>\n",
       "    <tr>\n",
       "      <th>Michael</th>\n",
       "      <th>2008</th>\n",
       "      <td>20590</td>\n",
       "    </tr>\n",
       "    <tr>\n",
       "      <th>Ethan</th>\n",
       "      <th>2008</th>\n",
       "      <td>20196</td>\n",
       "    </tr>\n",
       "    <tr>\n",
       "      <th>Joshua</th>\n",
       "      <th>2008</th>\n",
       "      <td>19186</td>\n",
       "    </tr>\n",
       "    <tr>\n",
       "      <th>Daniel</th>\n",
       "      <th>2008</th>\n",
       "      <td>18985</td>\n",
       "    </tr>\n",
       "    <tr>\n",
       "      <th>Alexander</th>\n",
       "      <th>2008</th>\n",
       "      <td>18679</td>\n",
       "    </tr>\n",
       "    <tr>\n",
       "      <th>William</th>\n",
       "      <th>2008</th>\n",
       "      <td>18380</td>\n",
       "    </tr>\n",
       "    <tr>\n",
       "      <th>Anthony</th>\n",
       "      <th>2008</th>\n",
       "      <td>18378</td>\n",
       "    </tr>\n",
       "    <tr>\n",
       "      <th>Christopher</th>\n",
       "      <th>2008</th>\n",
       "      <td>17928</td>\n",
       "    </tr>\n",
       "    <tr>\n",
       "      <th>Matthew</th>\n",
       "      <th>2008</th>\n",
       "      <td>17573</td>\n",
       "    </tr>\n",
       "  </tbody>\n",
       "</table>\n",
       "</div>"
      ],
      "text/plain": [
       "                      number\n",
       "sex name        year        \n",
       "M   Jacob       2008   22568\n",
       "    Michael     2008   20590\n",
       "    Ethan       2008   20196\n",
       "    Joshua      2008   19186\n",
       "    Daniel      2008   18985\n",
       "    Alexander   2008   18679\n",
       "    William     2008   18380\n",
       "    Anthony     2008   18378\n",
       "    Christopher 2008   17928\n",
       "    Matthew     2008   17573"
      ]
     },
     "execution_count": 21,
     "metadata": {},
     "output_type": "execute_result"
    }
   ],
   "source": [
    "# select all male names for 2008 and sort them by number\n",
    "pop2008 = all_years_indexed.loc['M', :, 2008].sort_values('number', ascending=False).head(10)\n",
    "pop2008"
   ]
  },
  {
   "cell_type": "code",
   "execution_count": 22,
   "id": "6c154cc9",
   "metadata": {},
   "outputs": [
    {
     "data": {
      "text/html": [
       "<div>\n",
       "<style scoped>\n",
       "    .dataframe tbody tr th:only-of-type {\n",
       "        vertical-align: middle;\n",
       "    }\n",
       "\n",
       "    .dataframe tbody tr th {\n",
       "        vertical-align: top;\n",
       "    }\n",
       "\n",
       "    .dataframe thead th {\n",
       "        text-align: right;\n",
       "    }\n",
       "</style>\n",
       "<table border=\"1\" class=\"dataframe\">\n",
       "  <thead>\n",
       "    <tr style=\"text-align: right;\">\n",
       "      <th></th>\n",
       "      <th>name</th>\n",
       "      <th>number</th>\n",
       "    </tr>\n",
       "  </thead>\n",
       "  <tbody>\n",
       "    <tr>\n",
       "      <th>0</th>\n",
       "      <td>Jacob</td>\n",
       "      <td>22568</td>\n",
       "    </tr>\n",
       "    <tr>\n",
       "      <th>1</th>\n",
       "      <td>Michael</td>\n",
       "      <td>20590</td>\n",
       "    </tr>\n",
       "    <tr>\n",
       "      <th>2</th>\n",
       "      <td>Ethan</td>\n",
       "      <td>20196</td>\n",
       "    </tr>\n",
       "    <tr>\n",
       "      <th>3</th>\n",
       "      <td>Joshua</td>\n",
       "      <td>19186</td>\n",
       "    </tr>\n",
       "    <tr>\n",
       "      <th>4</th>\n",
       "      <td>Daniel</td>\n",
       "      <td>18985</td>\n",
       "    </tr>\n",
       "    <tr>\n",
       "      <th>5</th>\n",
       "      <td>Alexander</td>\n",
       "      <td>18679</td>\n",
       "    </tr>\n",
       "    <tr>\n",
       "      <th>6</th>\n",
       "      <td>William</td>\n",
       "      <td>18380</td>\n",
       "    </tr>\n",
       "    <tr>\n",
       "      <th>7</th>\n",
       "      <td>Anthony</td>\n",
       "      <td>18378</td>\n",
       "    </tr>\n",
       "    <tr>\n",
       "      <th>8</th>\n",
       "      <td>Christopher</td>\n",
       "      <td>17928</td>\n",
       "    </tr>\n",
       "    <tr>\n",
       "      <th>9</th>\n",
       "      <td>Matthew</td>\n",
       "      <td>17573</td>\n",
       "    </tr>\n",
       "  </tbody>\n",
       "</table>\n",
       "</div>"
      ],
      "text/plain": [
       "          name  number\n",
       "0        Jacob   22568\n",
       "1      Michael   20590\n",
       "2        Ethan   20196\n",
       "3       Joshua   19186\n",
       "4       Daniel   18985\n",
       "5    Alexander   18679\n",
       "6      William   18380\n",
       "7      Anthony   18378\n",
       "8  Christopher   17928\n",
       "9      Matthew   17573"
      ]
     },
     "execution_count": 22,
     "metadata": {},
     "output_type": "execute_result"
    }
   ],
   "source": [
    "# Drop sex and year columns\n",
    "pop2008.reset_index().drop(['sex', 'year'], axis=1)"
   ]
  },
  {
   "cell_type": "code",
   "execution_count": 23,
   "id": "10f5dcc8",
   "metadata": {},
   "outputs": [],
   "source": [
    "def top_ten(sex, year):\n",
    "    \"\"\" Function to select top ten names in any years \"\"\"\n",
    "    \n",
    "    data = all_years_indexed.loc[sex, :, year].sort_values('number', ascending=False)\n",
    "    data = data.reset_index().drop(['sex','year', 'number'],axis=1).head(10)\n",
    "    \n",
    "    data.index = data.index + 1\n",
    "    data.columns = [year]\n",
    "    \n",
    "    return data"
   ]
  },
  {
   "cell_type": "code",
   "execution_count": 24,
   "id": "7698d383",
   "metadata": {},
   "outputs": [
    {
     "data": {
      "text/html": [
       "<div>\n",
       "<style scoped>\n",
       "    .dataframe tbody tr th:only-of-type {\n",
       "        vertical-align: middle;\n",
       "    }\n",
       "\n",
       "    .dataframe tbody tr th {\n",
       "        vertical-align: top;\n",
       "    }\n",
       "\n",
       "    .dataframe thead th {\n",
       "        text-align: right;\n",
       "    }\n",
       "</style>\n",
       "<table border=\"1\" class=\"dataframe\">\n",
       "  <thead>\n",
       "    <tr style=\"text-align: right;\">\n",
       "      <th></th>\n",
       "      <th>2008</th>\n",
       "    </tr>\n",
       "  </thead>\n",
       "  <tbody>\n",
       "    <tr>\n",
       "      <th>1</th>\n",
       "      <td>Emma</td>\n",
       "    </tr>\n",
       "    <tr>\n",
       "      <th>2</th>\n",
       "      <td>Isabella</td>\n",
       "    </tr>\n",
       "    <tr>\n",
       "      <th>3</th>\n",
       "      <td>Emily</td>\n",
       "    </tr>\n",
       "    <tr>\n",
       "      <th>4</th>\n",
       "      <td>Olivia</td>\n",
       "    </tr>\n",
       "    <tr>\n",
       "      <th>5</th>\n",
       "      <td>Ava</td>\n",
       "    </tr>\n",
       "    <tr>\n",
       "      <th>6</th>\n",
       "      <td>Madison</td>\n",
       "    </tr>\n",
       "    <tr>\n",
       "      <th>7</th>\n",
       "      <td>Sophia</td>\n",
       "    </tr>\n",
       "    <tr>\n",
       "      <th>8</th>\n",
       "      <td>Abigail</td>\n",
       "    </tr>\n",
       "    <tr>\n",
       "      <th>9</th>\n",
       "      <td>Elizabeth</td>\n",
       "    </tr>\n",
       "    <tr>\n",
       "      <th>10</th>\n",
       "      <td>Chloe</td>\n",
       "    </tr>\n",
       "  </tbody>\n",
       "</table>\n",
       "</div>"
      ],
      "text/plain": [
       "         2008\n",
       "1        Emma\n",
       "2    Isabella\n",
       "3       Emily\n",
       "4      Olivia\n",
       "5         Ava\n",
       "6     Madison\n",
       "7      Sophia\n",
       "8     Abigail\n",
       "9   Elizabeth\n",
       "10      Chloe"
      ]
     },
     "execution_count": 24,
     "metadata": {},
     "output_type": "execute_result"
    }
   ],
   "source": [
    "top_ten('F',2008)"
   ]
  },
  {
   "cell_type": "code",
   "execution_count": 25,
   "id": "1f38c42c",
   "metadata": {},
   "outputs": [],
   "source": [
    "def top_tens(sex, year_start, year_end):\n",
    "    \"\"\" Top ten for a range of years \"\"\"\n",
    "    \n",
    "    years = [top_ten(sex, year) for year in range(year_start, year_end+1)]\n",
    "    return years[0].join(years[1:])"
   ]
  },
  {
   "cell_type": "code",
   "execution_count": 26,
   "id": "87aa25da",
   "metadata": {},
   "outputs": [
    {
     "data": {
      "text/html": [
       "<div>\n",
       "<style scoped>\n",
       "    .dataframe tbody tr th:only-of-type {\n",
       "        vertical-align: middle;\n",
       "    }\n",
       "\n",
       "    .dataframe tbody tr th {\n",
       "        vertical-align: top;\n",
       "    }\n",
       "\n",
       "    .dataframe thead th {\n",
       "        text-align: right;\n",
       "    }\n",
       "</style>\n",
       "<table border=\"1\" class=\"dataframe\">\n",
       "  <thead>\n",
       "    <tr style=\"text-align: right;\">\n",
       "      <th></th>\n",
       "      <th>2000</th>\n",
       "      <th>2001</th>\n",
       "      <th>2002</th>\n",
       "      <th>2003</th>\n",
       "      <th>2004</th>\n",
       "      <th>2005</th>\n",
       "      <th>2006</th>\n",
       "      <th>2007</th>\n",
       "      <th>2008</th>\n",
       "    </tr>\n",
       "  </thead>\n",
       "  <tbody>\n",
       "    <tr>\n",
       "      <th>1</th>\n",
       "      <td>Emily</td>\n",
       "      <td>Emily</td>\n",
       "      <td>Emily</td>\n",
       "      <td>Emily</td>\n",
       "      <td>Emily</td>\n",
       "      <td>Emily</td>\n",
       "      <td>Emily</td>\n",
       "      <td>Emily</td>\n",
       "      <td>Emma</td>\n",
       "    </tr>\n",
       "    <tr>\n",
       "      <th>2</th>\n",
       "      <td>Hannah</td>\n",
       "      <td>Madison</td>\n",
       "      <td>Madison</td>\n",
       "      <td>Emma</td>\n",
       "      <td>Emma</td>\n",
       "      <td>Emma</td>\n",
       "      <td>Emma</td>\n",
       "      <td>Isabella</td>\n",
       "      <td>Isabella</td>\n",
       "    </tr>\n",
       "    <tr>\n",
       "      <th>3</th>\n",
       "      <td>Madison</td>\n",
       "      <td>Hannah</td>\n",
       "      <td>Hannah</td>\n",
       "      <td>Madison</td>\n",
       "      <td>Madison</td>\n",
       "      <td>Madison</td>\n",
       "      <td>Madison</td>\n",
       "      <td>Emma</td>\n",
       "      <td>Emily</td>\n",
       "    </tr>\n",
       "    <tr>\n",
       "      <th>4</th>\n",
       "      <td>Ashley</td>\n",
       "      <td>Ashley</td>\n",
       "      <td>Emma</td>\n",
       "      <td>Hannah</td>\n",
       "      <td>Olivia</td>\n",
       "      <td>Abigail</td>\n",
       "      <td>Isabella</td>\n",
       "      <td>Ava</td>\n",
       "      <td>Olivia</td>\n",
       "    </tr>\n",
       "    <tr>\n",
       "      <th>5</th>\n",
       "      <td>Sarah</td>\n",
       "      <td>Alexis</td>\n",
       "      <td>Alexis</td>\n",
       "      <td>Olivia</td>\n",
       "      <td>Hannah</td>\n",
       "      <td>Olivia</td>\n",
       "      <td>Ava</td>\n",
       "      <td>Madison</td>\n",
       "      <td>Ava</td>\n",
       "    </tr>\n",
       "    <tr>\n",
       "      <th>6</th>\n",
       "      <td>Alexis</td>\n",
       "      <td>Sarah</td>\n",
       "      <td>Ashley</td>\n",
       "      <td>Abigail</td>\n",
       "      <td>Abigail</td>\n",
       "      <td>Isabella</td>\n",
       "      <td>Abigail</td>\n",
       "      <td>Sophia</td>\n",
       "      <td>Madison</td>\n",
       "    </tr>\n",
       "    <tr>\n",
       "      <th>7</th>\n",
       "      <td>Samantha</td>\n",
       "      <td>Samantha</td>\n",
       "      <td>Abigail</td>\n",
       "      <td>Alexis</td>\n",
       "      <td>Isabella</td>\n",
       "      <td>Hannah</td>\n",
       "      <td>Olivia</td>\n",
       "      <td>Olivia</td>\n",
       "      <td>Sophia</td>\n",
       "    </tr>\n",
       "    <tr>\n",
       "      <th>8</th>\n",
       "      <td>Jessica</td>\n",
       "      <td>Abigail</td>\n",
       "      <td>Sarah</td>\n",
       "      <td>Ashley</td>\n",
       "      <td>Ashley</td>\n",
       "      <td>Samantha</td>\n",
       "      <td>Hannah</td>\n",
       "      <td>Abigail</td>\n",
       "      <td>Abigail</td>\n",
       "    </tr>\n",
       "    <tr>\n",
       "      <th>9</th>\n",
       "      <td>Elizabeth</td>\n",
       "      <td>Elizabeth</td>\n",
       "      <td>Samantha</td>\n",
       "      <td>Elizabeth</td>\n",
       "      <td>Samantha</td>\n",
       "      <td>Ava</td>\n",
       "      <td>Sophia</td>\n",
       "      <td>Hannah</td>\n",
       "      <td>Elizabeth</td>\n",
       "    </tr>\n",
       "    <tr>\n",
       "      <th>10</th>\n",
       "      <td>Taylor</td>\n",
       "      <td>Olivia</td>\n",
       "      <td>Olivia</td>\n",
       "      <td>Samantha</td>\n",
       "      <td>Elizabeth</td>\n",
       "      <td>Ashley</td>\n",
       "      <td>Samantha</td>\n",
       "      <td>Elizabeth</td>\n",
       "      <td>Chloe</td>\n",
       "    </tr>\n",
       "  </tbody>\n",
       "</table>\n",
       "</div>"
      ],
      "text/plain": [
       "         2000       2001      2002       2003       2004      2005      2006  \\\n",
       "1       Emily      Emily     Emily      Emily      Emily     Emily     Emily   \n",
       "2      Hannah    Madison   Madison       Emma       Emma      Emma      Emma   \n",
       "3     Madison     Hannah    Hannah    Madison    Madison   Madison   Madison   \n",
       "4      Ashley     Ashley      Emma     Hannah     Olivia   Abigail  Isabella   \n",
       "5       Sarah     Alexis    Alexis     Olivia     Hannah    Olivia       Ava   \n",
       "6      Alexis      Sarah    Ashley    Abigail    Abigail  Isabella   Abigail   \n",
       "7    Samantha   Samantha   Abigail     Alexis   Isabella    Hannah    Olivia   \n",
       "8     Jessica    Abigail     Sarah     Ashley     Ashley  Samantha    Hannah   \n",
       "9   Elizabeth  Elizabeth  Samantha  Elizabeth   Samantha       Ava    Sophia   \n",
       "10     Taylor     Olivia    Olivia   Samantha  Elizabeth    Ashley  Samantha   \n",
       "\n",
       "         2007       2008  \n",
       "1       Emily       Emma  \n",
       "2    Isabella   Isabella  \n",
       "3        Emma      Emily  \n",
       "4         Ava     Olivia  \n",
       "5     Madison        Ava  \n",
       "6      Sophia    Madison  \n",
       "7      Olivia     Sophia  \n",
       "8     Abigail    Abigail  \n",
       "9      Hannah  Elizabeth  \n",
       "10  Elizabeth      Chloe  "
      ]
     },
     "execution_count": 26,
     "metadata": {},
     "output_type": "execute_result"
    }
   ],
   "source": [
    "top_tens('F', 2000, 2008)"
   ]
  },
  {
   "cell_type": "code",
   "execution_count": 27,
   "id": "ac288d34",
   "metadata": {},
   "outputs": [
    {
     "data": {
      "text/html": [
       "<div>\n",
       "<style scoped>\n",
       "    .dataframe tbody tr th:only-of-type {\n",
       "        vertical-align: middle;\n",
       "    }\n",
       "\n",
       "    .dataframe tbody tr th {\n",
       "        vertical-align: top;\n",
       "    }\n",
       "\n",
       "    .dataframe thead th {\n",
       "        text-align: right;\n",
       "    }\n",
       "</style>\n",
       "<table border=\"1\" class=\"dataframe\">\n",
       "  <thead>\n",
       "    <tr style=\"text-align: right;\">\n",
       "      <th></th>\n",
       "      <th>2000</th>\n",
       "      <th>2001</th>\n",
       "      <th>2002</th>\n",
       "      <th>2003</th>\n",
       "      <th>2004</th>\n",
       "      <th>2005</th>\n",
       "      <th>2006</th>\n",
       "      <th>2007</th>\n",
       "      <th>2008</th>\n",
       "    </tr>\n",
       "  </thead>\n",
       "  <tbody>\n",
       "    <tr>\n",
       "      <th>1</th>\n",
       "      <td>Jacob</td>\n",
       "      <td>Jacob</td>\n",
       "      <td>Jacob</td>\n",
       "      <td>Jacob</td>\n",
       "      <td>Jacob</td>\n",
       "      <td>Jacob</td>\n",
       "      <td>Jacob</td>\n",
       "      <td>Jacob</td>\n",
       "      <td>Jacob</td>\n",
       "    </tr>\n",
       "    <tr>\n",
       "      <th>2</th>\n",
       "      <td>Michael</td>\n",
       "      <td>Michael</td>\n",
       "      <td>Michael</td>\n",
       "      <td>Michael</td>\n",
       "      <td>Michael</td>\n",
       "      <td>Michael</td>\n",
       "      <td>Michael</td>\n",
       "      <td>Michael</td>\n",
       "      <td>Michael</td>\n",
       "    </tr>\n",
       "    <tr>\n",
       "      <th>3</th>\n",
       "      <td>Matthew</td>\n",
       "      <td>Matthew</td>\n",
       "      <td>Joshua</td>\n",
       "      <td>Joshua</td>\n",
       "      <td>Joshua</td>\n",
       "      <td>Joshua</td>\n",
       "      <td>Joshua</td>\n",
       "      <td>Ethan</td>\n",
       "      <td>Ethan</td>\n",
       "    </tr>\n",
       "    <tr>\n",
       "      <th>4</th>\n",
       "      <td>Joshua</td>\n",
       "      <td>Joshua</td>\n",
       "      <td>Matthew</td>\n",
       "      <td>Matthew</td>\n",
       "      <td>Matthew</td>\n",
       "      <td>Matthew</td>\n",
       "      <td>Ethan</td>\n",
       "      <td>Joshua</td>\n",
       "      <td>Joshua</td>\n",
       "    </tr>\n",
       "    <tr>\n",
       "      <th>5</th>\n",
       "      <td>Christopher</td>\n",
       "      <td>Christopher</td>\n",
       "      <td>Ethan</td>\n",
       "      <td>Andrew</td>\n",
       "      <td>Ethan</td>\n",
       "      <td>Ethan</td>\n",
       "      <td>Matthew</td>\n",
       "      <td>Daniel</td>\n",
       "      <td>Daniel</td>\n",
       "    </tr>\n",
       "    <tr>\n",
       "      <th>6</th>\n",
       "      <td>Nicholas</td>\n",
       "      <td>Nicholas</td>\n",
       "      <td>Andrew</td>\n",
       "      <td>Ethan</td>\n",
       "      <td>Andrew</td>\n",
       "      <td>Andrew</td>\n",
       "      <td>Daniel</td>\n",
       "      <td>Christopher</td>\n",
       "      <td>Alexander</td>\n",
       "    </tr>\n",
       "    <tr>\n",
       "      <th>7</th>\n",
       "      <td>Andrew</td>\n",
       "      <td>Andrew</td>\n",
       "      <td>Joseph</td>\n",
       "      <td>Joseph</td>\n",
       "      <td>Daniel</td>\n",
       "      <td>Daniel</td>\n",
       "      <td>Andrew</td>\n",
       "      <td>Anthony</td>\n",
       "      <td>William</td>\n",
       "    </tr>\n",
       "    <tr>\n",
       "      <th>8</th>\n",
       "      <td>Joseph</td>\n",
       "      <td>Joseph</td>\n",
       "      <td>Christopher</td>\n",
       "      <td>Daniel</td>\n",
       "      <td>William</td>\n",
       "      <td>Anthony</td>\n",
       "      <td>Christopher</td>\n",
       "      <td>William</td>\n",
       "      <td>Anthony</td>\n",
       "    </tr>\n",
       "    <tr>\n",
       "      <th>9</th>\n",
       "      <td>Daniel</td>\n",
       "      <td>Daniel</td>\n",
       "      <td>Nicholas</td>\n",
       "      <td>Christopher</td>\n",
       "      <td>Joseph</td>\n",
       "      <td>Joseph</td>\n",
       "      <td>Anthony</td>\n",
       "      <td>Matthew</td>\n",
       "      <td>Christopher</td>\n",
       "    </tr>\n",
       "    <tr>\n",
       "      <th>10</th>\n",
       "      <td>Tyler</td>\n",
       "      <td>William</td>\n",
       "      <td>Daniel</td>\n",
       "      <td>Anthony</td>\n",
       "      <td>Christopher</td>\n",
       "      <td>Christopher</td>\n",
       "      <td>William</td>\n",
       "      <td>Andrew</td>\n",
       "      <td>Matthew</td>\n",
       "    </tr>\n",
       "  </tbody>\n",
       "</table>\n",
       "</div>"
      ],
      "text/plain": [
       "           2000         2001         2002         2003         2004  \\\n",
       "1         Jacob        Jacob        Jacob        Jacob        Jacob   \n",
       "2       Michael      Michael      Michael      Michael      Michael   \n",
       "3       Matthew      Matthew       Joshua       Joshua       Joshua   \n",
       "4        Joshua       Joshua      Matthew      Matthew      Matthew   \n",
       "5   Christopher  Christopher        Ethan       Andrew        Ethan   \n",
       "6      Nicholas     Nicholas       Andrew        Ethan       Andrew   \n",
       "7        Andrew       Andrew       Joseph       Joseph       Daniel   \n",
       "8        Joseph       Joseph  Christopher       Daniel      William   \n",
       "9        Daniel       Daniel     Nicholas  Christopher       Joseph   \n",
       "10        Tyler      William       Daniel      Anthony  Christopher   \n",
       "\n",
       "           2005         2006         2007         2008  \n",
       "1         Jacob        Jacob        Jacob        Jacob  \n",
       "2       Michael      Michael      Michael      Michael  \n",
       "3        Joshua       Joshua        Ethan        Ethan  \n",
       "4       Matthew        Ethan       Joshua       Joshua  \n",
       "5         Ethan      Matthew       Daniel       Daniel  \n",
       "6        Andrew       Daniel  Christopher    Alexander  \n",
       "7        Daniel       Andrew      Anthony      William  \n",
       "8       Anthony  Christopher      William      Anthony  \n",
       "9        Joseph      Anthony      Matthew  Christopher  \n",
       "10  Christopher      William       Andrew      Matthew  "
      ]
     },
     "execution_count": 27,
     "metadata": {},
     "output_type": "execute_result"
    }
   ],
   "source": [
    "top_tens('M', 2000, 2008)"
   ]
  },
  {
   "cell_type": "code",
   "execution_count": 28,
   "id": "137dc568",
   "metadata": {
    "scrolled": true
   },
   "outputs": [
    {
     "data": {
      "text/plain": [
       "1  2000    Emily\n",
       "   2001    Emily\n",
       "   2002    Emily\n",
       "   2003    Emily\n",
       "   2004    Emily\n",
       "dtype: object"
      ]
     },
     "execution_count": 28,
     "metadata": {},
     "output_type": "execute_result"
    }
   ],
   "source": [
    "# select data for female names from 2000 to 2008 and stack it\n",
    "top_tens('F', 2000, 2008).stack().head()"
   ]
  },
  {
   "cell_type": "code",
   "execution_count": 29,
   "id": "372df684",
   "metadata": {},
   "outputs": [
    {
     "data": {
      "text/plain": [
       "Emily        9\n",
       "Madison      9\n",
       "Abigail      8\n",
       "Olivia       8\n",
       "Hannah       8\n",
       "Samantha     7\n",
       "Emma         7\n",
       "Ashley       6\n",
       "Elizabeth    6\n",
       "Isabella     5\n",
       "Alexis       4\n",
       "Ava          4\n",
       "Sophia       3\n",
       "Sarah        3\n",
       "Chloe        1\n",
       "Jessica      1\n",
       "Taylor       1\n",
       "dtype: int64"
      ]
     },
     "execution_count": 29,
     "metadata": {},
     "output_type": "execute_result"
    }
   ],
   "source": [
    "# count the number of occurrences\n",
    "popular = top_tens('F', 2000, 2008).stack().value_counts()\n",
    "popular"
   ]
  },
  {
   "cell_type": "code",
   "execution_count": 30,
   "id": "13d4c98f",
   "metadata": {},
   "outputs": [
    {
     "data": {
      "text/plain": [
       "Index(['Emily', 'Madison', 'Abigail', 'Olivia', 'Hannah', 'Samantha'], dtype='object')"
      ]
     },
     "execution_count": 30,
     "metadata": {},
     "output_type": "execute_result"
    }
   ],
   "source": [
    "# select the top 6\n",
    "top6 = popular.index[:6]\n",
    "top6"
   ]
  },
  {
   "cell_type": "code",
   "execution_count": 31,
   "id": "98dbb3d0",
   "metadata": {},
   "outputs": [
    {
     "data": {
      "image/png": "[encoded data removed]",
      "text/plain": [
       "<Figure size 864x288 with 1 Axes>"
      ]
     },
     "metadata": {},
     "output_type": "display_data"
    }
   ],
   "source": [
    "# plot them\n",
    "for name in top6:\n",
    "    plot_name('F', name)\n",
    "\n",
    "plt.legend(top6);"
   ]
  },
  {
   "cell_type": "markdown",
   "id": "6381c0fb",
   "metadata": {},
   "source": [
    "<br>\n",
    "\n",
    "#### Fads.\n",
    "___"
   ]
  },
  {
   "cell_type": "code",
   "execution_count": 32,
   "id": "eb0b8b04",
   "metadata": {},
   "outputs": [
    {
     "data": {
      "text/plain": [
       "sex  name     \n",
       "F    Aabha         21\n",
       "     Aabriella     10\n",
       "     Aaden          5\n",
       "     Aadhira       29\n",
       "     Aadhya       639\n",
       "Name: number, dtype: int64"
      ]
     },
     "execution_count": 32,
     "metadata": {},
     "output_type": "execute_result"
    }
   ],
   "source": [
    "# total number of occurrences of each name\n",
    "totals = all_years.groupby(['sex', 'name'])['number'].sum()\n",
    "totals.head()"
   ]
  },
  {
   "cell_type": "code",
   "execution_count": 33,
   "id": "9553ac31",
   "metadata": {},
   "outputs": [],
   "source": [
    "def sumsq(x):\n",
    "    \"\"\" Function to compute sum of squares \"\"\"\n",
    "    return sum(x**2)"
   ]
  },
  {
   "cell_type": "code",
   "execution_count": 34,
   "id": "d83edad9",
   "metadata": {},
   "outputs": [
    {
     "data": {
      "text/plain": [
       "sex  name     \n",
       "F    Aabha        0.351474\n",
       "     Aabriella    0.500000\n",
       "     Aaden        1.000000\n",
       "     Aadhira      0.362663\n",
       "     Aadhya       0.262673\n",
       "Name: number, dtype: float64"
      ]
     },
     "execution_count": 34,
     "metadata": {},
     "output_type": "execute_result"
    }
   ],
   "source": [
    "# calculate spikyness of the data\n",
    "spikyness = all_years.groupby(['sex','name'])['number'].agg(sumsq) / totals**2 \n",
    "spikyness.head()"
   ]
  },
  {
   "cell_type": "code",
   "execution_count": 35,
   "id": "b47e9ed9",
   "metadata": {},
   "outputs": [
    {
     "data": {
      "text/plain": [
       "sex  name     \n",
       "M    Iker         0.199368\n",
       "     Shaquille    0.195689\n",
       "     Jase         0.182165\n",
       "F    Adalynn      0.177107\n",
       "     Harper       0.164827\n",
       "M    Brantley     0.160532\n",
       "F    Arya         0.159564\n",
       "M    Bentley      0.159259\n",
       "F    Miley        0.145886\n",
       "     Paisley      0.144966\n",
       "Name: number, dtype: float64"
      ]
     },
     "execution_count": 35,
     "metadata": {},
     "output_type": "execute_result"
    }
   ],
   "source": [
    "# select only names that appear frequently\n",
    "spiky_common = spikyness[totals > 5000].copy()\n",
    "spiky_common.sort_values(ascending=False, inplace=True)\n",
    "\n",
    "# select the spikiest names\n",
    "spiky_common.head(10)"
   ]
  },
  {
   "cell_type": "code",
   "execution_count": 36,
   "id": "fe400e5f",
   "metadata": {},
   "outputs": [
    {
     "data": {
      "text/plain": [
       "sex  name   \n",
       "F    Minerva    0.008853\n",
       "     Nina       0.008752\n",
       "     Celia      0.008639\n",
       "M    Will       0.008635\n",
       "     Hiram      0.008618\n",
       "F    Rosa       0.008512\n",
       "     Mollie     0.008437\n",
       "M    Ike        0.008310\n",
       "F    Delia      0.008263\n",
       "     Louisa     0.007931\n",
       "Name: number, dtype: float64"
      ]
     },
     "execution_count": 36,
     "metadata": {},
     "output_type": "execute_result"
    }
   ],
   "source": [
    "# select the least spiky names\n",
    "spiky_common.tail(10)"
   ]
  },
  {
   "cell_type": "code",
   "execution_count": 37,
   "id": "efe5ff2e",
   "metadata": {},
   "outputs": [
    {
     "data": {
      "image/png": "[encoded data removed]",
      "text/plain": [
       "<Figure size 864x288 with 1 Axes>"
      ]
     },
     "metadata": {},
     "output_type": "display_data"
    }
   ],
   "source": [
    "# Plot data for most and least spikiest names\n",
    "plot_name('F', 'Louisa')\n",
    "plot_name('M', 'Shaquille')\n",
    "plt.legend(['Louisa', 'Shaquille'])\n",
    "plt.title('Fads');"
   ]
  },
  {
   "cell_type": "code",
   "execution_count": 38,
   "id": "0920a692",
   "metadata": {},
   "outputs": [
    {
     "data": {
      "text/plain": [
       "array([('M', 'Iker'), ('M', 'Shaquille'), ('M', 'Jase'), ('F', 'Adalynn'),\n",
       "       ('F', 'Harper'), ('M', 'Brantley'), ('F', 'Arya'),\n",
       "       ('M', 'Bentley'), ('F', 'Miley'), ('F', 'Paisley')], dtype=object)"
      ]
     },
     "execution_count": 38,
     "metadata": {},
     "output_type": "execute_result"
    }
   ],
   "source": [
    "# select 10 fads (the most spikiest names)\n",
    "fads = spiky_common.head(10).index.values\n",
    "fads"
   ]
  },
  {
   "cell_type": "code",
   "execution_count": 39,
   "id": "fc8695a3",
   "metadata": {},
   "outputs": [
    {
     "data": {
      "image/png": "[encoded data removed]",
      "text/plain": [
       "<Figure size 864x288 with 1 Axes>"
      ]
     },
     "metadata": {},
     "output_type": "display_data"
    }
   ],
   "source": [
    "# plot 10 recent fads\n",
    "for sex, name in fads:\n",
    "    plot_name(sex, name)\n",
    "\n",
    "plt.legend([name for sex, name in fads])\n",
    "plt.title('Top 10 fads');"
   ]
  },
  {
   "cell_type": "markdown",
   "id": "39bb2048",
   "metadata": {},
   "source": [
    "The above shows the fad names that are popular now. Thus it can't be determined whether the names are fads or if they will remain to be popular."
   ]
  },
  {
   "cell_type": "code",
   "execution_count": 40,
   "id": "06e4ebc2",
   "metadata": {},
   "outputs": [
    {
     "data": {
      "text/plain": [
       "sex  name     \n",
       "F    Aabha         21\n",
       "     Aabriella     10\n",
       "     Aaden          5\n",
       "     Aadhira       29\n",
       "     Aadhya       639\n",
       "Name: number, dtype: int64"
      ]
     },
     "execution_count": 40,
     "metadata": {},
     "output_type": "execute_result"
    }
   ],
   "source": [
    "# compute totals in the last 10 years\n",
    "total_recent = all_years[all_years['year']>2005].groupby(['sex', 'name'])['number'].sum()\n",
    "total_recent.head()"
   ]
  },
  {
   "cell_type": "code",
   "execution_count": 41,
   "id": "5c0448f9",
   "metadata": {},
   "outputs": [
    {
     "data": {
      "text/plain": [
       "sex  name     \n",
       "M    Shaquille    0.195689\n",
       "F    Katina       0.120872\n",
       "     Krystle      0.100106\n",
       "M    Devante      0.099617\n",
       "F    Khadijah     0.091410\n",
       "     Shanice      0.089675\n",
       "     Iesha        0.088810\n",
       "     Shaniqua     0.087601\n",
       "     Sheena       0.080751\n",
       "     Marquita     0.080338\n",
       "Name: number, dtype: float64"
      ]
     },
     "execution_count": 41,
     "metadata": {},
     "output_type": "execute_result"
    }
   ],
   "source": [
    "# add a condition for spikyness for the names to be less popular in the last 10 years\n",
    "spiky_common = spikyness[(totals > 5000) & (total_recent < 1000)].copy()\n",
    "spiky_common.sort_values(ascending=False, inplace=True)\n",
    "spiky_common.head(10)"
   ]
  },
  {
   "cell_type": "code",
   "execution_count": 42,
   "id": "c20a3527",
   "metadata": {},
   "outputs": [
    {
     "data": {
      "image/png": "[encoded data removed]",
      "text/plain": [
       "<Figure size 864x288 with 1 Axes>"
      ]
     },
     "metadata": {},
     "output_type": "display_data"
    }
   ],
   "source": [
    "# replot fads to exclude the names popular in the last 10 years\n",
    "fads = spiky_common.head(10).index.values\n",
    "\n",
    "for sex, name in fads:\n",
    "    plot_name(sex, name)\n",
    "\n",
    "plt.legend([name for sex, name in fads])\n",
    "plt.title('Top 10 fads');"
   ]
  },
  {
   "cell_type": "markdown",
   "id": "f2c5a326",
   "metadata": {},
   "source": [
    "<br>\n",
    "\n",
    "___\n",
    "#### End."
   ]
  }
 ],
 "metadata": {
  "kernelspec": {
   "display_name": "Python 3",
   "language": "python",
   "name": "python3"
  },
  "language_info": {
   "codemirror_mode": {
    "name": "ipython",
    "version": 3
   },
   "file_extension": ".py",
   "mimetype": "text/x-python",
   "name": "python",
   "nbconvert_exporter": "python",
   "pygments_lexer": "ipython3",
   "version": "3.8.8"
  }
 },
 "nbformat": 4,
 "nbformat_minor": 5
}
