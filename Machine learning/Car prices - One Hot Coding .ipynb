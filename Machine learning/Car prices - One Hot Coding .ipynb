{
 "cells": [
  {
   "cell_type": "markdown",
   "id": "cac000a8",
   "metadata": {},
   "source": [
    "### Making data numerical\n",
    "____"
   ]
  },
  {
   "cell_type": "code",
   "execution_count": 1,
   "id": "5e483e99",
   "metadata": {},
   "outputs": [],
   "source": [
    "# import libraries\n",
    "import pandas as pd\n",
    "import numpy as np\n",
    "from sklearn.ensemble import RandomForestRegressor, RandomForestClassifier\n",
    "from sklearn.model_selection import train_test_split\n",
    "from sklearn.preprocessing import OneHotEncoder\n",
    "from sklearn.compose import ColumnTransformer\n",
    "from sklearn.metrics import r2_score"
   ]
  },
  {
   "cell_type": "code",
   "execution_count": 2,
   "id": "d1a7d4de",
   "metadata": {},
   "outputs": [
    {
     "data": {
      "text/html": [
       "<div>\n",
       "<style scoped>\n",
       "    .dataframe tbody tr th:only-of-type {\n",
       "        vertical-align: middle;\n",
       "    }\n",
       "\n",
       "    .dataframe tbody tr th {\n",
       "        vertical-align: top;\n",
       "    }\n",
       "\n",
       "    .dataframe thead th {\n",
       "        text-align: right;\n",
       "    }\n",
       "</style>\n",
       "<table border=\"1\" class=\"dataframe\">\n",
       "  <thead>\n",
       "    <tr style=\"text-align: right;\">\n",
       "      <th></th>\n",
       "      <th>Type</th>\n",
       "      <th>Min.Price</th>\n",
       "      <th>Price</th>\n",
       "      <th>Max.Price</th>\n",
       "      <th>Range.Price</th>\n",
       "      <th>RoughRange</th>\n",
       "      <th>gpm100</th>\n",
       "      <th>MPG.city</th>\n",
       "      <th>MPG.highway</th>\n",
       "    </tr>\n",
       "  </thead>\n",
       "  <tbody>\n",
       "    <tr>\n",
       "      <th>6</th>\n",
       "      <td>Midsize</td>\n",
       "      <td>14.2</td>\n",
       "      <td>15.7</td>\n",
       "      <td>17.3</td>\n",
       "      <td>3.1</td>\n",
       "      <td>3.09</td>\n",
       "      <td>3.8</td>\n",
       "      <td>22</td>\n",
       "      <td>31</td>\n",
       "    </tr>\n",
       "    <tr>\n",
       "      <th>7</th>\n",
       "      <td>Large</td>\n",
       "      <td>19.9</td>\n",
       "      <td>20.8</td>\n",
       "      <td>21.7</td>\n",
       "      <td>1.8</td>\n",
       "      <td>1.79</td>\n",
       "      <td>4.2</td>\n",
       "      <td>19</td>\n",
       "      <td>28</td>\n",
       "    </tr>\n",
       "    <tr>\n",
       "      <th>8</th>\n",
       "      <td>Large</td>\n",
       "      <td>22.6</td>\n",
       "      <td>23.7</td>\n",
       "      <td>24.9</td>\n",
       "      <td>2.3</td>\n",
       "      <td>2.31</td>\n",
       "      <td>4.9</td>\n",
       "      <td>16</td>\n",
       "      <td>25</td>\n",
       "    </tr>\n",
       "    <tr>\n",
       "      <th>9</th>\n",
       "      <td>Midsize</td>\n",
       "      <td>26.3</td>\n",
       "      <td>26.3</td>\n",
       "      <td>26.3</td>\n",
       "      <td>0.0</td>\n",
       "      <td>-0.01</td>\n",
       "      <td>4.3</td>\n",
       "      <td>19</td>\n",
       "      <td>27</td>\n",
       "    </tr>\n",
       "    <tr>\n",
       "      <th>10</th>\n",
       "      <td>Large</td>\n",
       "      <td>33.0</td>\n",
       "      <td>34.7</td>\n",
       "      <td>36.3</td>\n",
       "      <td>3.3</td>\n",
       "      <td>3.30</td>\n",
       "      <td>4.9</td>\n",
       "      <td>16</td>\n",
       "      <td>25</td>\n",
       "    </tr>\n",
       "  </tbody>\n",
       "</table>\n",
       "</div>"
      ],
      "text/plain": [
       "       Type  Min.Price  Price  Max.Price  Range.Price  RoughRange  gpm100  \\\n",
       "6   Midsize       14.2   15.7       17.3          3.1        3.09     3.8   \n",
       "7     Large       19.9   20.8       21.7          1.8        1.79     4.2   \n",
       "8     Large       22.6   23.7       24.9          2.3        2.31     4.9   \n",
       "9   Midsize       26.3   26.3       26.3          0.0       -0.01     4.3   \n",
       "10    Large       33.0   34.7       36.3          3.3        3.30     4.9   \n",
       "\n",
       "    MPG.city  MPG.highway  \n",
       "6         22           31  \n",
       "7         19           28  \n",
       "8         16           25  \n",
       "9         19           27  \n",
       "10        16           25  "
      ]
     },
     "execution_count": 2,
     "metadata": {},
     "output_type": "execute_result"
    }
   ],
   "source": [
    "# load the dataset\n",
    "cars = pd.read_csv('../Data/carprice.csv', index_col=0)\n",
    "cars.head()"
   ]
  },
  {
   "cell_type": "code",
   "execution_count": 3,
   "id": "9c14f7a3",
   "metadata": {
    "scrolled": true
   },
   "outputs": [
    {
     "name": "stdout",
     "output_type": "stream",
     "text": [
      "<class 'pandas.core.frame.DataFrame'>\n",
      "Int64Index: 48 entries, 6 to 79\n",
      "Data columns (total 9 columns):\n",
      " #   Column       Non-Null Count  Dtype  \n",
      "---  ------       --------------  -----  \n",
      " 0   Type         48 non-null     object \n",
      " 1   Min.Price    48 non-null     float64\n",
      " 2   Price        48 non-null     float64\n",
      " 3   Max.Price    48 non-null     float64\n",
      " 4   Range.Price  48 non-null     float64\n",
      " 5   RoughRange   48 non-null     float64\n",
      " 6   gpm100       48 non-null     float64\n",
      " 7   MPG.city     48 non-null     int64  \n",
      " 8   MPG.highway  48 non-null     int64  \n",
      "dtypes: float64(6), int64(2), object(1)\n",
      "memory usage: 3.8+ KB\n"
     ]
    }
   ],
   "source": [
    "# check the data types\n",
    "cars.info()"
   ]
  },
  {
   "cell_type": "code",
   "execution_count": 4,
   "id": "1b9b60df",
   "metadata": {},
   "outputs": [
    {
     "data": {
      "text/plain": [
       "Type           False\n",
       "Min.Price      False\n",
       "Price          False\n",
       "Max.Price      False\n",
       "Range.Price    False\n",
       "RoughRange     False\n",
       "gpm100         False\n",
       "MPG.city       False\n",
       "MPG.highway    False\n",
       "dtype: bool"
      ]
     },
     "execution_count": 4,
     "metadata": {},
     "output_type": "execute_result"
    }
   ],
   "source": [
    "cars.isnull().any()"
   ]
  },
  {
   "cell_type": "code",
   "execution_count": 5,
   "id": "fb36dd7b",
   "metadata": {},
   "outputs": [
    {
     "data": {
      "text/plain": [
       "((48, 8), (48, 1))"
      ]
     },
     "execution_count": 5,
     "metadata": {},
     "output_type": "execute_result"
    }
   ],
   "source": [
    "# separate the data and target\n",
    "X = cars.drop('Price', axis=1)\n",
    "y = cars[['Price']]\n",
    "X.shape, y.shape"
   ]
  },
  {
   "cell_type": "code",
   "execution_count": 6,
   "id": "b260a347",
   "metadata": {},
   "outputs": [
    {
     "data": {
      "text/html": [
       "<div>\n",
       "<style scoped>\n",
       "    .dataframe tbody tr th:only-of-type {\n",
       "        vertical-align: middle;\n",
       "    }\n",
       "\n",
       "    .dataframe tbody tr th {\n",
       "        vertical-align: top;\n",
       "    }\n",
       "\n",
       "    .dataframe thead th {\n",
       "        text-align: right;\n",
       "    }\n",
       "</style>\n",
       "<table border=\"1\" class=\"dataframe\">\n",
       "  <thead>\n",
       "    <tr style=\"text-align: right;\">\n",
       "      <th></th>\n",
       "      <th>0</th>\n",
       "      <th>1</th>\n",
       "      <th>2</th>\n",
       "      <th>3</th>\n",
       "      <th>4</th>\n",
       "      <th>5</th>\n",
       "      <th>6</th>\n",
       "      <th>7</th>\n",
       "      <th>8</th>\n",
       "      <th>9</th>\n",
       "      <th>10</th>\n",
       "      <th>11</th>\n",
       "      <th>12</th>\n",
       "    </tr>\n",
       "  </thead>\n",
       "  <tbody>\n",
       "    <tr>\n",
       "      <th>0</th>\n",
       "      <td>0.0</td>\n",
       "      <td>0.0</td>\n",
       "      <td>1.0</td>\n",
       "      <td>0.0</td>\n",
       "      <td>0.0</td>\n",
       "      <td>0.0</td>\n",
       "      <td>14.2</td>\n",
       "      <td>17.3</td>\n",
       "      <td>3.1</td>\n",
       "      <td>3.09</td>\n",
       "      <td>3.8</td>\n",
       "      <td>22.0</td>\n",
       "      <td>31.0</td>\n",
       "    </tr>\n",
       "    <tr>\n",
       "      <th>1</th>\n",
       "      <td>0.0</td>\n",
       "      <td>1.0</td>\n",
       "      <td>0.0</td>\n",
       "      <td>0.0</td>\n",
       "      <td>0.0</td>\n",
       "      <td>0.0</td>\n",
       "      <td>19.9</td>\n",
       "      <td>21.7</td>\n",
       "      <td>1.8</td>\n",
       "      <td>1.79</td>\n",
       "      <td>4.2</td>\n",
       "      <td>19.0</td>\n",
       "      <td>28.0</td>\n",
       "    </tr>\n",
       "    <tr>\n",
       "      <th>2</th>\n",
       "      <td>0.0</td>\n",
       "      <td>1.0</td>\n",
       "      <td>0.0</td>\n",
       "      <td>0.0</td>\n",
       "      <td>0.0</td>\n",
       "      <td>0.0</td>\n",
       "      <td>22.6</td>\n",
       "      <td>24.9</td>\n",
       "      <td>2.3</td>\n",
       "      <td>2.31</td>\n",
       "      <td>4.9</td>\n",
       "      <td>16.0</td>\n",
       "      <td>25.0</td>\n",
       "    </tr>\n",
       "    <tr>\n",
       "      <th>3</th>\n",
       "      <td>0.0</td>\n",
       "      <td>0.0</td>\n",
       "      <td>1.0</td>\n",
       "      <td>0.0</td>\n",
       "      <td>0.0</td>\n",
       "      <td>0.0</td>\n",
       "      <td>26.3</td>\n",
       "      <td>26.3</td>\n",
       "      <td>0.0</td>\n",
       "      <td>-0.01</td>\n",
       "      <td>4.3</td>\n",
       "      <td>19.0</td>\n",
       "      <td>27.0</td>\n",
       "    </tr>\n",
       "    <tr>\n",
       "      <th>4</th>\n",
       "      <td>0.0</td>\n",
       "      <td>1.0</td>\n",
       "      <td>0.0</td>\n",
       "      <td>0.0</td>\n",
       "      <td>0.0</td>\n",
       "      <td>0.0</td>\n",
       "      <td>33.0</td>\n",
       "      <td>36.3</td>\n",
       "      <td>3.3</td>\n",
       "      <td>3.30</td>\n",
       "      <td>4.9</td>\n",
       "      <td>16.0</td>\n",
       "      <td>25.0</td>\n",
       "    </tr>\n",
       "  </tbody>\n",
       "</table>\n",
       "</div>"
      ],
      "text/plain": [
       "    0    1    2    3    4    5     6     7    8     9    10    11    12\n",
       "0  0.0  0.0  1.0  0.0  0.0  0.0  14.2  17.3  3.1  3.09  3.8  22.0  31.0\n",
       "1  0.0  1.0  0.0  0.0  0.0  0.0  19.9  21.7  1.8  1.79  4.2  19.0  28.0\n",
       "2  0.0  1.0  0.0  0.0  0.0  0.0  22.6  24.9  2.3  2.31  4.9  16.0  25.0\n",
       "3  0.0  0.0  1.0  0.0  0.0  0.0  26.3  26.3  0.0 -0.01  4.3  19.0  27.0\n",
       "4  0.0  1.0  0.0  0.0  0.0  0.0  33.0  36.3  3.3  3.30  4.9  16.0  25.0"
      ]
     },
     "execution_count": 6,
     "metadata": {},
     "output_type": "execute_result"
    }
   ],
   "source": [
    "# tranform X into numerical data\n",
    "one_hot = OneHotEncoder()\n",
    "transformer = ColumnTransformer([('one_hot', one_hot, ['Type'])], remainder='passthrough')\n",
    "X_transformed = transformer.fit_transform(X)\n",
    "pd.DataFrame(X_transformed).head()"
   ]
  },
  {
   "cell_type": "code",
   "execution_count": 7,
   "id": "2a96534c",
   "metadata": {
    "scrolled": false
   },
   "outputs": [],
   "source": [
    "# split the data\n",
    "X_train, y_train, X_test, y_test = train_test_split(X_transformed, y, test_size=0.4, random_state=42)"
   ]
  },
  {
   "cell_type": "code",
   "execution_count": 8,
   "id": "d64e63ee",
   "metadata": {},
   "outputs": [
    {
     "data": {
      "text/plain": [
       "0.9787383899817865"
      ]
     },
     "execution_count": 8,
     "metadata": {},
     "output_type": "execute_result"
    }
   ],
   "source": [
    "# fit and score the model\n",
    "clf = RandomForestRegressor().fit(X_train.T, y_train.T)\n",
    "clf.score(X_train.T, y_train.T)"
   ]
  },
  {
   "cell_type": "code",
   "execution_count": 9,
   "id": "2913135a",
   "metadata": {},
   "outputs": [
    {
     "data": {
      "text/plain": [
       "0.92189734404879"
      ]
     },
     "execution_count": 9,
     "metadata": {},
     "output_type": "execute_result"
    }
   ],
   "source": [
    "# score the model on the test data\n",
    "r2_score(clf.predict(X_test.T).reshape(-1,1), y_test)"
   ]
  },
  {
   "cell_type": "markdown",
   "id": "0c780699",
   "metadata": {},
   "source": [
    "<br>\n",
    "\n",
    "___\n",
    "### End."
   ]
  }
 ],
 "metadata": {
  "kernelspec": {
   "display_name": "Python 3 (ipykernel)",
   "language": "python",
   "name": "python3"
  },
  "language_info": {
   "codemirror_mode": {
    "name": "ipython",
    "version": 3
   },
   "file_extension": ".py",
   "mimetype": "text/x-python",
   "name": "python",
   "nbconvert_exporter": "python",
   "pygments_lexer": "ipython3",
   "version": "3.8.11"
  }
 },
 "nbformat": 4,
 "nbformat_minor": 5
}
