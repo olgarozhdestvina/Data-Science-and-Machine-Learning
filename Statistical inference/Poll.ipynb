{
 "cells": [
  {
   "cell_type": "markdown",
   "id": "3207f944",
   "metadata": {},
   "source": [
    "## Poll\n",
    "___\n",
    "\n",
    "<br> \n",
    "\n",
    "#### General setup\n",
    "___"
   ]
  },
  {
   "cell_type": "code",
   "execution_count": 1,
   "id": "71ea4bfc",
   "metadata": {},
   "outputs": [],
   "source": [
    "# import packages\n",
    "import numpy as np\n",
    "import pandas as pd\n",
    "import matplotlib.pyplot as plt\n",
    "import matplotlib\n",
    "import scipy.stats as ss\n",
    "\n",
    "%matplotlib inline"
   ]
  },
  {
   "cell_type": "markdown",
   "id": "40677bbc",
   "metadata": {},
   "source": [
    "<br>\n",
    "\n",
    "#### Loading the data set\n",
    "___"
   ]
  },
  {
   "cell_type": "code",
   "execution_count": 2,
   "id": "80ec7c2a",
   "metadata": {},
   "outputs": [
    {
     "data": {
      "text/html": [
       "<div>\n",
       "<style scoped>\n",
       "    .dataframe tbody tr th:only-of-type {\n",
       "        vertical-align: middle;\n",
       "    }\n",
       "\n",
       "    .dataframe tbody tr th {\n",
       "        vertical-align: top;\n",
       "    }\n",
       "\n",
       "    .dataframe thead th {\n",
       "        text-align: right;\n",
       "    }\n",
       "</style>\n",
       "<table border=\"1\" class=\"dataframe\">\n",
       "  <thead>\n",
       "    <tr style=\"text-align: right;\">\n",
       "      <th></th>\n",
       "      <th>vote</th>\n",
       "    </tr>\n",
       "  </thead>\n",
       "  <tbody>\n",
       "    <tr>\n",
       "      <th>0</th>\n",
       "      <td>Brown</td>\n",
       "    </tr>\n",
       "    <tr>\n",
       "      <th>1</th>\n",
       "      <td>Green</td>\n",
       "    </tr>\n",
       "    <tr>\n",
       "      <th>2</th>\n",
       "      <td>Brown</td>\n",
       "    </tr>\n",
       "    <tr>\n",
       "      <th>3</th>\n",
       "      <td>Brown</td>\n",
       "    </tr>\n",
       "    <tr>\n",
       "      <th>4</th>\n",
       "      <td>Brown</td>\n",
       "    </tr>\n",
       "  </tbody>\n",
       "</table>\n",
       "</div>"
      ],
      "text/plain": [
       "    vote\n",
       "0  Brown\n",
       "1  Green\n",
       "2  Brown\n",
       "3  Brown\n",
       "4  Brown"
      ]
     },
     "execution_count": 2,
     "metadata": {},
     "output_type": "execute_result"
    }
   ],
   "source": [
    "# Load the csv file\n",
    "poll = pd.read_csv('../Data/poll.csv')\n",
    "poll.head()"
   ]
  },
  {
   "cell_type": "code",
   "execution_count": 3,
   "id": "e37eadf2",
   "metadata": {},
   "outputs": [
    {
     "name": "stdout",
     "output_type": "stream",
     "text": [
      "<class 'pandas.core.frame.DataFrame'>\n",
      "RangeIndex: 1000 entries, 0 to 999\n",
      "Data columns (total 1 columns):\n",
      " #   Column  Non-Null Count  Dtype \n",
      "---  ------  --------------  ----- \n",
      " 0   vote    1000 non-null   object\n",
      "dtypes: object(1)\n",
      "memory usage: 7.9+ KB\n"
     ]
    }
   ],
   "source": [
    "poll.info()"
   ]
  },
  {
   "cell_type": "code",
   "execution_count": 4,
   "id": "f8502483",
   "metadata": {},
   "outputs": [
    {
     "data": {
      "text/plain": [
       "Brown    0.511\n",
       "Green    0.489\n",
       "Name: vote, dtype: float64"
      ]
     },
     "execution_count": 4,
     "metadata": {},
     "output_type": "execute_result"
    }
   ],
   "source": [
    "# count votes for Brown and Green\n",
    "poll.vote.value_counts(normalize=True)"
   ]
  },
  {
   "cell_type": "markdown",
   "id": "7331a177",
   "metadata": {},
   "source": [
    "<br>\n",
    "\n",
    "#### Data simulation\n",
    "___"
   ]
  },
  {
   "cell_type": "code",
   "execution_count": 5,
   "id": "958c23df",
   "metadata": {},
   "outputs": [],
   "source": [
    "def sample(brown, n=1000):\n",
    "    \"\"\" Function for a sample simulation \"\"\"\n",
    "    return pd.DataFrame({'vote':np.where(np.random.rand(n) < brown, 'Brown', 'Green')})"
   ]
  },
  {
   "cell_type": "code",
   "execution_count": 6,
   "id": "92af430a",
   "metadata": {},
   "outputs": [
    {
     "data": {
      "text/plain": [
       "Brown    0.506\n",
       "Green    0.494\n",
       "Name: vote, dtype: float64"
      ]
     },
     "execution_count": 6,
     "metadata": {},
     "output_type": "execute_result"
    }
   ],
   "source": [
    "# Run the data set simulation and count the votes\n",
    "s = sample(0.51, n=1000)\n",
    "s.vote.value_counts(normalize=True)"
   ]
  },
  {
   "cell_type": "code",
   "execution_count": 7,
   "id": "98f8c0fa",
   "metadata": {},
   "outputs": [],
   "source": [
    "# Count different sample votes 1000 times and store them in a dataframe\n",
    "dist = pd.DataFrame([sample(0.51).vote.value_counts(normalize=True) for i in range(1000)])"
   ]
  },
  {
   "cell_type": "code",
   "execution_count": 8,
   "id": "a77cb0c4",
   "metadata": {},
   "outputs": [
    {
     "data": {
      "text/html": [
       "<div>\n",
       "<style scoped>\n",
       "    .dataframe tbody tr th:only-of-type {\n",
       "        vertical-align: middle;\n",
       "    }\n",
       "\n",
       "    .dataframe tbody tr th {\n",
       "        vertical-align: top;\n",
       "    }\n",
       "\n",
       "    .dataframe thead th {\n",
       "        text-align: right;\n",
       "    }\n",
       "</style>\n",
       "<table border=\"1\" class=\"dataframe\">\n",
       "  <thead>\n",
       "    <tr style=\"text-align: right;\">\n",
       "      <th></th>\n",
       "      <th>Brown</th>\n",
       "      <th>Green</th>\n",
       "    </tr>\n",
       "  </thead>\n",
       "  <tbody>\n",
       "    <tr>\n",
       "      <th>vote</th>\n",
       "      <td>0.534</td>\n",
       "      <td>0.466</td>\n",
       "    </tr>\n",
       "    <tr>\n",
       "      <th>vote</th>\n",
       "      <td>0.507</td>\n",
       "      <td>0.493</td>\n",
       "    </tr>\n",
       "    <tr>\n",
       "      <th>vote</th>\n",
       "      <td>0.531</td>\n",
       "      <td>0.469</td>\n",
       "    </tr>\n",
       "    <tr>\n",
       "      <th>vote</th>\n",
       "      <td>0.484</td>\n",
       "      <td>0.516</td>\n",
       "    </tr>\n",
       "    <tr>\n",
       "      <th>vote</th>\n",
       "      <td>0.497</td>\n",
       "      <td>0.503</td>\n",
       "    </tr>\n",
       "  </tbody>\n",
       "</table>\n",
       "</div>"
      ],
      "text/plain": [
       "      Brown  Green\n",
       "vote  0.534  0.466\n",
       "vote  0.507  0.493\n",
       "vote  0.531  0.469\n",
       "vote  0.484  0.516\n",
       "vote  0.497  0.503"
      ]
     },
     "execution_count": 8,
     "metadata": {},
     "output_type": "execute_result"
    }
   ],
   "source": [
    "dist.head()"
   ]
  },
  {
   "cell_type": "code",
   "execution_count": 9,
   "id": "a6575225",
   "metadata": {},
   "outputs": [
    {
     "data": {
      "image/png": "[encoded data removed]",
      "text/plain": [
       "<Figure size 432x288 with 1 Axes>"
      ]
     },
     "metadata": {
      "needs_background": "light"
     },
     "output_type": "display_data"
    }
   ],
   "source": [
    "# Check the histogram\n",
    "dist.Brown.hist(histtype='step', bins=20);"
   ]
  },
  {
   "cell_type": "markdown",
   "id": "e8c94bf1",
   "metadata": {},
   "source": [
    "For True Brown fraction of 0.51 we may obtain any sample proportion from 0.48 to 0.55. The converse must be true also so 0.51 observed on the plot may actually originate from the Green majority. To make this more precise we need to use a confidence interval. It formed from the data in such a way that 95% of the times it will include the true values."
   ]
  },
  {
   "cell_type": "code",
   "execution_count": 10,
   "id": "39210194",
   "metadata": {},
   "outputs": [],
   "source": [
    "def samplingdist(brown, n=1000):\n",
    "    \"\"\" Function that creates a dataframe of 1000 counted votes\"\"\"\n",
    "    return pd.DataFrame([sample(brown).vote.value_counts(normalize=True) for i in range(n)])    "
   ]
  },
  {
   "cell_type": "code",
   "execution_count": 11,
   "id": "82bf1726",
   "metadata": {},
   "outputs": [],
   "source": [
    "def quantiles(brown, n=1000):\n",
    "    \"\"\" Function for quantile extraction (edges of confidence interval)\n",
    "    for 95% confidence level which lies between 2.5 and 97.5 \"\"\"\n",
    "    \n",
    "    dist = samplingdist(brown, n)\n",
    "    return dist.Brown.quantile(0.025), dist.Brown.quantile(0.975)"
   ]
  },
  {
   "cell_type": "code",
   "execution_count": 12,
   "id": "d419220c",
   "metadata": {},
   "outputs": [
    {
     "data": {
      "text/plain": [
       "((0.47, 0.53), (0.448975, 0.513), (0.508975, 0.568))"
      ]
     },
     "execution_count": 12,
     "metadata": {},
     "output_type": "execute_result"
    }
   ],
   "source": [
    "# Explore a number of values to find 0.51 on each end. \n",
    "quantiles(0.5), quantiles(0.48), quantiles(0.54)"
   ]
  },
  {
   "cell_type": "markdown",
   "id": "07ff5285",
   "metadata": {},
   "source": [
    "So for the observed sample proportion of 0.51 when a sample size of 1000 95% confidence interval for the two population function is 0.48 and 0.54. In other words, <br>\n",
    "Estimate = 0.51 (point estimate) += 0.03 (margin error) (at 95% confidence).\n",
    "We can increase it by increasing a sample size."
   ]
  },
  {
   "cell_type": "code",
   "execution_count": 13,
   "id": "82cf6e41",
   "metadata": {},
   "outputs": [],
   "source": [
    "dist = samplingdist(0.5, 10000)"
   ]
  },
  {
   "cell_type": "code",
   "execution_count": 14,
   "id": "dde96513",
   "metadata": {},
   "outputs": [
    {
     "data": {
      "image/png": "[encoded data removed]",
      "text/plain": [
       "<Figure size 432x288 with 1 Axes>"
      ]
     },
     "metadata": {
      "needs_background": "light"
     },
     "output_type": "display_data"
    }
   ],
   "source": [
    "dist.Brown.hist(histtype='step', bins=20);"
   ]
  },
  {
   "cell_type": "markdown",
   "id": "69a9333a",
   "metadata": {},
   "source": [
    "The plot shows the margin of error more like 1% which is sufficient to claim that Brown is a likely winner. Under very general conditions, the margin of error usually improves with a square root of a number of samples."
   ]
  },
  {
   "cell_type": "markdown",
   "id": "6e669125",
   "metadata": {},
   "source": [
    "<br>\n",
    "\n",
    "#### Comparison.\n",
    "___"
   ]
  },
  {
   "cell_type": "code",
   "execution_count": 15,
   "id": "41328667",
   "metadata": {},
   "outputs": [
    {
     "name": "stdout",
     "output_type": "stream",
     "text": [
      "<class 'pandas.core.frame.DataFrame'>\n",
      "RangeIndex: 10000 entries, 0 to 9999\n",
      "Data columns (total 1 columns):\n",
      " #   Column  Non-Null Count  Dtype \n",
      "---  ------  --------------  ----- \n",
      " 0   vote    10000 non-null  object\n",
      "dtypes: object(1)\n",
      "memory usage: 78.2+ KB\n"
     ]
    }
   ],
   "source": [
    "# Load a larger data set with actual votes to compare with the simulated data\n",
    "largepoll = pd.read_csv('../Data/poll-larger.csv')\n",
    "largepoll.info()"
   ]
  },
  {
   "cell_type": "code",
   "execution_count": 16,
   "id": "aeac1ee2",
   "metadata": {},
   "outputs": [
    {
     "data": {
      "text/plain": [
       "Green    0.5181\n",
       "Brown    0.4819\n",
       "Name: vote, dtype: float64"
      ]
     },
     "execution_count": 16,
     "metadata": {},
     "output_type": "execute_result"
    }
   ],
   "source": [
    "# Count the actual votes \n",
    "largepoll.vote.value_counts(normalize=True)"
   ]
  },
  {
   "cell_type": "markdown",
   "id": "1d0d4757",
   "metadata": {},
   "source": [
    "However, from collecting the 10000 votes we can see that Green is more likely winner. "
   ]
  },
  {
   "cell_type": "markdown",
   "id": "efa1ca97",
   "metadata": {},
   "source": [
    "<br>\n",
    "\n",
    "#### Hypothesis testing.\n",
    "___\n",
    "\n",
    "There is a close connection between hypothesis testing and confidence interval. If the null hypothesis corresponds with the range of values for the population parameter that are excluded from the confidence interval then the null hypothesis must be rejected with a very low P-value. The lower it is, the higher the confidence level of the interval."
   ]
  },
  {
   "cell_type": "code",
   "execution_count": 17,
   "id": "285dfda5",
   "metadata": {},
   "outputs": [
    {
     "data": {
      "text/html": [
       "<div>\n",
       "<style scoped>\n",
       "    .dataframe tbody tr th:only-of-type {\n",
       "        vertical-align: middle;\n",
       "    }\n",
       "\n",
       "    .dataframe tbody tr th {\n",
       "        vertical-align: top;\n",
       "    }\n",
       "\n",
       "    .dataframe thead th {\n",
       "        text-align: right;\n",
       "    }\n",
       "</style>\n",
       "<table border=\"1\" class=\"dataframe\">\n",
       "  <thead>\n",
       "    <tr style=\"text-align: right;\">\n",
       "      <th></th>\n",
       "      <th>Green</th>\n",
       "      <th>Brown</th>\n",
       "    </tr>\n",
       "  </thead>\n",
       "  <tbody>\n",
       "    <tr>\n",
       "      <th>vote</th>\n",
       "      <td>0.516</td>\n",
       "      <td>0.484</td>\n",
       "    </tr>\n",
       "    <tr>\n",
       "      <th>vote</th>\n",
       "      <td>0.523</td>\n",
       "      <td>0.477</td>\n",
       "    </tr>\n",
       "    <tr>\n",
       "      <th>vote</th>\n",
       "      <td>0.483</td>\n",
       "      <td>0.517</td>\n",
       "    </tr>\n",
       "    <tr>\n",
       "      <th>vote</th>\n",
       "      <td>0.480</td>\n",
       "      <td>0.520</td>\n",
       "    </tr>\n",
       "    <tr>\n",
       "      <th>vote</th>\n",
       "      <td>0.490</td>\n",
       "      <td>0.510</td>\n",
       "    </tr>\n",
       "  </tbody>\n",
       "</table>\n",
       "</div>"
      ],
      "text/plain": [
       "      Green  Brown\n",
       "vote  0.516  0.484\n",
       "vote  0.523  0.477\n",
       "vote  0.483  0.517\n",
       "vote  0.480  0.520\n",
       "vote  0.490  0.510"
      ]
     },
     "execution_count": 17,
     "metadata": {},
     "output_type": "execute_result"
    }
   ],
   "source": [
    "# look again at our simulated data\n",
    "dist.head()"
   ]
  },
  {
   "cell_type": "code",
   "execution_count": 18,
   "id": "fed33591",
   "metadata": {},
   "outputs": [
    {
     "data": {
      "text/plain": [
       "24.735"
      ]
     },
     "execution_count": 18,
     "metadata": {},
     "output_type": "execute_result"
    }
   ],
   "source": [
    "# corresponding p value \n",
    "100 - ss.percentileofscore(dist.Brown, 0.511)"
   ]
  },
  {
   "cell_type": "markdown",
   "id": "d6afbd84",
   "metadata": {},
   "source": [
    "This is certainly not enough to reject the null hypothesis (that Green wins). "
   ]
  },
  {
   "cell_type": "code",
   "execution_count": 19,
   "id": "903fd5b7",
   "metadata": {},
   "outputs": [
    {
     "data": {
      "text/plain": [
       "vote \n",
       "Green    0.5181\n",
       "Brown    0.4819\n",
       "dtype: float64"
      ]
     },
     "execution_count": 19,
     "metadata": {},
     "output_type": "execute_result"
    }
   ],
   "source": [
    "# look at the large poll data again\n",
    "largepoll.value_counts(normalize=True)"
   ]
  },
  {
   "cell_type": "code",
   "execution_count": 20,
   "id": "6b81c4cc",
   "metadata": {},
   "outputs": [],
   "source": [
    "# collect a sample this time for Green\n",
    "dist = pd.DataFrame({'Green': [sample(0.50, 10000).vote.value_counts(normalize=True)['Green'] for i in range(1000)]})    "
   ]
  },
  {
   "cell_type": "code",
   "execution_count": 21,
   "id": "623d14cd",
   "metadata": {
    "scrolled": true
   },
   "outputs": [
    {
     "data": {
      "image/png": "[encoded data removed]",
      "text/plain": [
       "<Figure size 432x288 with 1 Axes>"
      ]
     },
     "metadata": {
      "needs_background": "light"
     },
     "output_type": "display_data"
    }
   ],
   "source": [
    "# let's see histogram for Green fraction and\n",
    "# overlay it with Brown't fraction of 0.5181\n",
    "dist.Green.hist(histtype='step', bins=20)\n",
    "plt.axvline(0.5181, c='C1');"
   ]
  },
  {
   "cell_type": "markdown",
   "id": "59d2ab7f",
   "metadata": {},
   "source": [
    "We can see that the Brown's fraction value is so extreme that it is not even included in the sampling distribution. We can conclude that the P-value for rejecting the null hypothesis that Brown wins is 1 over 1000 or less which qualifies as very significant."
   ]
  },
  {
   "cell_type": "markdown",
   "id": "a0d2ab03",
   "metadata": {},
   "source": [
    "<br>\n",
    "\n",
    "#### Confidence interval for passing grade using Bootstrapping\n",
    "___"
   ]
  },
  {
   "cell_type": "code",
   "execution_count": 22,
   "id": "896cbb68",
   "metadata": {},
   "outputs": [
    {
     "data": {
      "text/html": [
       "<div>\n",
       "<style scoped>\n",
       "    .dataframe tbody tr th:only-of-type {\n",
       "        vertical-align: middle;\n",
       "    }\n",
       "\n",
       "    .dataframe tbody tr th {\n",
       "        vertical-align: top;\n",
       "    }\n",
       "\n",
       "    .dataframe thead th {\n",
       "        text-align: right;\n",
       "    }\n",
       "</style>\n",
       "<table border=\"1\" class=\"dataframe\">\n",
       "  <thead>\n",
       "    <tr style=\"text-align: right;\">\n",
       "      <th></th>\n",
       "      <th>grade</th>\n",
       "    </tr>\n",
       "  </thead>\n",
       "  <tbody>\n",
       "    <tr>\n",
       "      <th>0</th>\n",
       "      <td>3.648651</td>\n",
       "    </tr>\n",
       "    <tr>\n",
       "      <th>1</th>\n",
       "      <td>5.959915</td>\n",
       "    </tr>\n",
       "    <tr>\n",
       "      <th>2</th>\n",
       "      <td>7.387370</td>\n",
       "    </tr>\n",
       "    <tr>\n",
       "      <th>3</th>\n",
       "      <td>4.047515</td>\n",
       "    </tr>\n",
       "    <tr>\n",
       "      <th>4</th>\n",
       "      <td>2.846912</td>\n",
       "    </tr>\n",
       "  </tbody>\n",
       "</table>\n",
       "</div>"
      ],
      "text/plain": [
       "      grade\n",
       "0  3.648651\n",
       "1  5.959915\n",
       "2  7.387370\n",
       "3  4.047515\n",
       "4  2.846912"
      ]
     },
     "execution_count": 22,
     "metadata": {},
     "output_type": "execute_result"
    }
   ],
   "source": [
    "# load grades\n",
    "pop = pd.read_csv('../Data/grades.csv')\n",
    "pop.head()"
   ]
  },
  {
   "cell_type": "code",
   "execution_count": 23,
   "id": "44dc5b49",
   "metadata": {},
   "outputs": [
    {
     "data": {
      "text/plain": [
       "<AxesSubplot:>"
      ]
     },
     "execution_count": 23,
     "metadata": {},
     "output_type": "execute_result"
    },
    {
     "data": {
      "image/png": "[encoded data removed]",
      "text/plain": [
       "<Figure size 432x288 with 1 Axes>"
      ]
     },
     "metadata": {
      "needs_background": "light"
     },
     "output_type": "display_data"
    }
   ],
   "source": [
    "# look at the histogram\n",
    "pop.grade.hist(histtype='step')"
   ]
  },
  {
   "cell_type": "code",
   "execution_count": 24,
   "id": "5f8ac2a4",
   "metadata": {},
   "outputs": [
    {
     "data": {
      "text/plain": [
       "43.0"
      ]
     },
     "execution_count": 24,
     "metadata": {},
     "output_type": "execute_result"
    }
   ],
   "source": [
    "# calculate the percentage of failing grade\n",
    "ss.percentileofscore(pop.grade, 5)"
   ]
  },
  {
   "cell_type": "markdown",
   "id": "b03b0837",
   "metadata": {},
   "source": [
    "The percentage of citizens who gave Green a failing grade is 43%"
   ]
  },
  {
   "cell_type": "code",
   "execution_count": 25,
   "id": "4a1547b6",
   "metadata": {
    "scrolled": true
   },
   "outputs": [
    {
     "data": {
      "text/html": [
       "<div>\n",
       "<style scoped>\n",
       "    .dataframe tbody tr th:only-of-type {\n",
       "        vertical-align: middle;\n",
       "    }\n",
       "\n",
       "    .dataframe tbody tr th {\n",
       "        vertical-align: top;\n",
       "    }\n",
       "\n",
       "    .dataframe thead th {\n",
       "        text-align: right;\n",
       "    }\n",
       "</style>\n",
       "<table border=\"1\" class=\"dataframe\">\n",
       "  <thead>\n",
       "    <tr style=\"text-align: right;\">\n",
       "      <th></th>\n",
       "      <th>passing_grade</th>\n",
       "    </tr>\n",
       "  </thead>\n",
       "  <tbody>\n",
       "    <tr>\n",
       "      <th>0</th>\n",
       "      <td>54.0</td>\n",
       "    </tr>\n",
       "    <tr>\n",
       "      <th>1</th>\n",
       "      <td>39.0</td>\n",
       "    </tr>\n",
       "    <tr>\n",
       "      <th>2</th>\n",
       "      <td>52.0</td>\n",
       "    </tr>\n",
       "    <tr>\n",
       "      <th>3</th>\n",
       "      <td>38.0</td>\n",
       "    </tr>\n",
       "    <tr>\n",
       "      <th>4</th>\n",
       "      <td>39.0</td>\n",
       "    </tr>\n",
       "  </tbody>\n",
       "</table>\n",
       "</div>"
      ],
      "text/plain": [
       "   passing_grade\n",
       "0           54.0\n",
       "1           39.0\n",
       "2           52.0\n",
       "3           38.0\n",
       "4           39.0"
      ]
     },
     "execution_count": 25,
     "metadata": {},
     "output_type": "execute_result"
    }
   ],
   "source": [
    "# bootstrap the grades\n",
    "bootstrap = pd.DataFrame({'passing_grade': [ss.percentileofscore(pop.sample(100, replace=True).grade, 5) for i in range(1000)]})\n",
    "bootstrap.head()"
   ]
  },
  {
   "cell_type": "code",
   "execution_count": 26,
   "id": "70c00c0d",
   "metadata": {},
   "outputs": [
    {
     "data": {
      "image/png": "[encoded data removed]",
      "text/plain": [
       "<Figure size 432x288 with 1 Axes>"
      ]
     },
     "metadata": {
      "needs_background": "light"
     },
     "output_type": "display_data"
    }
   ],
   "source": [
    "# look at the histogram \n",
    "bootstrap.hist(histtype='step');"
   ]
  },
  {
   "cell_type": "code",
   "execution_count": 27,
   "id": "b26a9b52",
   "metadata": {},
   "outputs": [
    {
     "data": {
      "text/plain": [
       "(33.0, 54.0)"
      ]
     },
     "execution_count": 27,
     "metadata": {},
     "output_type": "execute_result"
    }
   ],
   "source": [
    "# calculate confidence interval\n",
    "bootstrap.passing_grade.quantile(0.025), bootstrap.passing_grade.quantile(0.975)"
   ]
  },
  {
   "cell_type": "markdown",
   "id": "6c2da23c",
   "metadata": {},
   "source": [
    "Thus, the 95% confidence interval is between 33% and 52% for the percentage of citizens who think Green is failing. Overall, she very likely has the support of the majority of citizens. "
   ]
  },
  {
   "cell_type": "markdown",
   "id": "925fd832",
   "metadata": {},
   "source": [
    "<br>\n",
    "\n",
    "___\n",
    "#### End."
   ]
  }
 ],
 "metadata": {
  "kernelspec": {
   "display_name": "Python 3",
   "language": "python",
   "name": "python3"
  },
  "language_info": {
   "codemirror_mode": {
    "name": "ipython",
    "version": 3
   },
   "file_extension": ".py",
   "mimetype": "text/x-python",
   "name": "python",
   "nbconvert_exporter": "python",
   "pygments_lexer": "ipython3",
   "version": "3.8.8"
  }
 },
 "nbformat": 4,
 "nbformat_minor": 5
}
