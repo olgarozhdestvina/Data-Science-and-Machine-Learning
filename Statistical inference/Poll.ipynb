{
 "cells": [
  {
   "cell_type": "markdown",
   "id": "3207f944",
   "metadata": {},
   "source": [
    "## Poll\n",
    "___\n",
    "\n",
    "<br> \n",
    "\n",
    "#### General setup\n",
    "___"
   ]
  },
  {
   "cell_type": "code",
   "execution_count": 1,
   "id": "71ea4bfc",
   "metadata": {},
   "outputs": [],
   "source": [
    "# import packages\n",
    "import numpy as np\n",
    "import pandas as pd\n",
    "import matplotlib.pyplot as plt\n",
    "import matplotlib\n",
    "\n",
    "%matplotlib inline"
   ]
  },
  {
   "cell_type": "markdown",
   "id": "40677bbc",
   "metadata": {},
   "source": [
    "<br>\n",
    "\n",
    "#### Loading the data set\n",
    "___"
   ]
  },
  {
   "cell_type": "code",
   "execution_count": 2,
   "id": "80ec7c2a",
   "metadata": {},
   "outputs": [
    {
     "data": {
      "text/html": [
       "<div>\n",
       "<style scoped>\n",
       "    .dataframe tbody tr th:only-of-type {\n",
       "        vertical-align: middle;\n",
       "    }\n",
       "\n",
       "    .dataframe tbody tr th {\n",
       "        vertical-align: top;\n",
       "    }\n",
       "\n",
       "    .dataframe thead th {\n",
       "        text-align: right;\n",
       "    }\n",
       "</style>\n",
       "<table border=\"1\" class=\"dataframe\">\n",
       "  <thead>\n",
       "    <tr style=\"text-align: right;\">\n",
       "      <th></th>\n",
       "      <th>vote</th>\n",
       "    </tr>\n",
       "  </thead>\n",
       "  <tbody>\n",
       "    <tr>\n",
       "      <th>0</th>\n",
       "      <td>Brown</td>\n",
       "    </tr>\n",
       "    <tr>\n",
       "      <th>1</th>\n",
       "      <td>Green</td>\n",
       "    </tr>\n",
       "    <tr>\n",
       "      <th>2</th>\n",
       "      <td>Brown</td>\n",
       "    </tr>\n",
       "    <tr>\n",
       "      <th>3</th>\n",
       "      <td>Brown</td>\n",
       "    </tr>\n",
       "    <tr>\n",
       "      <th>4</th>\n",
       "      <td>Brown</td>\n",
       "    </tr>\n",
       "  </tbody>\n",
       "</table>\n",
       "</div>"
      ],
      "text/plain": [
       "    vote\n",
       "0  Brown\n",
       "1  Green\n",
       "2  Brown\n",
       "3  Brown\n",
       "4  Brown"
      ]
     },
     "execution_count": 2,
     "metadata": {},
     "output_type": "execute_result"
    }
   ],
   "source": [
    "# Load the csv file\n",
    "poll = pd.read_csv('../Data/poll.csv')\n",
    "poll.head()"
   ]
  },
  {
   "cell_type": "code",
   "execution_count": 3,
   "id": "e37eadf2",
   "metadata": {},
   "outputs": [
    {
     "name": "stdout",
     "output_type": "stream",
     "text": [
      "<class 'pandas.core.frame.DataFrame'>\n",
      "RangeIndex: 1000 entries, 0 to 999\n",
      "Data columns (total 1 columns):\n",
      " #   Column  Non-Null Count  Dtype \n",
      "---  ------  --------------  ----- \n",
      " 0   vote    1000 non-null   object\n",
      "dtypes: object(1)\n",
      "memory usage: 7.9+ KB\n"
     ]
    }
   ],
   "source": [
    "poll.info()"
   ]
  },
  {
   "cell_type": "code",
   "execution_count": 4,
   "id": "f8502483",
   "metadata": {},
   "outputs": [
    {
     "data": {
      "text/plain": [
       "Brown    0.511\n",
       "Green    0.489\n",
       "Name: vote, dtype: float64"
      ]
     },
     "execution_count": 4,
     "metadata": {},
     "output_type": "execute_result"
    }
   ],
   "source": [
    "# count votes for Brown and Green\n",
    "poll.vote.value_counts(normalize=True)"
   ]
  },
  {
   "cell_type": "markdown",
   "id": "7331a177",
   "metadata": {},
   "source": [
    "<br>\n",
    "\n",
    "#### Data simulation\n",
    "___"
   ]
  },
  {
   "cell_type": "code",
   "execution_count": 5,
   "id": "958c23df",
   "metadata": {},
   "outputs": [],
   "source": [
    "def sample(brown, n=1000):\n",
    "    \"\"\" Function for a sample simulation \"\"\"\n",
    "    return pd.DataFrame({'vote':np.where(np.random.rand(n) < brown, 'Brown', 'Green')})"
   ]
  },
  {
   "cell_type": "code",
   "execution_count": 6,
   "id": "92af430a",
   "metadata": {},
   "outputs": [
    {
     "data": {
      "text/plain": [
       "Brown    0.516\n",
       "Green    0.484\n",
       "Name: vote, dtype: float64"
      ]
     },
     "execution_count": 6,
     "metadata": {},
     "output_type": "execute_result"
    }
   ],
   "source": [
    "# Run the data set simulation and count the votes\n",
    "s = sample(0.51, n=1000)\n",
    "s.vote.value_counts(normalize=True)"
   ]
  },
  {
   "cell_type": "code",
   "execution_count": 7,
   "id": "98f8c0fa",
   "metadata": {},
   "outputs": [],
   "source": [
    "# Count different sample votes 1000 times and store them in a dataframe\n",
    "dist = pd.DataFrame([sample(0.51).vote.value_counts(normalize=True) for i in range(1000)])"
   ]
  },
  {
   "cell_type": "code",
   "execution_count": 8,
   "id": "a77cb0c4",
   "metadata": {},
   "outputs": [
    {
     "data": {
      "text/html": [
       "<div>\n",
       "<style scoped>\n",
       "    .dataframe tbody tr th:only-of-type {\n",
       "        vertical-align: middle;\n",
       "    }\n",
       "\n",
       "    .dataframe tbody tr th {\n",
       "        vertical-align: top;\n",
       "    }\n",
       "\n",
       "    .dataframe thead th {\n",
       "        text-align: right;\n",
       "    }\n",
       "</style>\n",
       "<table border=\"1\" class=\"dataframe\">\n",
       "  <thead>\n",
       "    <tr style=\"text-align: right;\">\n",
       "      <th></th>\n",
       "      <th>Green</th>\n",
       "      <th>Brown</th>\n",
       "    </tr>\n",
       "  </thead>\n",
       "  <tbody>\n",
       "    <tr>\n",
       "      <th>vote</th>\n",
       "      <td>0.508</td>\n",
       "      <td>0.492</td>\n",
       "    </tr>\n",
       "    <tr>\n",
       "      <th>vote</th>\n",
       "      <td>0.506</td>\n",
       "      <td>0.494</td>\n",
       "    </tr>\n",
       "    <tr>\n",
       "      <th>vote</th>\n",
       "      <td>0.503</td>\n",
       "      <td>0.497</td>\n",
       "    </tr>\n",
       "    <tr>\n",
       "      <th>vote</th>\n",
       "      <td>0.492</td>\n",
       "      <td>0.508</td>\n",
       "    </tr>\n",
       "    <tr>\n",
       "      <th>vote</th>\n",
       "      <td>0.527</td>\n",
       "      <td>0.473</td>\n",
       "    </tr>\n",
       "  </tbody>\n",
       "</table>\n",
       "</div>"
      ],
      "text/plain": [
       "      Green  Brown\n",
       "vote  0.508  0.492\n",
       "vote  0.506  0.494\n",
       "vote  0.503  0.497\n",
       "vote  0.492  0.508\n",
       "vote  0.527  0.473"
      ]
     },
     "execution_count": 8,
     "metadata": {},
     "output_type": "execute_result"
    }
   ],
   "source": [
    "dist.head()"
   ]
  },
  {
   "cell_type": "code",
   "execution_count": 9,
   "id": "a6575225",
   "metadata": {},
   "outputs": [
    {
     "data": {
      "image/png": "[encoded data removed]",
      "text/plain": [
       "<Figure size 432x288 with 1 Axes>"
      ]
     },
     "metadata": {
      "needs_background": "light"
     },
     "output_type": "display_data"
    }
   ],
   "source": [
    "# Check the histogram\n",
    "dist.Brown.hist(histtype='step', bins=20);"
   ]
  },
  {
   "cell_type": "markdown",
   "id": "e8c94bf1",
   "metadata": {},
   "source": [
    "For True Brown fraction of 0.51 we may obtain any sample proportion from 0.48 to 0.55. The converse must be true also so 0.51 observed on the plot may actually originate from the Green majority. To make this more precise we need to use a confidence interval. It formed from the data in such a way that 95% of the times it will include the true values."
   ]
  },
  {
   "cell_type": "code",
   "execution_count": 10,
   "id": "39210194",
   "metadata": {},
   "outputs": [],
   "source": [
    "def samplingdist(brown, n=1000):\n",
    "    \"\"\" Function that creates a dataframe of 1000 counted votes\"\"\"\n",
    "    return pd.DataFrame([sample(brown).vote.value_counts(normalize=True) for i in range(n)])    "
   ]
  },
  {
   "cell_type": "code",
   "execution_count": 11,
   "id": "82bf1726",
   "metadata": {},
   "outputs": [],
   "source": [
    "def quantiles(brown, n=1000):\n",
    "    \"\"\" Function for quantile extraction (edges of confidence interval)\n",
    "    for 95% confidence level which lies between 2.5 and 97.5 \"\"\"\n",
    "    \n",
    "    dist = samplingdist(brown, n)\n",
    "    return dist.Brown.quantile(0.025), dist.Brown.quantile(0.975)"
   ]
  },
  {
   "cell_type": "code",
   "execution_count": 12,
   "id": "d419220c",
   "metadata": {},
   "outputs": [
    {
     "data": {
      "text/plain": [
       "((0.468, 0.529), (0.45, 0.51), (0.508, 0.572))"
      ]
     },
     "execution_count": 12,
     "metadata": {},
     "output_type": "execute_result"
    }
   ],
   "source": [
    "# Explore a number of values to find 0.51 on each end. \n",
    "quantiles(0.5), quantiles(0.48), quantiles(0.54)"
   ]
  },
  {
   "cell_type": "markdown",
   "id": "07ff5285",
   "metadata": {},
   "source": [
    "So for the observed sample proportion of 0.51 when a sample size of 1000 95% confidence interval for the two population function is 0.48 and 0.54. In other words, <br>\n",
    "Estimate = 0.51 (point estimate) += 0.03 (margin error) (at 95% confidence).\n",
    "We can increase it by increasing a sample size."
   ]
  },
  {
   "cell_type": "code",
   "execution_count": 13,
   "id": "82cf6e41",
   "metadata": {},
   "outputs": [],
   "source": [
    "dist = samplingdist(0.5, 10000)"
   ]
  },
  {
   "cell_type": "code",
   "execution_count": 14,
   "id": "dde96513",
   "metadata": {},
   "outputs": [
    {
     "data": {
      "image/png": "[encoded data removed]",
      "text/plain": [
       "<Figure size 432x288 with 1 Axes>"
      ]
     },
     "metadata": {
      "needs_background": "light"
     },
     "output_type": "display_data"
    }
   ],
   "source": [
    "dist.Brown.hist(histtype='step');"
   ]
  },
  {
   "cell_type": "markdown",
   "id": "69a9333a",
   "metadata": {},
   "source": [
    "The plot shows the margin of error more like 1% which is sufficient to claim that Brown is a likely winner. Under very general conditions, the margin of error usually improves with a square root of a number of samples."
   ]
  },
  {
   "cell_type": "markdown",
   "id": "6e669125",
   "metadata": {},
   "source": [
    "<br>\n",
    "\n",
    "#### Comparison.\n",
    "___"
   ]
  },
  {
   "cell_type": "code",
   "execution_count": 15,
   "id": "41328667",
   "metadata": {},
   "outputs": [
    {
     "name": "stdout",
     "output_type": "stream",
     "text": [
      "<class 'pandas.core.frame.DataFrame'>\n",
      "RangeIndex: 10000 entries, 0 to 9999\n",
      "Data columns (total 1 columns):\n",
      " #   Column  Non-Null Count  Dtype \n",
      "---  ------  --------------  ----- \n",
      " 0   vote    10000 non-null  object\n",
      "dtypes: object(1)\n",
      "memory usage: 78.2+ KB\n"
     ]
    }
   ],
   "source": [
    "# Load a larger data set with actual votes to compare with the simulated data\n",
    "largepoll = pd.read_csv('../Data/poll-larger.csv')\n",
    "largepoll.info()"
   ]
  },
  {
   "cell_type": "code",
   "execution_count": 16,
   "id": "aeac1ee2",
   "metadata": {},
   "outputs": [
    {
     "data": {
      "text/plain": [
       "Green    0.5181\n",
       "Brown    0.4819\n",
       "Name: vote, dtype: float64"
      ]
     },
     "execution_count": 16,
     "metadata": {},
     "output_type": "execute_result"
    }
   ],
   "source": [
    "# Count the actual votes \n",
    "largepoll.vote.value_counts(normalize=True)"
   ]
  },
  {
   "cell_type": "markdown",
   "id": "1d0d4757",
   "metadata": {},
   "source": [
    "However, from collecting the 10000 votes we can see that Green is more likely winner. "
   ]
  },
  {
   "cell_type": "markdown",
   "id": "925fd832",
   "metadata": {},
   "source": [
    "<br>\n",
    "\n",
    "___\n",
    "#### End."
   ]
  }
 ],
 "metadata": {
  "kernelspec": {
   "display_name": "Python 3",
   "language": "python",
   "name": "python3"
  },
  "language_info": {
   "codemirror_mode": {
    "name": "ipython",
    "version": 3
   },
   "file_extension": ".py",
   "mimetype": "text/x-python",
   "name": "python",
   "nbconvert_exporter": "python",
   "pygments_lexer": "ipython3",
   "version": "3.8.8"
  }
 },
 "nbformat": 4,
 "nbformat_minor": 5
}
