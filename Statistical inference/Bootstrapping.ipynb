{
 "cells": [
  {
   "cell_type": "markdown",
   "id": "a6e443e1",
   "metadata": {},
   "source": [
    "## Bootstrapping\n",
    "___\n",
    "\n",
    "Below is a poll that measures a level of support that citizens have in mayor Green (on 100 samples).\n",
    "\n",
    "<br> \n",
    "\n",
    "#### General setup\n",
    "___"
   ]
  },
  {
   "cell_type": "code",
   "execution_count": 1,
   "id": "daeda66a",
   "metadata": {},
   "outputs": [],
   "source": [
    "# Import packages\n",
    "import numpy as np\n",
    "import pandas as pd\n",
    "import matplotlib.pyplot as plt\n",
    "import matplotlib\n",
    "import scipy.stats as ss\n",
    "\n",
    "%matplotlib inline"
   ]
  },
  {
   "cell_type": "markdown",
   "id": "8519b044",
   "metadata": {},
   "source": [
    "<br>\n",
    "\n",
    "#### Loading the data set\n",
    "___"
   ]
  },
  {
   "cell_type": "code",
   "execution_count": 2,
   "id": "2178fcf0",
   "metadata": {},
   "outputs": [
    {
     "name": "stdout",
     "output_type": "stream",
     "text": [
      "<class 'pandas.core.frame.DataFrame'>\n",
      "RangeIndex: 100 entries, 0 to 99\n",
      "Data columns (total 1 columns):\n",
      " #   Column  Non-Null Count  Dtype  \n",
      "---  ------  --------------  -----  \n",
      " 0   grade   100 non-null    float64\n",
      "dtypes: float64(1)\n",
      "memory usage: 928.0 bytes\n"
     ]
    }
   ],
   "source": [
    "# Load the csv file\n",
    "pop = pd.read_csv('../Data/grades.csv')\n",
    "pop.info()"
   ]
  },
  {
   "cell_type": "code",
   "execution_count": 3,
   "id": "dbcbe6be",
   "metadata": {},
   "outputs": [
    {
     "data": {
      "text/html": [
       "<div>\n",
       "<style scoped>\n",
       "    .dataframe tbody tr th:only-of-type {\n",
       "        vertical-align: middle;\n",
       "    }\n",
       "\n",
       "    .dataframe tbody tr th {\n",
       "        vertical-align: top;\n",
       "    }\n",
       "\n",
       "    .dataframe thead th {\n",
       "        text-align: right;\n",
       "    }\n",
       "</style>\n",
       "<table border=\"1\" class=\"dataframe\">\n",
       "  <thead>\n",
       "    <tr style=\"text-align: right;\">\n",
       "      <th></th>\n",
       "      <th>grade</th>\n",
       "    </tr>\n",
       "  </thead>\n",
       "  <tbody>\n",
       "    <tr>\n",
       "      <th>0</th>\n",
       "      <td>3.648651</td>\n",
       "    </tr>\n",
       "    <tr>\n",
       "      <th>1</th>\n",
       "      <td>5.959915</td>\n",
       "    </tr>\n",
       "    <tr>\n",
       "      <th>2</th>\n",
       "      <td>7.387370</td>\n",
       "    </tr>\n",
       "    <tr>\n",
       "      <th>3</th>\n",
       "      <td>4.047515</td>\n",
       "    </tr>\n",
       "    <tr>\n",
       "      <th>4</th>\n",
       "      <td>2.846912</td>\n",
       "    </tr>\n",
       "  </tbody>\n",
       "</table>\n",
       "</div>"
      ],
      "text/plain": [
       "      grade\n",
       "0  3.648651\n",
       "1  5.959915\n",
       "2  7.387370\n",
       "3  4.047515\n",
       "4  2.846912"
      ]
     },
     "execution_count": 3,
     "metadata": {},
     "output_type": "execute_result"
    }
   ],
   "source": [
    "pop.head()"
   ]
  },
  {
   "cell_type": "code",
   "execution_count": 4,
   "id": "c719ae36",
   "metadata": {},
   "outputs": [
    {
     "data": {
      "image/png": "[encoded data removed]",
      "text/plain": [
       "<Figure size 432x288 with 1 Axes>"
      ]
     },
     "metadata": {
      "needs_background": "light"
     },
     "output_type": "display_data"
    }
   ],
   "source": [
    "# Checking distribution\n",
    "pop.grade.hist(histtype='step');"
   ]
  },
  {
   "cell_type": "code",
   "execution_count": 5,
   "id": "c7bbb705",
   "metadata": {},
   "outputs": [
    {
     "data": {
      "text/html": [
       "<div>\n",
       "<style scoped>\n",
       "    .dataframe tbody tr th:only-of-type {\n",
       "        vertical-align: middle;\n",
       "    }\n",
       "\n",
       "    .dataframe tbody tr th {\n",
       "        vertical-align: top;\n",
       "    }\n",
       "\n",
       "    .dataframe thead th {\n",
       "        text-align: right;\n",
       "    }\n",
       "</style>\n",
       "<table border=\"1\" class=\"dataframe\">\n",
       "  <thead>\n",
       "    <tr style=\"text-align: right;\">\n",
       "      <th></th>\n",
       "      <th>grade</th>\n",
       "    </tr>\n",
       "  </thead>\n",
       "  <tbody>\n",
       "    <tr>\n",
       "      <th>count</th>\n",
       "      <td>100.000000</td>\n",
       "    </tr>\n",
       "    <tr>\n",
       "      <th>mean</th>\n",
       "      <td>5.508561</td>\n",
       "    </tr>\n",
       "    <tr>\n",
       "      <th>std</th>\n",
       "      <td>1.984988</td>\n",
       "    </tr>\n",
       "    <tr>\n",
       "      <th>min</th>\n",
       "      <td>1.160899</td>\n",
       "    </tr>\n",
       "    <tr>\n",
       "      <th>25%</th>\n",
       "      <td>3.921372</td>\n",
       "    </tr>\n",
       "    <tr>\n",
       "      <th>50%</th>\n",
       "      <td>5.688527</td>\n",
       "    </tr>\n",
       "    <tr>\n",
       "      <th>75%</th>\n",
       "      <td>7.272162</td>\n",
       "    </tr>\n",
       "    <tr>\n",
       "      <th>max</th>\n",
       "      <td>9.120705</td>\n",
       "    </tr>\n",
       "  </tbody>\n",
       "</table>\n",
       "</div>"
      ],
      "text/plain": [
       "            grade\n",
       "count  100.000000\n",
       "mean     5.508561\n",
       "std      1.984988\n",
       "min      1.160899\n",
       "25%      3.921372\n",
       "50%      5.688527\n",
       "75%      7.272162\n",
       "max      9.120705"
      ]
     },
     "execution_count": 5,
     "metadata": {},
     "output_type": "execute_result"
    }
   ],
   "source": [
    "# Describe the sample with summary stats\n",
    "pop.describe()"
   ]
  },
  {
   "cell_type": "markdown",
   "id": "1e3ea60e",
   "metadata": {},
   "source": [
    "Since the distribution is not a recognizable simple form but the mean for this sample is 5.5. What can be said about true mean value? Since we cannot describe the distribution we cannot simulate it. This is where bootstrapping comes in place. For this we will estimates the mean uncertainty by generating a large family of samples from the one we have and then by characterizing the distribution of the mean over this family.\n",
    "\n",
    "<br>\n",
    "\n",
    "#### Bootstrapping\n",
    "___\n",
    "\n",
    "Each sample in the family is formed as follow: we select grades randomly for a single existing sample allowing the same grade to be drawn more than once."
   ]
  },
  {
   "cell_type": "code",
   "execution_count": 6,
   "id": "8fccac53",
   "metadata": {},
   "outputs": [
    {
     "data": {
      "text/html": [
       "<div>\n",
       "<style scoped>\n",
       "    .dataframe tbody tr th:only-of-type {\n",
       "        vertical-align: middle;\n",
       "    }\n",
       "\n",
       "    .dataframe tbody tr th {\n",
       "        vertical-align: top;\n",
       "    }\n",
       "\n",
       "    .dataframe thead th {\n",
       "        text-align: right;\n",
       "    }\n",
       "</style>\n",
       "<table border=\"1\" class=\"dataframe\">\n",
       "  <thead>\n",
       "    <tr style=\"text-align: right;\">\n",
       "      <th></th>\n",
       "      <th>grade</th>\n",
       "    </tr>\n",
       "  </thead>\n",
       "  <tbody>\n",
       "    <tr>\n",
       "      <th>count</th>\n",
       "      <td>100.000000</td>\n",
       "    </tr>\n",
       "    <tr>\n",
       "      <th>mean</th>\n",
       "      <td>5.339239</td>\n",
       "    </tr>\n",
       "    <tr>\n",
       "      <th>std</th>\n",
       "      <td>2.034726</td>\n",
       "    </tr>\n",
       "    <tr>\n",
       "      <th>min</th>\n",
       "      <td>1.983167</td>\n",
       "    </tr>\n",
       "    <tr>\n",
       "      <th>25%</th>\n",
       "      <td>3.641594</td>\n",
       "    </tr>\n",
       "    <tr>\n",
       "      <th>50%</th>\n",
       "      <td>5.342877</td>\n",
       "    </tr>\n",
       "    <tr>\n",
       "      <th>75%</th>\n",
       "      <td>7.132170</td>\n",
       "    </tr>\n",
       "    <tr>\n",
       "      <th>max</th>\n",
       "      <td>8.467353</td>\n",
       "    </tr>\n",
       "  </tbody>\n",
       "</table>\n",
       "</div>"
      ],
      "text/plain": [
       "            grade\n",
       "count  100.000000\n",
       "mean     5.339239\n",
       "std      2.034726\n",
       "min      1.983167\n",
       "25%      3.641594\n",
       "50%      5.342877\n",
       "75%      7.132170\n",
       "max      8.467353"
      ]
     },
     "execution_count": 6,
     "metadata": {},
     "output_type": "execute_result"
    }
   ],
   "source": [
    "# Sample with replacement\n",
    "pop.sample(100, replace=True).describe()"
   ]
  },
  {
   "cell_type": "code",
   "execution_count": 7,
   "id": "168b819b",
   "metadata": {},
   "outputs": [
    {
     "data": {
      "text/html": [
       "<div>\n",
       "<style scoped>\n",
       "    .dataframe tbody tr th:only-of-type {\n",
       "        vertical-align: middle;\n",
       "    }\n",
       "\n",
       "    .dataframe tbody tr th {\n",
       "        vertical-align: top;\n",
       "    }\n",
       "\n",
       "    .dataframe thead th {\n",
       "        text-align: right;\n",
       "    }\n",
       "</style>\n",
       "<table border=\"1\" class=\"dataframe\">\n",
       "  <thead>\n",
       "    <tr style=\"text-align: right;\">\n",
       "      <th></th>\n",
       "      <th>meangrade</th>\n",
       "    </tr>\n",
       "  </thead>\n",
       "  <tbody>\n",
       "    <tr>\n",
       "      <th>0</th>\n",
       "      <td>5.461298</td>\n",
       "    </tr>\n",
       "    <tr>\n",
       "      <th>1</th>\n",
       "      <td>5.456024</td>\n",
       "    </tr>\n",
       "    <tr>\n",
       "      <th>2</th>\n",
       "      <td>5.398386</td>\n",
       "    </tr>\n",
       "    <tr>\n",
       "      <th>3</th>\n",
       "      <td>5.523883</td>\n",
       "    </tr>\n",
       "    <tr>\n",
       "      <th>4</th>\n",
       "      <td>5.977231</td>\n",
       "    </tr>\n",
       "  </tbody>\n",
       "</table>\n",
       "</div>"
      ],
      "text/plain": [
       "   meangrade\n",
       "0   5.461298\n",
       "1   5.456024\n",
       "2   5.398386\n",
       "3   5.523883\n",
       "4   5.977231"
      ]
     },
     "execution_count": 7,
     "metadata": {},
     "output_type": "execute_result"
    }
   ],
   "source": [
    "# Create a bootstrap of distribution of means\n",
    "bootstrap = pd.DataFrame({'meangrade': [pop.sample(100, replace=True).grade.mean() for i in range(1000)]})\n",
    "bootstrap.head()"
   ]
  },
  {
   "cell_type": "code",
   "execution_count": 8,
   "id": "4ff08c59",
   "metadata": {},
   "outputs": [
    {
     "data": {
      "image/png": "[encoded data removed]",
      "text/plain": [
       "<Figure size 432x288 with 1 Axes>"
      ]
     },
     "metadata": {
      "needs_background": "light"
     },
     "output_type": "display_data"
    }
   ],
   "source": [
    "# Build a histogram of bootstrap means over the original mean of actual grades\n",
    "bootstrap.meangrade.hist(histtype='step')\n",
    "plt.axvline(pop.grade.mean(), c='r', linestyle='--');"
   ]
  },
  {
   "cell_type": "markdown",
   "id": "a1791831",
   "metadata": {},
   "source": [
    "The mean is the same, but with siginificant spread around it. "
   ]
  },
  {
   "cell_type": "code",
   "execution_count": 9,
   "id": "d880b554",
   "metadata": {},
   "outputs": [
    {
     "data": {
      "text/plain": [
       "(5.11496910278873, 5.8949741925444865)"
      ]
     },
     "execution_count": 9,
     "metadata": {},
     "output_type": "execute_result"
    }
   ],
   "source": [
    "# Extract the quantiles\n",
    "bootstrap.meangrade.quantile(0.025), bootstrap.meangrade.quantile(0.975)"
   ]
  },
  {
   "cell_type": "markdown",
   "id": "0631885d",
   "metadata": {},
   "source": [
    "The bootstrap approximated the 95% confidence interval between 5.1 and 5.9. It appears that meangrade is slightly to be a passing one. The bootstrap procedure requires the sample that we have to be representative and under very general assumptions. \n",
    "\n",
    "<br>\n",
    "\n",
    "#### How the poll data was generated\n",
    "___\n",
    "\n",
    "The distribution that was used was a sum of two normal distributions with equal weights (bimodal distribution)."
   ]
  },
  {
   "cell_type": "code",
   "execution_count": 10,
   "id": "45f80bc3",
   "metadata": {},
   "outputs": [
    {
     "data": {
      "image/png": "[encoded data removed]",
      "text/plain": [
       "<Figure size 432x288 with 1 Axes>"
      ]
     },
     "metadata": {
      "needs_background": "light"
     },
     "output_type": "display_data"
    }
   ],
   "source": [
    "# Create two normal distributions \n",
    "n1 = ss.norm(7.5, 1)\n",
    "n2 = ss.norm(4, 1)\n",
    "\n",
    "# Plot the probability density\n",
    "x = np.linspace(0,10,100)\n",
    "plt.plot(x, 0.5*n1.pdf(x) + 0.5*n2.pdf(x));"
   ]
  },
  {
   "cell_type": "code",
   "execution_count": 11,
   "id": "906068aa",
   "metadata": {},
   "outputs": [],
   "source": [
    "def draw():\n",
    "    \"\"\" Function to draw a simple grade that cannot be below 0 or above 10 \"\"\"\n",
    "    while True:\n",
    "        # rvs returns a random sample from a distribution\n",
    "        v = n1.rvs() if np.random.rand() < 0.5 else n2.rvs()\n",
    "        \n",
    "        # Trank the sample\n",
    "        if 0 <= v <= 10:\n",
    "            return v"
   ]
  },
  {
   "cell_type": "code",
   "execution_count": 12,
   "id": "e3966ce4",
   "metadata": {},
   "outputs": [],
   "source": [
    "def dataset(n=100):\n",
    "    \"\"\" Function to create a data set by drawing samples repeteadly 100 times \"\"\"\n",
    "    return pd.DataFrame({'grade': [draw() for i in range(n)]})"
   ]
  },
  {
   "cell_type": "code",
   "execution_count": 13,
   "id": "0cba36f6",
   "metadata": {},
   "outputs": [
    {
     "data": {
      "image/png": "[encoded data removed]",
      "text/plain": [
       "<Figure size 432x288 with 1 Axes>"
      ]
     },
     "metadata": {
      "needs_background": "light"
     },
     "output_type": "display_data"
    }
   ],
   "source": [
    "# Check the histogram of 5 sample data sets\n",
    "[dataset().grade.hist(histtype='step', density=True) for i in range(5)];"
   ]
  },
  {
   "cell_type": "code",
   "execution_count": 14,
   "id": "ef03c81b",
   "metadata": {},
   "outputs": [],
   "source": [
    "# As for the sampling distribution of the mean we use a simulation\n",
    "means = pd.DataFrame({'meangrade': [dataset().grade.mean() for i in range(1000)]})"
   ]
  },
  {
   "cell_type": "code",
   "execution_count": 15,
   "id": "40158c44",
   "metadata": {
    "scrolled": true
   },
   "outputs": [
    {
     "data": {
      "image/png": "[encoded data removed]",
      "text/plain": [
       "<Figure size 432x288 with 1 Axes>"
      ]
     },
     "metadata": {
      "needs_background": "light"
     },
     "output_type": "display_data"
    }
   ],
   "source": [
    "# Compare histograms of bootstrap and meangrade\n",
    "means.meangrade.hist(histtype='step')\n",
    "bootstrap.meangrade.hist(histtype='step');"
   ]
  },
  {
   "cell_type": "markdown",
   "id": "5d3d30c7",
   "metadata": {},
   "source": [
    "We can see the two sampling distributions are misplaced by the spreads are comparable which justifies our confidence interval."
   ]
  },
  {
   "cell_type": "markdown",
   "id": "ff5903ff",
   "metadata": {},
   "source": [
    "<br>\n",
    "\n",
    "___\n",
    "#### End."
   ]
  }
 ],
 "metadata": {
  "kernelspec": {
   "display_name": "Python 3",
   "language": "python",
   "name": "python3"
  },
  "language_info": {
   "codemirror_mode": {
    "name": "ipython",
    "version": 3
   },
   "file_extension": ".py",
   "mimetype": "text/x-python",
   "name": "python",
   "nbconvert_exporter": "python",
   "pygments_lexer": "ipython3",
   "version": "3.8.8"
  }
 },
 "nbformat": 4,
 "nbformat_minor": 5
}
